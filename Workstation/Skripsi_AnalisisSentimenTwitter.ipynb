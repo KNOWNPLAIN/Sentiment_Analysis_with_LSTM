{
 "cells": [
  {
   "attachments": {},
   "cell_type": "markdown",
   "metadata": {},
   "source": [
    "# **Table of Contents**"
   ]
  },
  {
   "attachments": {},
   "cell_type": "markdown",
   "metadata": {},
   "source": [
    "## **1. Business Understanding**"
   ]
  },
  {
   "attachments": {},
   "cell_type": "markdown",
   "metadata": {},
   "source": [
    "## **2. Data Understanding**"
   ]
  },
  {
   "attachments": {},
   "cell_type": "markdown",
   "metadata": {},
   "source": [
    "## **3. Data Preprocessing**"
   ]
  },
  {
   "attachments": {},
   "cell_type": "markdown",
   "metadata": {},
   "source": [
    "### **3.1 Import Library**"
   ]
  },
  {
   "cell_type": "code",
   "execution_count": 1,
   "metadata": {},
   "outputs": [
    {
     "name": "stderr",
     "output_type": "stream",
     "text": [
      "[nltk_data] Downloading package stopwords to\n",
      "[nltk_data]     C:\\Users\\ashia\\AppData\\Roaming\\nltk_data...\n",
      "[nltk_data]   Package stopwords is already up-to-date!\n"
     ]
    }
   ],
   "source": [
    "# Scraping data from twitter\n",
    "# import snscrape\n",
    "import snscrape.modules.twitter as sntwitter\n",
    "\n",
    "# Data manipulation\n",
    "import pandas as pd\n",
    "import numpy as np\n",
    "\n",
    "# Data visualization\n",
    "import matplotlib.pyplot as plt\n",
    "import seaborn as sns\n",
    "import plotly.express as px\n",
    "from wordcloud import WordCloud, STOPWORDS, ImageColorGenerator\n",
    "\n",
    "# Text preprocessing\n",
    "import re\n",
    "import nltk\n",
    "nltk.download('stopwords')\n",
    "from nltk.corpus import stopwords\n",
    "from nltk.tokenize import word_tokenize\n",
    "from nltk.classify import SklearnClassifier\n",
    "from nltk.sentiment.vader import SentimentIntensityAnalyzer\n",
    "\n",
    "from Sastrawi.Stemmer.StemmerFactory import StemmerFactory"
   ]
  },
  {
   "attachments": {},
   "cell_type": "markdown",
   "metadata": {},
   "source": [
    "### **3.2 Scrapping Data**"
   ]
  },
  {
   "cell_type": "code",
   "execution_count": 2,
   "metadata": {},
   "outputs": [],
   "source": [
    "# # API\n",
    "# api_key = \"UcctOMgqRKStNA4qSUZ5AMQan\"\n",
    "# api_key_secret = \"J9ScFPUN5dtovcuco31xZn0s0TB3oKLHUUop8kiu8W8QfueTTw\"\n",
    "# access_token = \"2923944534-bV7LaWPsL5Blqtn7aLUQt3fbPCOvAz0oI9d9hbp\"\n",
    "# access_token_secret = \"MA6MUgJc43m8XyjDdrmOMODQLoNx1rYEcFIP1aWfuA7CN\"\n",
    "# bearer_token = \"AAAAAAAAAAAAAAAAAAAAAAKZmQEAAAAAe6G3iQXqblnt7I%2FQ6EU%2BR%2FtVd5Y%3Dah4BXNsdCZ90oQ9q4ui0J9m662PNiDzoWdO3ahodsvOxH2TUrM\"\n",
    "# client_id = \"UXN1Q21ubjBxdHdYdmtpREdoYmM6MTpjaQ\"\n",
    "# client_secret = \"BGuZcFso-C6XlG0Y4ffKI5jrTBGQaJ4RA_NX_47Y8HLMWG-88N\""
   ]
  },
  {
   "cell_type": "code",
   "execution_count": 3,
   "metadata": {},
   "outputs": [],
   "source": [
    "# # Scrapping data from twitter with SNScrape\n",
    "# scraper = sntwitter.TwitterSearchScraper('kemenkeu lang:id -filter:links')\n",
    "\n",
    "# # Get the data\n",
    "# tweet_df = []\n",
    "# for i,tweet in enumerate(scraper.get_items()):\n",
    "#     data = [\n",
    "#         tweet.id,\n",
    "#         tweet.user.username,\n",
    "#         tweet.content,\n",
    "#         tweet.date\n",
    "#     ]\n",
    "\n",
    "#     tweet_df.append(data)\n",
    "#     if i > 2000:\n",
    "#         break\n",
    "    \n",
    "# # Create dataframe\n",
    "# tweet_df = pd.DataFrame(tweet_df, columns=['id', 'username', 'content', 'date'])\n",
    "# tweet_df.head()"
   ]
  },
  {
   "cell_type": "code",
   "execution_count": 4,
   "metadata": {},
   "outputs": [],
   "source": [
    "# # Save to csv\n",
    "# import os.path\n",
    "# tweet_df.to_csv(os.path.join('E:\\KAMPUS\\BERKAS - BERKAS\\Skripsi\\Dataset', 'tweet_df_kemenkeu.csv'), index=False)"
   ]
  },
  {
   "attachments": {},
   "cell_type": "markdown",
   "metadata": {},
   "source": [
    "### **3.3 Data Review & Cleaning**"
   ]
  },
  {
   "attachments": {},
   "cell_type": "markdown",
   "metadata": {},
   "source": [
    "#### **3.3.1 Data Review**"
   ]
  },
  {
   "cell_type": "code",
   "execution_count": 5,
   "metadata": {},
   "outputs": [],
   "source": [
    "# Import dataset\n",
    "df = pd.read_csv(r\"E:\\KAMPUS\\BERKAS - BERKAS\\Skripsi\\Dataset\\tweet_df_kemenkeu.csv\")"
   ]
  },
  {
   "cell_type": "code",
   "execution_count": 6,
   "metadata": {},
   "outputs": [
    {
     "name": "stdout",
     "output_type": "stream",
     "text": [
      "Shape of the data:  (2002, 4)\n"
     ]
    }
   ],
   "source": [
    "# Shape of the data\n",
    "print(\"Shape of the data: \", df.shape)"
   ]
  },
  {
   "cell_type": "code",
   "execution_count": 7,
   "metadata": {},
   "outputs": [
    {
     "data": {
      "text/html": [
       "<div>\n",
       "<style scoped>\n",
       "    .dataframe tbody tr th:only-of-type {\n",
       "        vertical-align: middle;\n",
       "    }\n",
       "\n",
       "    .dataframe tbody tr th {\n",
       "        vertical-align: top;\n",
       "    }\n",
       "\n",
       "    .dataframe thead th {\n",
       "        text-align: right;\n",
       "    }\n",
       "</style>\n",
       "<table border=\"1\" class=\"dataframe\">\n",
       "  <thead>\n",
       "    <tr style=\"text-align: right;\">\n",
       "      <th></th>\n",
       "      <th>id</th>\n",
       "      <th>username</th>\n",
       "      <th>content</th>\n",
       "      <th>date</th>\n",
       "    </tr>\n",
       "  </thead>\n",
       "  <tbody>\n",
       "    <tr>\n",
       "      <th>80</th>\n",
       "      <td>1643229023856902147</td>\n",
       "      <td>shiyaaap</td>\n",
       "      <td>@bagiwang @gfuzuli @eselon_musk @PNS_Ababil Yg 27 selain kemenkeu apa aja?</td>\n",
       "      <td>2023-04-04 12:28:23+00:00</td>\n",
       "    </tr>\n",
       "    <tr>\n",
       "      <th>733</th>\n",
       "      <td>1642319588481458176</td>\n",
       "      <td>sulaimanariefst</td>\n",
       "      <td>@jokowi Harusnya 200jt cukup bisa buat bahagia kan ? Drpd kalau tanding terus kalah dan gak dpt apa apa ? Ini hasil terbaik, apalagi ditawari ditawari jd ASN pajak, bea cukai, kemenkeu dan polisi, inilah jalan kekayaan yg hakiki !!</td>\n",
       "      <td>2023-04-02 00:14:37+00:00</td>\n",
       "    </tr>\n",
       "    <tr>\n",
       "      <th>813</th>\n",
       "      <td>1642238063366787072</td>\n",
       "      <td>GintingDudi</td>\n",
       "      <td>@giginpraginanto Mungkinkah @DitjenPajakRI @beacukaiRI @pertamina atau dana CSR perusahaan milik @KemenBUMN jd ATM para pencuri sehingga duit negara sll dlm keadaan darurat? Klo @kemenkeu ngundang artis utk nyanyi, apa iya klo duit negara sdg darurat? rakyat sll jd sasaran penyiksaan utk dpt duit</td>\n",
       "      <td>2023-04-01 18:50:40+00:00</td>\n",
       "    </tr>\n",
       "    <tr>\n",
       "      <th>1635</th>\n",
       "      <td>1641630304090861569</td>\n",
       "      <td>Umbisabar</td>\n",
       "      <td>@Jenengsinggawe @HermesWijaya @Dany35160046 @PNS_Garis_Lucu Sewot bgt ya tuhan. Apa jangan2 lu yg iri? Alumni stan yg ga dapet kemenkeu ya lu? 😭🙏🏻🙏🏻</td>\n",
       "      <td>2023-03-31 02:35:39+00:00</td>\n",
       "    </tr>\n",
       "    <tr>\n",
       "      <th>750</th>\n",
       "      <td>1642302053820301313</td>\n",
       "      <td>Zbinz5</td>\n",
       "      <td>@mohmahfudmd Masalahnya dilematis.Selama ini kemenkeu tdk terawasi dgn baik.KLD termasuk APIP spt BPKP pada takut dgn Kemenkeu,termasuk BPK,karena kemenkeu berwenang menentukan anggaran KLD sehingga KLD tdk berani dgn mereka.Bisa dibayangkan bgmn akibatnya jk orang2 pintar tp tdk diawasi.</td>\n",
       "      <td>2023-04-01 23:04:56+00:00</td>\n",
       "    </tr>\n",
       "  </tbody>\n",
       "</table>\n",
       "</div>"
      ],
      "text/plain": [
       "                       id         username  \\\n",
       "80    1643229023856902147         shiyaaap   \n",
       "733   1642319588481458176  sulaimanariefst   \n",
       "813   1642238063366787072      GintingDudi   \n",
       "1635  1641630304090861569        Umbisabar   \n",
       "750   1642302053820301313           Zbinz5   \n",
       "\n",
       "                                                                                                                                                                                                                                                                                                        content  \\\n",
       "80                                                                                                                                                                                                                                   @bagiwang @gfuzuli @eselon_musk @PNS_Ababil Yg 27 selain kemenkeu apa aja?   \n",
       "733                                                                     @jokowi Harusnya 200jt cukup bisa buat bahagia kan ? Drpd kalau tanding terus kalah dan gak dpt apa apa ? Ini hasil terbaik, apalagi ditawari ditawari jd ASN pajak, bea cukai, kemenkeu dan polisi, inilah jalan kekayaan yg hakiki !!   \n",
       "813   @giginpraginanto Mungkinkah @DitjenPajakRI @beacukaiRI @pertamina atau dana CSR perusahaan milik @KemenBUMN jd ATM para pencuri sehingga duit negara sll dlm keadaan darurat? Klo @kemenkeu ngundang artis utk nyanyi, apa iya klo duit negara sdg darurat? rakyat sll jd sasaran penyiksaan utk dpt duit   \n",
       "1635                                                                                                                                                       @Jenengsinggawe @HermesWijaya @Dany35160046 @PNS_Garis_Lucu Sewot bgt ya tuhan. Apa jangan2 lu yg iri? Alumni stan yg ga dapet kemenkeu ya lu? 😭🙏🏻🙏🏻   \n",
       "750           @mohmahfudmd Masalahnya dilematis.Selama ini kemenkeu tdk terawasi dgn baik.KLD termasuk APIP spt BPKP pada takut dgn Kemenkeu,termasuk BPK,karena kemenkeu berwenang menentukan anggaran KLD sehingga KLD tdk berani dgn mereka.Bisa dibayangkan bgmn akibatnya jk orang2 pintar tp tdk diawasi.   \n",
       "\n",
       "                           date  \n",
       "80    2023-04-04 12:28:23+00:00  \n",
       "733   2023-04-02 00:14:37+00:00  \n",
       "813   2023-04-01 18:50:40+00:00  \n",
       "1635  2023-03-31 02:35:39+00:00  \n",
       "750   2023-04-01 23:04:56+00:00  "
      ]
     },
     "execution_count": 7,
     "metadata": {},
     "output_type": "execute_result"
    }
   ],
   "source": [
    "# Print the first 5 rows and show all content\n",
    "pd.set_option('display.max_colwidth', None)\n",
    "\n",
    "# # Show 5 random rows\n",
    "df.sample(5)\n",
    "\n",
    "# df.head()"
   ]
  },
  {
   "cell_type": "code",
   "execution_count": 8,
   "metadata": {},
   "outputs": [
    {
     "name": "stdout",
     "output_type": "stream",
     "text": [
      "<class 'pandas.core.frame.DataFrame'>\n",
      "RangeIndex: 2002 entries, 0 to 2001\n",
      "Data columns (total 4 columns):\n",
      " #   Column    Non-Null Count  Dtype \n",
      "---  ------    --------------  ----- \n",
      " 0   id        2002 non-null   int64 \n",
      " 1   username  2002 non-null   object\n",
      " 2   content   2002 non-null   object\n",
      " 3   date      2002 non-null   object\n",
      "dtypes: int64(1), object(3)\n",
      "memory usage: 62.7+ KB\n"
     ]
    }
   ],
   "source": [
    "# Check the data\n",
    "df.info()"
   ]
  },
  {
   "cell_type": "code",
   "execution_count": 9,
   "metadata": {},
   "outputs": [
    {
     "data": {
      "text/plain": [
       "id          0\n",
       "username    0\n",
       "content     0\n",
       "date        0\n",
       "dtype: int64"
      ]
     },
     "execution_count": 9,
     "metadata": {},
     "output_type": "execute_result"
    }
   ],
   "source": [
    "# Check null value\n",
    "df.isnull().sum()"
   ]
  },
  {
   "cell_type": "code",
   "execution_count": 10,
   "metadata": {},
   "outputs": [
    {
     "data": {
      "text/plain": [
       "0"
      ]
     },
     "execution_count": 10,
     "metadata": {},
     "output_type": "execute_result"
    }
   ],
   "source": [
    "# Check duplicate value\n",
    "df.duplicated().sum()"
   ]
  },
  {
   "cell_type": "code",
   "execution_count": 11,
   "metadata": {},
   "outputs": [
    {
     "data": {
      "text/html": [
       "<div>\n",
       "<style scoped>\n",
       "    .dataframe tbody tr th:only-of-type {\n",
       "        vertical-align: middle;\n",
       "    }\n",
       "\n",
       "    .dataframe tbody tr th {\n",
       "        vertical-align: top;\n",
       "    }\n",
       "\n",
       "    .dataframe thead th {\n",
       "        text-align: right;\n",
       "    }\n",
       "</style>\n",
       "<table border=\"1\" class=\"dataframe\">\n",
       "  <thead>\n",
       "    <tr style=\"text-align: right;\">\n",
       "      <th></th>\n",
       "      <th>id</th>\n",
       "      <th>username</th>\n",
       "      <th>content</th>\n",
       "      <th>date</th>\n",
       "    </tr>\n",
       "  </thead>\n",
       "  <tbody>\n",
       "  </tbody>\n",
       "</table>\n",
       "</div>"
      ],
      "text/plain": [
       "Empty DataFrame\n",
       "Columns: [id, username, content, date]\n",
       "Index: []"
      ]
     },
     "execution_count": 11,
     "metadata": {},
     "output_type": "execute_result"
    }
   ],
   "source": [
    "# Check empty string in content column\n",
    "df[df['content'] == '']"
   ]
  },
  {
   "attachments": {},
   "cell_type": "markdown",
   "metadata": {},
   "source": [
    "**Simpulan**\n",
    "\n",
    "Data yang diambil sebanyak 2002 baris dan 4 kolom."
   ]
  },
  {
   "cell_type": "code",
   "execution_count": 12,
   "metadata": {},
   "outputs": [
    {
     "data": {
      "text/html": [
       "<div>\n",
       "<style scoped>\n",
       "    .dataframe tbody tr th:only-of-type {\n",
       "        vertical-align: middle;\n",
       "    }\n",
       "\n",
       "    .dataframe tbody tr th {\n",
       "        vertical-align: top;\n",
       "    }\n",
       "\n",
       "    .dataframe thead th {\n",
       "        text-align: right;\n",
       "    }\n",
       "</style>\n",
       "<table border=\"1\" class=\"dataframe\">\n",
       "  <thead>\n",
       "    <tr style=\"text-align: right;\">\n",
       "      <th></th>\n",
       "      <th>username</th>\n",
       "      <th>content</th>\n",
       "    </tr>\n",
       "  </thead>\n",
       "  <tbody>\n",
       "    <tr>\n",
       "      <th>0</th>\n",
       "      <td>p023456</td>\n",
       "      <td>@detikcom Gpp.. yg penting 946 org pegawai kemenkeu itu yg terlibat di 300 trilyun itu  dipenjara dulu, baru lapor spt.</td>\n",
       "    </tr>\n",
       "    <tr>\n",
       "      <th>1</th>\n",
       "      <td>masharyanto</td>\n",
       "      <td>Seumpama Mario Dandy tidak berulah, akankan kemenkeu berubah?</td>\n",
       "    </tr>\n",
       "    <tr>\n",
       "      <th>2</th>\n",
       "      <td>msaid_didu</td>\n",
       "      <td>Sepertinya pengembangan opini akan kehebatan Ibu Sri Mulyani dimanfaatkan oleh pegawai kemenkeu yg nakal untuk \"merampok\" keuangan negara, sementara Bu Sri menikmati pujian tsb dan lalai mengawasi anak buah.</td>\n",
       "    </tr>\n",
       "    <tr>\n",
       "      <th>3</th>\n",
       "      <td>SaifuddinSay</td>\n",
       "      <td>@DIDIK_RODENT @03__nakula @ex_AnakLolina Persis kayak transaksi ilegal 349 triliun di Kemenkeu. Maling2nya diangkat jadi pejabat? 🤭</td>\n",
       "    </tr>\n",
       "    <tr>\n",
       "      <th>4</th>\n",
       "      <td>transproyekata</td>\n",
       "      <td>@Partono_ADjem @DitjenPajakRI @KemenkeuRI Mereka ini juga gak kalah sengsara kerja lembur sampe malam kayak petugas pajak. Biji mata sama² melotot depan monitor harusnya dirayakan juga dengan apresiasi tinggi dari entah Kemenkeu atau dikbudnas.</td>\n",
       "    </tr>\n",
       "  </tbody>\n",
       "</table>\n",
       "</div>"
      ],
      "text/plain": [
       "         username  \\\n",
       "0         p023456   \n",
       "1     masharyanto   \n",
       "2      msaid_didu   \n",
       "3    SaifuddinSay   \n",
       "4  transproyekata   \n",
       "\n",
       "                                                                                                                                                                                                                                                content  \n",
       "0                                                                                                                               @detikcom Gpp.. yg penting 946 org pegawai kemenkeu itu yg terlibat di 300 trilyun itu  dipenjara dulu, baru lapor spt.  \n",
       "1                                                                                                                                                                                         Seumpama Mario Dandy tidak berulah, akankan kemenkeu berubah?  \n",
       "2                                       Sepertinya pengembangan opini akan kehebatan Ibu Sri Mulyani dimanfaatkan oleh pegawai kemenkeu yg nakal untuk \"merampok\" keuangan negara, sementara Bu Sri menikmati pujian tsb dan lalai mengawasi anak buah.  \n",
       "3                                                                                                                   @DIDIK_RODENT @03__nakula @ex_AnakLolina Persis kayak transaksi ilegal 349 triliun di Kemenkeu. Maling2nya diangkat jadi pejabat? 🤭  \n",
       "4  @Partono_ADjem @DitjenPajakRI @KemenkeuRI Mereka ini juga gak kalah sengsara kerja lembur sampe malam kayak petugas pajak. Biji mata sama² melotot depan monitor harusnya dirayakan juga dengan apresiasi tinggi dari entah Kemenkeu atau dikbudnas.  "
      ]
     },
     "execution_count": 12,
     "metadata": {},
     "output_type": "execute_result"
    }
   ],
   "source": [
    "# Drop column id and date in tweet_df\n",
    "df.drop(['id', 'date'], axis=1, inplace=True)\n",
    "df.head()"
   ]
  },
  {
   "cell_type": "code",
   "execution_count": 13,
   "metadata": {},
   "outputs": [],
   "source": [
    "# # Export the new dataset to the new file\n",
    "# df.to_csv('real_dataset_sentiment.csv', index=False)"
   ]
  },
  {
   "cell_type": "code",
   "execution_count": 14,
   "metadata": {},
   "outputs": [],
   "source": [
    "# Import the new dataset\n",
    "tweet_df = pd.read_csv(r'E:\\KAMPUS\\BERKAS - BERKAS\\Skripsi\\Dataset\\real_dataset_sentiment.csv')"
   ]
  },
  {
   "cell_type": "code",
   "execution_count": 15,
   "metadata": {},
   "outputs": [
    {
     "data": {
      "text/html": [
       "<div>\n",
       "<style scoped>\n",
       "    .dataframe tbody tr th:only-of-type {\n",
       "        vertical-align: middle;\n",
       "    }\n",
       "\n",
       "    .dataframe tbody tr th {\n",
       "        vertical-align: top;\n",
       "    }\n",
       "\n",
       "    .dataframe thead th {\n",
       "        text-align: right;\n",
       "    }\n",
       "</style>\n",
       "<table border=\"1\" class=\"dataframe\">\n",
       "  <thead>\n",
       "    <tr style=\"text-align: right;\">\n",
       "      <th></th>\n",
       "      <th>username</th>\n",
       "      <th>content</th>\n",
       "      <th>sentiment</th>\n",
       "    </tr>\n",
       "  </thead>\n",
       "  <tbody>\n",
       "    <tr>\n",
       "      <th>0</th>\n",
       "      <td>p023456</td>\n",
       "      <td>@detikcom Gpp.. yg penting 946 org pegawai kemenkeu itu yg terlibat di 300 trilyun itu  dipenjara dulu, baru lapor spt.</td>\n",
       "      <td>Positif</td>\n",
       "    </tr>\n",
       "    <tr>\n",
       "      <th>1</th>\n",
       "      <td>masharyanto</td>\n",
       "      <td>Seumpama Mario Dandy tidak berulah, akankan kemenkeu berubah?</td>\n",
       "      <td>Negatif</td>\n",
       "    </tr>\n",
       "    <tr>\n",
       "      <th>2</th>\n",
       "      <td>msaid_didu</td>\n",
       "      <td>Sepertinya pengembangan opini akan kehebatan Ibu Sri Mulyani dimanfaatkan oleh pegawai kemenkeu yg nakal untuk \"merampok\" keuangan negara, sementara Bu Sri menikmati pujian tsb dan lalai mengawasi anak buah.</td>\n",
       "      <td>Positif</td>\n",
       "    </tr>\n",
       "    <tr>\n",
       "      <th>3</th>\n",
       "      <td>SaifuddinSay</td>\n",
       "      <td>@DIDIK_RODENT @03__nakula @ex_AnakLolina Persis kayak transaksi ilegal 349 triliun di Kemenkeu. Maling2nya diangkat jadi pejabat? 🤭</td>\n",
       "      <td>Negatif</td>\n",
       "    </tr>\n",
       "    <tr>\n",
       "      <th>4</th>\n",
       "      <td>transproyekata</td>\n",
       "      <td>@Partono_ADjem @DitjenPajakRI @KemenkeuRI Mereka ini juga gak kalah sengsara kerja lembur sampe malam kayak petugas pajak. Biji mata sama² melotot depan monitor harusnya dirayakan juga dengan apresiasi tinggi dari entah Kemenkeu atau dikbudnas.</td>\n",
       "      <td>Positif</td>\n",
       "    </tr>\n",
       "  </tbody>\n",
       "</table>\n",
       "</div>"
      ],
      "text/plain": [
       "         username  \\\n",
       "0         p023456   \n",
       "1     masharyanto   \n",
       "2      msaid_didu   \n",
       "3    SaifuddinSay   \n",
       "4  transproyekata   \n",
       "\n",
       "                                                                                                                                                                                                                                                content  \\\n",
       "0                                                                                                                               @detikcom Gpp.. yg penting 946 org pegawai kemenkeu itu yg terlibat di 300 trilyun itu  dipenjara dulu, baru lapor spt.   \n",
       "1                                                                                                                                                                                         Seumpama Mario Dandy tidak berulah, akankan kemenkeu berubah?   \n",
       "2                                       Sepertinya pengembangan opini akan kehebatan Ibu Sri Mulyani dimanfaatkan oleh pegawai kemenkeu yg nakal untuk \"merampok\" keuangan negara, sementara Bu Sri menikmati pujian tsb dan lalai mengawasi anak buah.   \n",
       "3                                                                                                                   @DIDIK_RODENT @03__nakula @ex_AnakLolina Persis kayak transaksi ilegal 349 triliun di Kemenkeu. Maling2nya diangkat jadi pejabat? 🤭   \n",
       "4  @Partono_ADjem @DitjenPajakRI @KemenkeuRI Mereka ini juga gak kalah sengsara kerja lembur sampe malam kayak petugas pajak. Biji mata sama² melotot depan monitor harusnya dirayakan juga dengan apresiasi tinggi dari entah Kemenkeu atau dikbudnas.   \n",
       "\n",
       "  sentiment  \n",
       "0   Positif  \n",
       "1   Negatif  \n",
       "2   Positif  \n",
       "3   Negatif  \n",
       "4   Positif  "
      ]
     },
     "execution_count": 15,
     "metadata": {},
     "output_type": "execute_result"
    }
   ],
   "source": [
    "tweet_df.head()"
   ]
  },
  {
   "cell_type": "code",
   "execution_count": 16,
   "metadata": {},
   "outputs": [
    {
     "data": {
      "text/plain": [
       "username     0\n",
       "content      0\n",
       "sentiment    0\n",
       "dtype: int64"
      ]
     },
     "execution_count": 16,
     "metadata": {},
     "output_type": "execute_result"
    }
   ],
   "source": [
    "# Check null value in tweet_df\n",
    "tweet_df.isnull().sum()"
   ]
  },
  {
   "cell_type": "code",
   "execution_count": 17,
   "metadata": {},
   "outputs": [
    {
     "data": {
      "text/html": [
       "<div>\n",
       "<style scoped>\n",
       "    .dataframe tbody tr th:only-of-type {\n",
       "        vertical-align: middle;\n",
       "    }\n",
       "\n",
       "    .dataframe tbody tr th {\n",
       "        vertical-align: top;\n",
       "    }\n",
       "\n",
       "    .dataframe thead th {\n",
       "        text-align: right;\n",
       "    }\n",
       "</style>\n",
       "<table border=\"1\" class=\"dataframe\">\n",
       "  <thead>\n",
       "    <tr style=\"text-align: right;\">\n",
       "      <th></th>\n",
       "      <th>username</th>\n",
       "      <th>content</th>\n",
       "      <th>sentiment</th>\n",
       "    </tr>\n",
       "  </thead>\n",
       "  <tbody>\n",
       "    <tr>\n",
       "      <th>1</th>\n",
       "      <td>masharyanto</td>\n",
       "      <td>Seumpama Mario Dandy tidak berulah, akankan kemenkeu berubah?</td>\n",
       "      <td>Negatif</td>\n",
       "    </tr>\n",
       "    <tr>\n",
       "      <th>3</th>\n",
       "      <td>SaifuddinSay</td>\n",
       "      <td>@DIDIK_RODENT @03__nakula @ex_AnakLolina Persis kayak transaksi ilegal 349 triliun di Kemenkeu. Maling2nya diangkat jadi pejabat? 🤭</td>\n",
       "      <td>Negatif</td>\n",
       "    </tr>\n",
       "    <tr>\n",
       "      <th>6</th>\n",
       "      <td>Jak_kustar</td>\n",
       "      <td>@mulaigoyang @fajarnugros Kemenkeu bermasalah zaman Sby lgs dipecat akhirnya kabur ke Amrik. Skrg ditarik lagi 2 periode. Yg dibahas hambalang kerugian 8M apa ya lupa. Ini ratusan T. Wkwkwkwkwk makin mahir</td>\n",
       "      <td>Negatif</td>\n",
       "    </tr>\n",
       "    <tr>\n",
       "      <th>7</th>\n",
       "      <td>bonniebulb</td>\n",
       "      <td>@chenoa2104 @GeiszChalifah Intinya mau kriminalisasi Anies...lagi dicari2 motifnya... kenapa itu Kemenkeu yg segitu banyak trilyun ga dikerjain...jgn sampe kerja krn ada yg bayar ya</td>\n",
       "      <td>Negatif</td>\n",
       "    </tr>\n",
       "    <tr>\n",
       "      <th>11</th>\n",
       "      <td>AaGemss</td>\n",
       "      <td>@KemenkeuRI Mau menarik simpati umat Islam? gak gini caranya bro haha\\n\\nKemenkeu ini ibarat orang yang udah mau tenggelam, apa aja dipegang dan dilakuin biar bisa selamat 🤣</td>\n",
       "      <td>Negatif</td>\n",
       "    </tr>\n",
       "  </tbody>\n",
       "</table>\n",
       "</div>"
      ],
      "text/plain": [
       "        username  \\\n",
       "1    masharyanto   \n",
       "3   SaifuddinSay   \n",
       "6     Jak_kustar   \n",
       "7     bonniebulb   \n",
       "11       AaGemss   \n",
       "\n",
       "                                                                                                                                                                                                          content  \\\n",
       "1                                                                                                                                                   Seumpama Mario Dandy tidak berulah, akankan kemenkeu berubah?   \n",
       "3                                                                             @DIDIK_RODENT @03__nakula @ex_AnakLolina Persis kayak transaksi ilegal 349 triliun di Kemenkeu. Maling2nya diangkat jadi pejabat? 🤭   \n",
       "6   @mulaigoyang @fajarnugros Kemenkeu bermasalah zaman Sby lgs dipecat akhirnya kabur ke Amrik. Skrg ditarik lagi 2 periode. Yg dibahas hambalang kerugian 8M apa ya lupa. Ini ratusan T. Wkwkwkwkwk makin mahir   \n",
       "7                           @chenoa2104 @GeiszChalifah Intinya mau kriminalisasi Anies...lagi dicari2 motifnya... kenapa itu Kemenkeu yg segitu banyak trilyun ga dikerjain...jgn sampe kerja krn ada yg bayar ya   \n",
       "11                                  @KemenkeuRI Mau menarik simpati umat Islam? gak gini caranya bro haha\\n\\nKemenkeu ini ibarat orang yang udah mau tenggelam, apa aja dipegang dan dilakuin biar bisa selamat 🤣   \n",
       "\n",
       "   sentiment  \n",
       "1    Negatif  \n",
       "3    Negatif  \n",
       "6    Negatif  \n",
       "7    Negatif  \n",
       "11   Negatif  "
      ]
     },
     "execution_count": 17,
     "metadata": {},
     "output_type": "execute_result"
    }
   ],
   "source": [
    "# Show negatif sentiment\n",
    "negatif = tweet_df[tweet_df['sentiment'] == 'Negatif']\n",
    "negatif.head()"
   ]
  },
  {
   "cell_type": "code",
   "execution_count": 18,
   "metadata": {},
   "outputs": [
    {
     "data": {
      "text/html": [
       "<div>\n",
       "<style scoped>\n",
       "    .dataframe tbody tr th:only-of-type {\n",
       "        vertical-align: middle;\n",
       "    }\n",
       "\n",
       "    .dataframe tbody tr th {\n",
       "        vertical-align: top;\n",
       "    }\n",
       "\n",
       "    .dataframe thead th {\n",
       "        text-align: right;\n",
       "    }\n",
       "</style>\n",
       "<table border=\"1\" class=\"dataframe\">\n",
       "  <thead>\n",
       "    <tr style=\"text-align: right;\">\n",
       "      <th></th>\n",
       "      <th>username</th>\n",
       "      <th>content</th>\n",
       "      <th>sentiment</th>\n",
       "    </tr>\n",
       "  </thead>\n",
       "  <tbody>\n",
       "    <tr>\n",
       "      <th>0</th>\n",
       "      <td>p023456</td>\n",
       "      <td>@detikcom Gpp.. yg penting 946 org pegawai kemenkeu itu yg terlibat di 300 trilyun itu  dipenjara dulu, baru lapor spt.</td>\n",
       "      <td>Positif</td>\n",
       "    </tr>\n",
       "    <tr>\n",
       "      <th>2</th>\n",
       "      <td>msaid_didu</td>\n",
       "      <td>Sepertinya pengembangan opini akan kehebatan Ibu Sri Mulyani dimanfaatkan oleh pegawai kemenkeu yg nakal untuk \"merampok\" keuangan negara, sementara Bu Sri menikmati pujian tsb dan lalai mengawasi anak buah.</td>\n",
       "      <td>Positif</td>\n",
       "    </tr>\n",
       "    <tr>\n",
       "      <th>4</th>\n",
       "      <td>transproyekata</td>\n",
       "      <td>@Partono_ADjem @DitjenPajakRI @KemenkeuRI Mereka ini juga gak kalah sengsara kerja lembur sampe malam kayak petugas pajak. Biji mata sama² melotot depan monitor harusnya dirayakan juga dengan apresiasi tinggi dari entah Kemenkeu atau dikbudnas.</td>\n",
       "      <td>Positif</td>\n",
       "    </tr>\n",
       "    <tr>\n",
       "      <th>5</th>\n",
       "      <td>rudijntm</td>\n",
       "      <td>@RamliRizal Buktiin om rizal 349T drmana aja, itu baru data awal dan itupun yg request juga dr internal kemenkeu sendiri untuk pengembangan kasus fraud</td>\n",
       "      <td>Positif</td>\n",
       "    </tr>\n",
       "    <tr>\n",
       "      <th>8</th>\n",
       "      <td>collegemenfess</td>\n",
       "      <td>[cm] temen temen di sini ada yang ikutan magang kemenkeu waktu batch 1 kemarin ngga ya? kalau ada rep ya, aku mau nanya nanya\\nterima kasih 🙏🏻</td>\n",
       "      <td>Positif</td>\n",
       "    </tr>\n",
       "    <tr>\n",
       "      <th>9</th>\n",
       "      <td>PajakBengkulu2</td>\n",
       "      <td>Acara ini ditujukan kepada para UMKM Binaan seluruh Instansi Kementerian Keuangan di Provinsi Bengkulu. KPP Pratama Bengkulu Dua bersama Kemenkeu Satu Bengkulu mendukung pemberdayaan UMKM di Provinsi Bengkulu.</td>\n",
       "      <td>Positif</td>\n",
       "    </tr>\n",
       "    <tr>\n",
       "      <th>10</th>\n",
       "      <td>CacingWormy</td>\n",
       "      <td>@heru_hasnul @tukangbaca2000 @PartaiSocmed Kata siapa ada tekanan hebat? Kenapa sekarang ada kasus 349 T di kemenkeu, KPK gak ngambil kasus itu? Terus kalo seandainya gak ada kasus penganiayaan David, apakah KPK bisa nangkep Rafael? Selama ini KPK ngapain aja?</td>\n",
       "      <td>Positif</td>\n",
       "    </tr>\n",
       "    <tr>\n",
       "      <th>16</th>\n",
       "      <td>HaderaH4</td>\n",
       "      <td>@kumparan Super betul pak. Usul saja : klw bs intenskan pengawasan, sapatau sj ada \"mmmm\" sprti yg dialami Kemenkeu.🤔</td>\n",
       "      <td>Positif</td>\n",
       "    </tr>\n",
       "    <tr>\n",
       "      <th>18</th>\n",
       "      <td>AuslanderDon</td>\n",
       "      <td>kemenkeu, kominfo, esdm, bpkp</td>\n",
       "      <td>Positif</td>\n",
       "    </tr>\n",
       "    <tr>\n",
       "      <th>19</th>\n",
       "      <td>ViezIkmar</td>\n",
       "      <td>@AqiaqiH Formula E terus di ributin..sementara Kasus 349 T di Kemenkeu di suruh stop...</td>\n",
       "      <td>Positif</td>\n",
       "    </tr>\n",
       "  </tbody>\n",
       "</table>\n",
       "</div>"
      ],
      "text/plain": [
       "          username  \\\n",
       "0          p023456   \n",
       "2       msaid_didu   \n",
       "4   transproyekata   \n",
       "5         rudijntm   \n",
       "8   collegemenfess   \n",
       "9   PajakBengkulu2   \n",
       "10     CacingWormy   \n",
       "16        HaderaH4   \n",
       "18    AuslanderDon   \n",
       "19       ViezIkmar   \n",
       "\n",
       "                                                                                                                                                                                                                                                                 content  \\\n",
       "0                                                                                                                                                @detikcom Gpp.. yg penting 946 org pegawai kemenkeu itu yg terlibat di 300 trilyun itu  dipenjara dulu, baru lapor spt.   \n",
       "2                                                        Sepertinya pengembangan opini akan kehebatan Ibu Sri Mulyani dimanfaatkan oleh pegawai kemenkeu yg nakal untuk \"merampok\" keuangan negara, sementara Bu Sri menikmati pujian tsb dan lalai mengawasi anak buah.   \n",
       "4                   @Partono_ADjem @DitjenPajakRI @KemenkeuRI Mereka ini juga gak kalah sengsara kerja lembur sampe malam kayak petugas pajak. Biji mata sama² melotot depan monitor harusnya dirayakan juga dengan apresiasi tinggi dari entah Kemenkeu atau dikbudnas.   \n",
       "5                                                                                                                @RamliRizal Buktiin om rizal 349T drmana aja, itu baru data awal dan itupun yg request juga dr internal kemenkeu sendiri untuk pengembangan kasus fraud   \n",
       "8                                                                                                                         [cm] temen temen di sini ada yang ikutan magang kemenkeu waktu batch 1 kemarin ngga ya? kalau ada rep ya, aku mau nanya nanya\\nterima kasih 🙏🏻   \n",
       "9                                                      Acara ini ditujukan kepada para UMKM Binaan seluruh Instansi Kementerian Keuangan di Provinsi Bengkulu. KPP Pratama Bengkulu Dua bersama Kemenkeu Satu Bengkulu mendukung pemberdayaan UMKM di Provinsi Bengkulu.   \n",
       "10  @heru_hasnul @tukangbaca2000 @PartaiSocmed Kata siapa ada tekanan hebat? Kenapa sekarang ada kasus 349 T di kemenkeu, KPK gak ngambil kasus itu? Terus kalo seandainya gak ada kasus penganiayaan David, apakah KPK bisa nangkep Rafael? Selama ini KPK ngapain aja?   \n",
       "16                                                                                                                                                 @kumparan Super betul pak. Usul saja : klw bs intenskan pengawasan, sapatau sj ada \"mmmm\" sprti yg dialami Kemenkeu.🤔   \n",
       "18                                                                                                                                                                                                                                         kemenkeu, kominfo, esdm, bpkp   \n",
       "19                                                                                                                                                                               @AqiaqiH Formula E terus di ributin..sementara Kasus 349 T di Kemenkeu di suruh stop...   \n",
       "\n",
       "   sentiment  \n",
       "0    Positif  \n",
       "2    Positif  \n",
       "4    Positif  \n",
       "5    Positif  \n",
       "8    Positif  \n",
       "9    Positif  \n",
       "10   Positif  \n",
       "16   Positif  \n",
       "18   Positif  \n",
       "19   Positif  "
      ]
     },
     "execution_count": 18,
     "metadata": {},
     "output_type": "execute_result"
    }
   ],
   "source": [
    "# Show positif sentiment\n",
    "tweet_df[tweet_df['sentiment'] == 'Positif'].head(10)"
   ]
  },
  {
   "attachments": {},
   "cell_type": "markdown",
   "metadata": {},
   "source": [
    "#### **3.3.2 Content/Text Cleaning**\n",
    "1. Remove URL\n",
    "2. Remove Mentions\n",
    "2. Remove HTML Tag\n",
    "3. Remove Number\n",
    "4. Remove Punctuation\n",
    "5. Remove Whitespace Leading & Trailing\n",
    "6. Remove Emoji"
   ]
  },
  {
   "cell_type": "code",
   "execution_count": 19,
   "metadata": {},
   "outputs": [
    {
     "data": {
      "text/plain": [
       "0"
      ]
     },
     "execution_count": 19,
     "metadata": {},
     "output_type": "execute_result"
    }
   ],
   "source": [
    "# Check duplicate\n",
    "tweet_df.duplicated().sum()"
   ]
  },
  {
   "cell_type": "code",
   "execution_count": 20,
   "metadata": {},
   "outputs": [
    {
     "name": "stderr",
     "output_type": "stream",
     "text": [
      "<ipython-input-20-e029475d1b15>:2: FutureWarning: The default value of regex will change from True to False in a future version.\n",
      "  tweet_df['content'] = tweet_df['content'].str.replace(r'http\\S+', '', case=False)\n",
      "<ipython-input-20-e029475d1b15>:5: FutureWarning: The default value of regex will change from True to False in a future version.\n",
      "  tweet_df['content'] = tweet_df['content'].str.replace(r'@\\S+', '', case=False)\n",
      "<ipython-input-20-e029475d1b15>:8: FutureWarning: The default value of regex will change from True to False in a future version.\n",
      "  tweet_df['content'] = tweet_df['content'].str.replace(r'<.*?>', '', case=False)\n",
      "<ipython-input-20-e029475d1b15>:11: FutureWarning: The default value of regex will change from True to False in a future version.\n",
      "  tweet_df['content'] = tweet_df['content'].str.replace(r'\\d+', '', case=False)\n",
      "<ipython-input-20-e029475d1b15>:14: FutureWarning: The default value of regex will change from True to False in a future version.\n",
      "  tweet_df['content'] = tweet_df['content'].str.replace(r'[^\\w\\s]', '', case=False)\n",
      "<ipython-input-20-e029475d1b15>:17: FutureWarning: The default value of regex will change from True to False in a future version.\n",
      "  tweet_df['content'] = tweet_df['content'].str.replace(r'\\s+', ' ', case=False)\n"
     ]
    }
   ],
   "source": [
    "# Remove url from content column\n",
    "tweet_df['content'] = tweet_df['content'].str.replace(r'http\\S+', '', case=False)\n",
    "\n",
    "# Remove User Mentions from content column\n",
    "tweet_df['content'] = tweet_df['content'].str.replace(r'@\\S+', '', case=False)\n",
    "\n",
    "# Remove HTML tag from content column\n",
    "tweet_df['content'] = tweet_df['content'].str.replace(r'<.*?>', '', case=False)\n",
    "\n",
    "# Remove number from content column\n",
    "tweet_df['content'] = tweet_df['content'].str.replace(r'\\d+', '', case=False)\n",
    "\n",
    "# Remove punctuation from content column\n",
    "tweet_df['content'] = tweet_df['content'].str.replace(r'[^\\w\\s]', '', case=False)\n",
    "\n",
    "# Remove whitespace from content column\n",
    "tweet_df['content'] = tweet_df['content'].str.replace(r'\\s+', ' ', case=False)\n",
    "\n",
    "# Remove Emojis from content column\n",
    "def remove_emoji(string):\n",
    "    emoji_pattern = re.compile(\"[\"\n",
    "        u\"\\U0001F600-\\U0001F64F\"  # emoticons\n",
    "        u\"\\U0001F300-\\U0001F5FF\"  # symbols & pictographs\n",
    "        u\"\\U0001F680-\\U0001F6FF\"  # transport & map symbols\n",
    "        u\"\\U0001F1E0-\\U0001F1FF\"  # flags (iOS)\n",
    "                           \"]+\", flags=re.UNICODE)\n",
    "    return emoji_pattern.sub(r'', string)\n",
    "\n",
    "tweet_df['content'] = tweet_df['content'].apply(remove_emoji)"
   ]
  },
  {
   "cell_type": "code",
   "execution_count": 21,
   "metadata": {},
   "outputs": [
    {
     "name": "stdout",
     "output_type": "stream",
     "text": [
      "Shape of the data:  (2002, 3)\n"
     ]
    }
   ],
   "source": [
    "# Shape of the data\n",
    "print(\"Shape of the data: \", tweet_df.shape)"
   ]
  },
  {
   "attachments": {},
   "cell_type": "markdown",
   "metadata": {},
   "source": [
    "### **3.4 Content Preprocessing**"
   ]
  },
  {
   "cell_type": "markdown",
   "metadata": {},
   "source": [
    "#### **3.4.1 Another Cleaning**"
   ]
  },
  {
   "cell_type": "code",
   "execution_count": 22,
   "metadata": {},
   "outputs": [
    {
     "data": {
      "text/html": [
       "<div>\n",
       "<style scoped>\n",
       "    .dataframe tbody tr th:only-of-type {\n",
       "        vertical-align: middle;\n",
       "    }\n",
       "\n",
       "    .dataframe tbody tr th {\n",
       "        vertical-align: top;\n",
       "    }\n",
       "\n",
       "    .dataframe thead th {\n",
       "        text-align: right;\n",
       "    }\n",
       "</style>\n",
       "<table border=\"1\" class=\"dataframe\">\n",
       "  <thead>\n",
       "    <tr style=\"text-align: right;\">\n",
       "      <th></th>\n",
       "      <th>username</th>\n",
       "      <th>content</th>\n",
       "      <th>sentiment</th>\n",
       "    </tr>\n",
       "  </thead>\n",
       "  <tbody>\n",
       "    <tr>\n",
       "      <th>0</th>\n",
       "      <td>p023456</td>\n",
       "      <td>gpp yg penting org pegawai kemenkeu itu yg terlibat di trilyun itu dipenjara dulu baru lapor spt</td>\n",
       "      <td>Positif</td>\n",
       "    </tr>\n",
       "    <tr>\n",
       "      <th>1</th>\n",
       "      <td>masharyanto</td>\n",
       "      <td>seumpama mario dandy tidak berulah akankan kemenkeu berubah</td>\n",
       "      <td>Negatif</td>\n",
       "    </tr>\n",
       "    <tr>\n",
       "      <th>2</th>\n",
       "      <td>msaid_didu</td>\n",
       "      <td>sepertinya pengembangan opini akan kehebatan ibu sri mulyani dimanfaatkan oleh pegawai kemenkeu yg nakal untuk merampok keuangan negara sementara bu sri menikmati pujian tsb dan lalai mengawasi anak buah</td>\n",
       "      <td>Positif</td>\n",
       "    </tr>\n",
       "    <tr>\n",
       "      <th>3</th>\n",
       "      <td>SaifuddinSay</td>\n",
       "      <td>persis kayak transaksi ilegal triliun di kemenkeu malingnya diangkat jadi pejabat</td>\n",
       "      <td>Negatif</td>\n",
       "    </tr>\n",
       "    <tr>\n",
       "      <th>4</th>\n",
       "      <td>transproyekata</td>\n",
       "      <td>mereka ini juga gak kalah sengsara kerja lembur sampe malam kayak petugas pajak biji mata sama² melotot depan monitor harusnya dirayakan juga dengan apresiasi tinggi dari entah kemenkeu atau dikbudnas</td>\n",
       "      <td>Positif</td>\n",
       "    </tr>\n",
       "  </tbody>\n",
       "</table>\n",
       "</div>"
      ],
      "text/plain": [
       "         username  \\\n",
       "0         p023456   \n",
       "1     masharyanto   \n",
       "2      msaid_didu   \n",
       "3    SaifuddinSay   \n",
       "4  transproyekata   \n",
       "\n",
       "                                                                                                                                                                                                       content  \\\n",
       "0                                                                                                             gpp yg penting org pegawai kemenkeu itu yg terlibat di trilyun itu dipenjara dulu baru lapor spt   \n",
       "1                                                                                                                                                  seumpama mario dandy tidak berulah akankan kemenkeu berubah   \n",
       "2  sepertinya pengembangan opini akan kehebatan ibu sri mulyani dimanfaatkan oleh pegawai kemenkeu yg nakal untuk merampok keuangan negara sementara bu sri menikmati pujian tsb dan lalai mengawasi anak buah   \n",
       "3                                                                                                                           persis kayak transaksi ilegal triliun di kemenkeu malingnya diangkat jadi pejabat    \n",
       "4     mereka ini juga gak kalah sengsara kerja lembur sampe malam kayak petugas pajak biji mata sama² melotot depan monitor harusnya dirayakan juga dengan apresiasi tinggi dari entah kemenkeu atau dikbudnas   \n",
       "\n",
       "  sentiment  \n",
       "0   Positif  \n",
       "1   Negatif  \n",
       "2   Positif  \n",
       "3   Negatif  \n",
       "4   Positif  "
      ]
     },
     "execution_count": 22,
     "metadata": {},
     "output_type": "execute_result"
    }
   ],
   "source": [
    "# Case folding\n",
    "tweet_df['content'] = tweet_df['content'].str.lower()\n",
    "tweet_df.head()"
   ]
  },
  {
   "cell_type": "code",
   "execution_count": 23,
   "metadata": {},
   "outputs": [
    {
     "data": {
      "text/html": [
       "<div>\n",
       "<style scoped>\n",
       "    .dataframe tbody tr th:only-of-type {\n",
       "        vertical-align: middle;\n",
       "    }\n",
       "\n",
       "    .dataframe tbody tr th {\n",
       "        vertical-align: top;\n",
       "    }\n",
       "\n",
       "    .dataframe thead th {\n",
       "        text-align: right;\n",
       "    }\n",
       "</style>\n",
       "<table border=\"1\" class=\"dataframe\">\n",
       "  <thead>\n",
       "    <tr style=\"text-align: right;\">\n",
       "      <th></th>\n",
       "      <th>username</th>\n",
       "      <th>content</th>\n",
       "      <th>sentiment</th>\n",
       "      <th>token</th>\n",
       "    </tr>\n",
       "  </thead>\n",
       "  <tbody>\n",
       "    <tr>\n",
       "      <th>0</th>\n",
       "      <td>p023456</td>\n",
       "      <td>gpp yg penting org pegawai kemenkeu itu yg terlibat di trilyun itu dipenjara dulu baru lapor spt</td>\n",
       "      <td>Positif</td>\n",
       "      <td>[gpp, yg, penting, org, pegawai, kemenkeu, itu, yg, terlibat, di, trilyun, itu, dipenjara, dulu, baru, lapor, spt]</td>\n",
       "    </tr>\n",
       "    <tr>\n",
       "      <th>1</th>\n",
       "      <td>masharyanto</td>\n",
       "      <td>seumpama mario dandy tidak berulah akankan kemenkeu berubah</td>\n",
       "      <td>Negatif</td>\n",
       "      <td>[seumpama, mario, dandy, tidak, berulah, akankan, kemenkeu, berubah]</td>\n",
       "    </tr>\n",
       "    <tr>\n",
       "      <th>2</th>\n",
       "      <td>msaid_didu</td>\n",
       "      <td>sepertinya pengembangan opini akan kehebatan ibu sri mulyani dimanfaatkan oleh pegawai kemenkeu yg nakal untuk merampok keuangan negara sementara bu sri menikmati pujian tsb dan lalai mengawasi anak buah</td>\n",
       "      <td>Positif</td>\n",
       "      <td>[sepertinya, pengembangan, opini, akan, kehebatan, ibu, sri, mulyani, dimanfaatkan, oleh, pegawai, kemenkeu, yg, nakal, untuk, merampok, keuangan, negara, sementara, bu, sri, menikmati, pujian, tsb, dan, lalai, mengawasi, anak, buah]</td>\n",
       "    </tr>\n",
       "    <tr>\n",
       "      <th>3</th>\n",
       "      <td>SaifuddinSay</td>\n",
       "      <td>persis kayak transaksi ilegal triliun di kemenkeu malingnya diangkat jadi pejabat</td>\n",
       "      <td>Negatif</td>\n",
       "      <td>[persis, kayak, transaksi, ilegal, triliun, di, kemenkeu, malingnya, diangkat, jadi, pejabat]</td>\n",
       "    </tr>\n",
       "    <tr>\n",
       "      <th>4</th>\n",
       "      <td>transproyekata</td>\n",
       "      <td>mereka ini juga gak kalah sengsara kerja lembur sampe malam kayak petugas pajak biji mata sama² melotot depan monitor harusnya dirayakan juga dengan apresiasi tinggi dari entah kemenkeu atau dikbudnas</td>\n",
       "      <td>Positif</td>\n",
       "      <td>[mereka, ini, juga, gak, kalah, sengsara, kerja, lembur, sampe, malam, kayak, petugas, pajak, biji, mata, sama², melotot, depan, monitor, harusnya, dirayakan, juga, dengan, apresiasi, tinggi, dari, entah, kemenkeu, atau, dikbudnas]</td>\n",
       "    </tr>\n",
       "  </tbody>\n",
       "</table>\n",
       "</div>"
      ],
      "text/plain": [
       "         username  \\\n",
       "0         p023456   \n",
       "1     masharyanto   \n",
       "2      msaid_didu   \n",
       "3    SaifuddinSay   \n",
       "4  transproyekata   \n",
       "\n",
       "                                                                                                                                                                                                       content  \\\n",
       "0                                                                                                             gpp yg penting org pegawai kemenkeu itu yg terlibat di trilyun itu dipenjara dulu baru lapor spt   \n",
       "1                                                                                                                                                  seumpama mario dandy tidak berulah akankan kemenkeu berubah   \n",
       "2  sepertinya pengembangan opini akan kehebatan ibu sri mulyani dimanfaatkan oleh pegawai kemenkeu yg nakal untuk merampok keuangan negara sementara bu sri menikmati pujian tsb dan lalai mengawasi anak buah   \n",
       "3                                                                                                                           persis kayak transaksi ilegal triliun di kemenkeu malingnya diangkat jadi pejabat    \n",
       "4     mereka ini juga gak kalah sengsara kerja lembur sampe malam kayak petugas pajak biji mata sama² melotot depan monitor harusnya dirayakan juga dengan apresiasi tinggi dari entah kemenkeu atau dikbudnas   \n",
       "\n",
       "  sentiment  \\\n",
       "0   Positif   \n",
       "1   Negatif   \n",
       "2   Positif   \n",
       "3   Negatif   \n",
       "4   Positif   \n",
       "\n",
       "                                                                                                                                                                                                                                       token  \n",
       "0                                                                                                                         [gpp, yg, penting, org, pegawai, kemenkeu, itu, yg, terlibat, di, trilyun, itu, dipenjara, dulu, baru, lapor, spt]  \n",
       "1                                                                                                                                                                       [seumpama, mario, dandy, tidak, berulah, akankan, kemenkeu, berubah]  \n",
       "2  [sepertinya, pengembangan, opini, akan, kehebatan, ibu, sri, mulyani, dimanfaatkan, oleh, pegawai, kemenkeu, yg, nakal, untuk, merampok, keuangan, negara, sementara, bu, sri, menikmati, pujian, tsb, dan, lalai, mengawasi, anak, buah]  \n",
       "3                                                                                                                                              [persis, kayak, transaksi, ilegal, triliun, di, kemenkeu, malingnya, diangkat, jadi, pejabat]  \n",
       "4    [mereka, ini, juga, gak, kalah, sengsara, kerja, lembur, sampe, malam, kayak, petugas, pajak, biji, mata, sama², melotot, depan, monitor, harusnya, dirayakan, juga, dengan, apresiasi, tinggi, dari, entah, kemenkeu, atau, dikbudnas]  "
      ]
     },
     "execution_count": 23,
     "metadata": {},
     "output_type": "execute_result"
    }
   ],
   "source": [
    "# Tokenizing\n",
    "tweet_df['token'] = tweet_df['content'].apply(word_tokenize)\n",
    "tweet_df.head()"
   ]
  },
  {
   "cell_type": "code",
   "execution_count": 24,
   "metadata": {},
   "outputs": [
    {
     "name": "stdout",
     "output_type": "stream",
     "text": [
      "Wall time: 0 ns\n",
      "<class 'str'>\n",
      "<class 'dict'>\n"
     ]
    },
    {
     "data": {
      "text/html": [
       "<div>\n",
       "<style scoped>\n",
       "    .dataframe tbody tr th:only-of-type {\n",
       "        vertical-align: middle;\n",
       "    }\n",
       "\n",
       "    .dataframe tbody tr th {\n",
       "        vertical-align: top;\n",
       "    }\n",
       "\n",
       "    .dataframe thead th {\n",
       "        text-align: right;\n",
       "    }\n",
       "</style>\n",
       "<table border=\"1\" class=\"dataframe\">\n",
       "  <thead>\n",
       "    <tr style=\"text-align: right;\">\n",
       "      <th></th>\n",
       "      <th>username</th>\n",
       "      <th>content</th>\n",
       "      <th>sentiment</th>\n",
       "      <th>token</th>\n",
       "    </tr>\n",
       "  </thead>\n",
       "  <tbody>\n",
       "    <tr>\n",
       "      <th>0</th>\n",
       "      <td>p023456</td>\n",
       "      <td>gpp yg penting org pegawai kemenkeu itu yg terlibat di trilyun itu dipenjara dulu baru lapor spt</td>\n",
       "      <td>Positif</td>\n",
       "      <td>[tidak apa-apa, yang, penting, orang, pegawai, kemenkeu, itu, yang, terlibat, di, trilyun, itu, dipenjara, dulu, baru, lapor, seperti]</td>\n",
       "    </tr>\n",
       "    <tr>\n",
       "      <th>1</th>\n",
       "      <td>masharyanto</td>\n",
       "      <td>seumpama mario dandy tidak berulah akankan kemenkeu berubah</td>\n",
       "      <td>Negatif</td>\n",
       "      <td>[seumpama, mario, dandy, tidak, berulah, akankan, kemenkeu, berubah]</td>\n",
       "    </tr>\n",
       "    <tr>\n",
       "      <th>2</th>\n",
       "      <td>msaid_didu</td>\n",
       "      <td>sepertinya pengembangan opini akan kehebatan ibu sri mulyani dimanfaatkan oleh pegawai kemenkeu yg nakal untuk merampok keuangan negara sementara bu sri menikmati pujian tsb dan lalai mengawasi anak buah</td>\n",
       "      <td>Positif</td>\n",
       "      <td>[sepertinya, pengembangan, opini, akan, kehebatan, ibu, sri, mulyani, dimanfaatkan, oleh, pegawai, kemenkeu, yang, nakal, untuk, merampok, keuangan, negara, sementara, bu, sri, menikmati, pujian, tsb, dan, lalai, mengawasi, anak, buah]</td>\n",
       "    </tr>\n",
       "    <tr>\n",
       "      <th>3</th>\n",
       "      <td>SaifuddinSay</td>\n",
       "      <td>persis kayak transaksi ilegal triliun di kemenkeu malingnya diangkat jadi pejabat</td>\n",
       "      <td>Negatif</td>\n",
       "      <td>[persis, kayak, transaksi, ilegal, triliun, di, kemenkeu, malingnya, diangkat, jadi, pejabat]</td>\n",
       "    </tr>\n",
       "    <tr>\n",
       "      <th>4</th>\n",
       "      <td>transproyekata</td>\n",
       "      <td>mereka ini juga gak kalah sengsara kerja lembur sampe malam kayak petugas pajak biji mata sama² melotot depan monitor harusnya dirayakan juga dengan apresiasi tinggi dari entah kemenkeu atau dikbudnas</td>\n",
       "      <td>Positif</td>\n",
       "      <td>[mereka, ini, juga, gak, kalah, sengsara, kerja, lembur, sampai, malam, kayak, petugas, pajak, biji, mata, sama², melotot, depan, monitor, harusnya, dirayakan, juga, dengan, apresiasi, tinggi, dari, entah, kemenkeu, atau, dikbudnas]</td>\n",
       "    </tr>\n",
       "  </tbody>\n",
       "</table>\n",
       "</div>"
      ],
      "text/plain": [
       "         username  \\\n",
       "0         p023456   \n",
       "1     masharyanto   \n",
       "2      msaid_didu   \n",
       "3    SaifuddinSay   \n",
       "4  transproyekata   \n",
       "\n",
       "                                                                                                                                                                                                       content  \\\n",
       "0                                                                                                             gpp yg penting org pegawai kemenkeu itu yg terlibat di trilyun itu dipenjara dulu baru lapor spt   \n",
       "1                                                                                                                                                  seumpama mario dandy tidak berulah akankan kemenkeu berubah   \n",
       "2  sepertinya pengembangan opini akan kehebatan ibu sri mulyani dimanfaatkan oleh pegawai kemenkeu yg nakal untuk merampok keuangan negara sementara bu sri menikmati pujian tsb dan lalai mengawasi anak buah   \n",
       "3                                                                                                                           persis kayak transaksi ilegal triliun di kemenkeu malingnya diangkat jadi pejabat    \n",
       "4     mereka ini juga gak kalah sengsara kerja lembur sampe malam kayak petugas pajak biji mata sama² melotot depan monitor harusnya dirayakan juga dengan apresiasi tinggi dari entah kemenkeu atau dikbudnas   \n",
       "\n",
       "  sentiment  \\\n",
       "0   Positif   \n",
       "1   Negatif   \n",
       "2   Positif   \n",
       "3   Negatif   \n",
       "4   Positif   \n",
       "\n",
       "                                                                                                                                                                                                                                         token  \n",
       "0                                                                                                       [tidak apa-apa, yang, penting, orang, pegawai, kemenkeu, itu, yang, terlibat, di, trilyun, itu, dipenjara, dulu, baru, lapor, seperti]  \n",
       "1                                                                                                                                                                         [seumpama, mario, dandy, tidak, berulah, akankan, kemenkeu, berubah]  \n",
       "2  [sepertinya, pengembangan, opini, akan, kehebatan, ibu, sri, mulyani, dimanfaatkan, oleh, pegawai, kemenkeu, yang, nakal, untuk, merampok, keuangan, negara, sementara, bu, sri, menikmati, pujian, tsb, dan, lalai, mengawasi, anak, buah]  \n",
       "3                                                                                                                                                [persis, kayak, transaksi, ilegal, triliun, di, kemenkeu, malingnya, diangkat, jadi, pejabat]  \n",
       "4     [mereka, ini, juga, gak, kalah, sengsara, kerja, lembur, sampai, malam, kayak, petugas, pajak, biji, mata, sama², melotot, depan, monitor, harusnya, dirayakan, juga, dengan, apresiasi, tinggi, dari, entah, kemenkeu, atau, dikbudnas]  "
      ]
     },
     "execution_count": 24,
     "metadata": {},
     "output_type": "execute_result"
    }
   ],
   "source": [
    "# Open slang word dictionary in txt format\n",
    "%time\n",
    "import json\n",
    "\n",
    "with open(r\"E:\\KAMPUS\\BERKAS - BERKAS\\Skripsi\\Workstation\\NLP_bahasa_resources\\combined_slang_words.txt\", 'r') as f:\n",
    "    data = f.read()\n",
    "        \n",
    "# Print the dictionary\n",
    "print(type(data))\n",
    "\n",
    "# Reconstruct the dictionary\n",
    "slang_words = json.loads(data)\n",
    "print(type(slang_words))\n",
    "# print(slang_words[\"yg\"])\n",
    "\n",
    "# print(tweet_df.token[0][1])\n",
    "\n",
    "# Replace slang word with the original word in token column\n",
    "for i in slang_words:\n",
    "    for j in range(len(tweet_df)):\n",
    "        for k in range(len(tweet_df.token[j])):\n",
    "            if i == tweet_df.token[j][k]:\n",
    "                tweet_df.token[j][k] = slang_words[i]\n",
    "\n",
    "# print(len(tweet_df))\n",
    "\n",
    "# Check the data\n",
    "tweet_df.head()"
   ]
  },
  {
   "cell_type": "code",
   "execution_count": 25,
   "metadata": {},
   "outputs": [
    {
     "name": "stdout",
     "output_type": "stream",
     "text": [
      "758\n",
      "['ada', 'adalah', 'adanya', 'adapun', 'agak', 'agaknya', 'agar', 'akan', 'akankah', 'akhir', 'akhiri', 'akhirnya', 'aku', 'akulah', 'amat', 'amatlah', 'anda', 'andalah', 'antar', 'antara', 'antaranya', 'apa', 'apaan', 'apabila', 'apakah', 'apalagi', 'apatah', 'artinya', 'asal', 'asalkan', 'atas', 'atau', 'ataukah', 'ataupun', 'awal', 'awalnya', 'bagai', 'bagaikan', 'bagaimana', 'bagaimanakah', 'bagaimanapun', 'bagi', 'bagian', 'bahkan', 'bahwa', 'bahwasanya', 'baik', 'bakal', 'bakalan', 'balik', 'banyak', 'bapak', 'baru', 'bawah', 'beberapa', 'begini', 'beginian', 'beginikah', 'beginilah', 'begitu', 'begitukah', 'begitulah', 'begitupun', 'bekerja', 'belakang', 'belakangan', 'belum', 'belumlah', 'benar', 'benarkah', 'benarlah', 'berada', 'berakhir', 'berakhirlah', 'berakhirnya', 'berapa', 'berapakah', 'berapalah', 'berapapun', 'berarti', 'berawal', 'berbagai', 'berdatangan', 'beri', 'berikan', 'berikut', 'berikutnya', 'berjumlah', 'berkali-kali', 'berkata', 'berkehendak', 'berkeinginan', 'berkenaan', 'berlainan', 'berlalu', 'berlangsung', 'berlebihan', 'bermacam', 'bermacam-macam', 'bermaksud', 'bermula', 'bersama', 'bersama-sama', 'bersiap', 'bersiap-siap', 'bertanya', 'bertanya-tanya', 'berturut', 'berturut-turut', 'bertutur', 'berujar', 'berupa', 'besar', 'betul', 'betulkah', 'biasa', 'biasanya', 'bila', 'bilakah', 'bisa', 'bisakah', 'boleh', 'bolehkah', 'bolehlah', 'buat', 'bukan', 'bukankah', 'bukanlah', 'bukannya', 'bulan', 'bung', 'cara', 'caranya', 'cukup', 'cukupkah', 'cukuplah', 'cuma', 'dahulu', 'dalam', 'dan', 'dapat', 'dari', 'daripada', 'datang', 'dekat', 'demi', 'demikian', 'demikianlah', 'dengan', 'depan', 'di', 'dia', 'diakhiri', 'diakhirinya', 'dialah', 'diantara', 'diantaranya', 'diberi', 'diberikan', 'diberikannya', 'dibuat', 'dibuatnya', 'didapat', 'didatangkan', 'digunakan', 'diibaratkan', 'diibaratkannya', 'diingat', 'diingatkan', 'diinginkan', 'dijawab', 'dijelaskan', 'dijelaskannya', 'dikarenakan', 'dikatakan', 'dikatakannya', 'dikerjakan', 'diketahui', 'diketahuinya', 'dikira', 'dilakukan', 'dilalui', 'dilihat', 'dimaksud', 'dimaksudkan', 'dimaksudkannya', 'dimaksudnya', 'diminta', 'dimintai', 'dimisalkan', 'dimulai', 'dimulailah', 'dimulainya', 'dimungkinkan', 'dini', 'dipastikan', 'diperbuat', 'diperbuatnya', 'dipergunakan', 'diperkirakan', 'diperlihatkan', 'diperlukan', 'diperlukannya', 'dipersoalkan', 'dipertanyakan', 'dipunyai', 'diri', 'dirinya', 'disampaikan', 'disebut', 'disebutkan', 'disebutkannya', 'disini', 'disinilah', 'ditambahkan', 'ditandaskan', 'ditanya', 'ditanyai', 'ditanyakan', 'ditegaskan', 'ditujukan', 'ditunjuk', 'ditunjuki', 'ditunjukkan', 'ditunjukkannya', 'ditunjuknya', 'dituturkan', 'dituturkannya', 'diucapkan', 'diucapkannya', 'diungkapkan', 'dong', 'dua', 'dulu', 'empat', 'enggak', 'enggaknya', 'entah', 'entahlah', 'guna', 'gunakan', 'hal', 'hampir', 'hanya', 'hanyalah', 'hari', 'harus', 'haruslah', 'harusnya', 'hendak', 'hendaklah', 'hendaknya', 'hingga', 'ia', 'ialah', 'ibarat', 'ibaratkan', 'ibaratnya', 'ibu', 'ikut', 'ingat', 'ingat-ingat', 'ingin', 'inginkah', 'inginkan', 'ini', 'inikah', 'inilah', 'itu', 'itukah', 'itulah', 'jadi', 'jadilah', 'jadinya', 'jangan', 'jangankan', 'janganlah', 'jauh', 'jawab', 'jawaban', 'jawabnya', 'jelas', 'jelaskan', 'jelaslah', 'jelasnya', 'jika', 'jikalau', 'juga', 'jumlah', 'jumlahnya', 'justru', 'kala', 'kalau', 'kalaulah', 'kalaupun', 'kalian', 'kami', 'kamilah', 'kamu', 'kamulah', 'kan', 'kapan', 'kapankah', 'kapanpun', 'karena', 'karenanya', 'kasus', 'kata', 'katakan', 'katakanlah', 'katanya', 'ke', 'keadaan', 'kebetulan', 'kecil', 'kedua', 'keduanya', 'keinginan', 'kelamaan', 'kelihatan', 'kelihatannya', 'kelima', 'keluar', 'kembali', 'kemudian', 'kemungkinan', 'kemungkinannya', 'kenapa', 'kepada', 'kepadanya', 'kesampaian', 'keseluruhan', 'keseluruhannya', 'keterlaluan', 'ketika', 'khususnya', 'kini', 'kinilah', 'kira', 'kira-kira', 'kiranya', 'kita', 'kitalah', 'kok', 'kurang', 'lagi', 'lagian', 'lah', 'lain', 'lainnya', 'lalu', 'lama', 'lamanya', 'lanjut', 'lanjutnya', 'lebih', 'lewat', 'lima', 'luar', 'macam', 'maka', 'makanya', 'makin', 'malah', 'malahan', 'mampu', 'mampukah', 'mana', 'manakala', 'manalagi', 'masa', 'masalah', 'masalahnya', 'masih', 'masihkah', 'masing', 'masing-masing', 'mau', 'maupun', 'melainkan', 'melakukan', 'melalui', 'melihat', 'melihatnya', 'memang', 'memastikan', 'memberi', 'memberikan', 'membuat', 'memerlukan', 'memihak', 'meminta', 'memintakan', 'memisalkan', 'memperbuat', 'mempergunakan', 'memperkirakan', 'memperlihatkan', 'mempersiapkan', 'mempersoalkan', 'mempertanyakan', 'mempunyai', 'memulai', 'memungkinkan', 'menaiki', 'menambahkan', 'menandaskan', 'menanti', 'menanti-nanti', 'menantikan', 'menanya', 'menanyai', 'menanyakan', 'mendapat', 'mendapatkan', 'mendatang', 'mendatangi', 'mendatangkan', 'menegaskan', 'mengakhiri', 'mengapa', 'mengatakan', 'mengatakannya', 'mengenai', 'mengerjakan', 'mengetahui', 'menggunakan', 'menghendaki', 'mengibaratkan', 'mengibaratkannya', 'mengingat', 'mengingatkan', 'menginginkan', 'mengira', 'mengucapkan', 'mengucapkannya', 'mengungkapkan', 'menjadi', 'menjawab', 'menjelaskan', 'menuju', 'menunjuk', 'menunjuki', 'menunjukkan', 'menunjuknya', 'menurut', 'menuturkan', 'menyampaikan', 'menyangkut', 'menyatakan', 'menyebutkan', 'menyeluruh', 'menyiapkan', 'merasa', 'mereka', 'merekalah', 'merupakan', 'meski', 'meskipun', 'meyakini', 'meyakinkan', 'minta', 'mirip', 'misal', 'misalkan', 'misalnya', 'mula', 'mulai', 'mulailah', 'mulanya', 'mungkin', 'mungkinkah', 'nah', 'naik', 'namun', 'nanti', 'nantinya', 'nyaris', 'nyatanya', 'oleh', 'olehnya', 'pada', 'padahal', 'padanya', 'pak', 'paling', 'panjang', 'pantas', 'para', 'pasti', 'pastilah', 'penting', 'pentingnya', 'per', 'percuma', 'perlu', 'perlukah', 'perlunya', 'pernah', 'persoalan', 'pertama', 'pertama-tama', 'pertanyaan', 'pertanyakan', 'pihak', 'pihaknya', 'pukul', 'pula', 'pun', 'punya', 'rasa', 'rasanya', 'rata', 'rupanya', 'saat', 'saatnya', 'saja', 'sajalah', 'saling', 'sama', 'sama-sama', 'sambil', 'sampai', 'sampai-sampai', 'sampaikan', 'sana', 'sangat', 'sangatlah', 'satu', 'saya', 'sayalah', 'se', 'sebab', 'sebabnya', 'sebagai', 'sebagaimana', 'sebagainya', 'sebagian', 'sebaik', 'sebaik-baiknya', 'sebaiknya', 'sebaliknya', 'sebanyak', 'sebegini', 'sebegitu', 'sebelum', 'sebelumnya', 'sebenarnya', 'seberapa', 'sebesar', 'sebetulnya', 'sebisanya', 'sebuah', 'sebut', 'sebutlah', 'sebutnya', 'secara', 'secukupnya', 'sedang', 'sedangkan', 'sedemikian', 'sedikit', 'sedikitnya', 'seenaknya', 'segala', 'segalanya', 'segera', 'seharusnya', 'sehingga', 'seingat', 'sejak', 'sejauh', 'sejenak', 'sejumlah', 'sekadar', 'sekadarnya', 'sekali', 'sekali-kali', 'sekalian', 'sekaligus', 'sekalipun', 'sekarang', 'sekarang', 'sekecil', 'seketika', 'sekiranya', 'sekitar', 'sekitarnya', 'sekurang-kurangnya', 'sekurangnya', 'sela', 'selain', 'selaku', 'selalu', 'selama', 'selama-lamanya', 'selamanya', 'selanjutnya', 'seluruh', 'seluruhnya', 'semacam', 'semakin', 'semampu', 'semampunya', 'semasa', 'semasih', 'semata', 'semata-mata', 'semaunya', 'sementara', 'semisal', 'semisalnya', 'sempat', 'semua', 'semuanya', 'semula', 'sendiri', 'sendirian', 'sendirinya', 'seolah', 'seolah-olah', 'seorang', 'sepanjang', 'sepantasnya', 'sepantasnyalah', 'seperlunya', 'seperti', 'sepertinya', 'sepihak', 'sering', 'seringnya', 'serta', 'serupa', 'sesaat', 'sesama', 'sesampai', 'sesegera', 'sesekali', 'seseorang', 'sesuatu', 'sesuatunya', 'sesudah', 'sesudahnya', 'setelah', 'setempat', 'setengah', 'seterusnya', 'setiap', 'setiba', 'setibanya', 'setidak-tidaknya', 'setidaknya', 'setinggi', 'seusai', 'sewaktu', 'siap', 'siapa', 'siapakah', 'siapapun', 'sini', 'sinilah', 'soal', 'soalnya', 'suatu', 'sudah', 'sudahkah', 'sudahlah', 'supaya', 'tadi', 'tadinya', 'tahu', 'tahun', 'tak', 'tambah', 'tambahnya', 'tampak', 'tampaknya', 'tandas', 'tandasnya', 'tanpa', 'tanya', 'tanyakan', 'tanyanya', 'tapi', 'tegas', 'tegasnya', 'telah', 'tempat', 'tengah', 'tentang', 'tentu', 'tentulah', 'tentunya', 'tepat', 'terakhir', 'terasa', 'terbanyak', 'terdahulu', 'terdapat', 'terdiri', 'terhadap', 'terhadapnya', 'teringat', 'teringat-ingat', 'terjadi', 'terjadilah', 'terjadinya', 'terkira', 'terlalu', 'terlebih', 'terlihat', 'termasuk', 'ternyata', 'tersampaikan', 'tersebut', 'tersebutlah', 'tertentu', 'tertuju', 'terus', 'terutama', 'tetap', 'tetapi', 'tiap', 'tiba', 'tiba-tiba', 'tidak', 'tidakkah', 'tidaklah', 'tiga', 'tinggi', 'toh', 'tunjuk', 'turut', 'tutur', 'tuturnya', 'ucap', 'ucapnya', 'ujar', 'ujarnya', 'umum', 'umumnya', 'ungkap', 'ungkapnya', 'untuk', 'usah', 'usai', 'waduh', 'wah', 'wahai', 'waktu', 'waktunya', 'walau', 'walaupun', 'wong', 'yaitu', 'yakin', 'yakni', 'yang']\n"
     ]
    },
    {
     "data": {
      "text/html": [
       "<div>\n",
       "<style scoped>\n",
       "    .dataframe tbody tr th:only-of-type {\n",
       "        vertical-align: middle;\n",
       "    }\n",
       "\n",
       "    .dataframe tbody tr th {\n",
       "        vertical-align: top;\n",
       "    }\n",
       "\n",
       "    .dataframe thead th {\n",
       "        text-align: right;\n",
       "    }\n",
       "</style>\n",
       "<table border=\"1\" class=\"dataframe\">\n",
       "  <thead>\n",
       "    <tr style=\"text-align: right;\">\n",
       "      <th></th>\n",
       "      <th>username</th>\n",
       "      <th>content</th>\n",
       "      <th>sentiment</th>\n",
       "      <th>token</th>\n",
       "    </tr>\n",
       "  </thead>\n",
       "  <tbody>\n",
       "    <tr>\n",
       "      <th>0</th>\n",
       "      <td>p023456</td>\n",
       "      <td>gpp yg penting org pegawai kemenkeu itu yg terlibat di trilyun itu dipenjara dulu baru lapor spt</td>\n",
       "      <td>Positif</td>\n",
       "      <td>[tidak apa-apa, orang, pegawai, kemenkeu, terlibat, trilyun, dipenjara, lapor]</td>\n",
       "    </tr>\n",
       "    <tr>\n",
       "      <th>1</th>\n",
       "      <td>masharyanto</td>\n",
       "      <td>seumpama mario dandy tidak berulah akankan kemenkeu berubah</td>\n",
       "      <td>Negatif</td>\n",
       "      <td>[seumpama, mario, dandy, berulah, akankan, kemenkeu, berubah]</td>\n",
       "    </tr>\n",
       "    <tr>\n",
       "      <th>2</th>\n",
       "      <td>msaid_didu</td>\n",
       "      <td>sepertinya pengembangan opini akan kehebatan ibu sri mulyani dimanfaatkan oleh pegawai kemenkeu yg nakal untuk merampok keuangan negara sementara bu sri menikmati pujian tsb dan lalai mengawasi anak buah</td>\n",
       "      <td>Positif</td>\n",
       "      <td>[pengembangan, opini, kehebatan, sri, mulyani, dimanfaatkan, pegawai, kemenkeu, nakal, merampok, keuangan, negara, bu, sri, menikmati, pujian, tsb, lalai, mengawasi, anak, buah]</td>\n",
       "    </tr>\n",
       "    <tr>\n",
       "      <th>3</th>\n",
       "      <td>SaifuddinSay</td>\n",
       "      <td>persis kayak transaksi ilegal triliun di kemenkeu malingnya diangkat jadi pejabat</td>\n",
       "      <td>Negatif</td>\n",
       "      <td>[persis, kayak, transaksi, ilegal, triliun, kemenkeu, malingnya, diangkat, pejabat]</td>\n",
       "    </tr>\n",
       "    <tr>\n",
       "      <th>4</th>\n",
       "      <td>transproyekata</td>\n",
       "      <td>mereka ini juga gak kalah sengsara kerja lembur sampe malam kayak petugas pajak biji mata sama² melotot depan monitor harusnya dirayakan juga dengan apresiasi tinggi dari entah kemenkeu atau dikbudnas</td>\n",
       "      <td>Positif</td>\n",
       "      <td>[gak, kalah, sengsara, kerja, lembur, malam, kayak, petugas, pajak, biji, mata, sama², melotot, monitor, dirayakan, apresiasi, kemenkeu, dikbudnas]</td>\n",
       "    </tr>\n",
       "  </tbody>\n",
       "</table>\n",
       "</div>"
      ],
      "text/plain": [
       "         username  \\\n",
       "0         p023456   \n",
       "1     masharyanto   \n",
       "2      msaid_didu   \n",
       "3    SaifuddinSay   \n",
       "4  transproyekata   \n",
       "\n",
       "                                                                                                                                                                                                       content  \\\n",
       "0                                                                                                             gpp yg penting org pegawai kemenkeu itu yg terlibat di trilyun itu dipenjara dulu baru lapor spt   \n",
       "1                                                                                                                                                  seumpama mario dandy tidak berulah akankan kemenkeu berubah   \n",
       "2  sepertinya pengembangan opini akan kehebatan ibu sri mulyani dimanfaatkan oleh pegawai kemenkeu yg nakal untuk merampok keuangan negara sementara bu sri menikmati pujian tsb dan lalai mengawasi anak buah   \n",
       "3                                                                                                                           persis kayak transaksi ilegal triliun di kemenkeu malingnya diangkat jadi pejabat    \n",
       "4     mereka ini juga gak kalah sengsara kerja lembur sampe malam kayak petugas pajak biji mata sama² melotot depan monitor harusnya dirayakan juga dengan apresiasi tinggi dari entah kemenkeu atau dikbudnas   \n",
       "\n",
       "  sentiment  \\\n",
       "0   Positif   \n",
       "1   Negatif   \n",
       "2   Positif   \n",
       "3   Negatif   \n",
       "4   Positif   \n",
       "\n",
       "                                                                                                                                                                               token  \n",
       "0                                                                                                     [tidak apa-apa, orang, pegawai, kemenkeu, terlibat, trilyun, dipenjara, lapor]  \n",
       "1                                                                                                                      [seumpama, mario, dandy, berulah, akankan, kemenkeu, berubah]  \n",
       "2  [pengembangan, opini, kehebatan, sri, mulyani, dimanfaatkan, pegawai, kemenkeu, nakal, merampok, keuangan, negara, bu, sri, menikmati, pujian, tsb, lalai, mengawasi, anak, buah]  \n",
       "3                                                                                                [persis, kayak, transaksi, ilegal, triliun, kemenkeu, malingnya, diangkat, pejabat]  \n",
       "4                                [gak, kalah, sengsara, kerja, lembur, malam, kayak, petugas, pajak, biji, mata, sama², melotot, monitor, dirayakan, apresiasi, kemenkeu, dikbudnas]  "
      ]
     },
     "execution_count": 25,
     "metadata": {},
     "output_type": "execute_result"
    }
   ],
   "source": [
    "# Check stopwords in Bahasa Indonesia\n",
    "stopwords = stopwords.words('indonesian')\n",
    "print(len(stopwords))\n",
    "print(stopwords)\n",
    "\n",
    "# Remove stopwords\n",
    "tweet_df['token'] = tweet_df['token'].apply(lambda x: [item for item in x if item not in stopwords])\n",
    "tweet_df.head()"
   ]
  },
  {
   "cell_type": "code",
   "execution_count": 26,
   "metadata": {},
   "outputs": [
    {
     "data": {
      "text/html": [
       "<div>\n",
       "<style scoped>\n",
       "    .dataframe tbody tr th:only-of-type {\n",
       "        vertical-align: middle;\n",
       "    }\n",
       "\n",
       "    .dataframe tbody tr th {\n",
       "        vertical-align: top;\n",
       "    }\n",
       "\n",
       "    .dataframe thead th {\n",
       "        text-align: right;\n",
       "    }\n",
       "</style>\n",
       "<table border=\"1\" class=\"dataframe\">\n",
       "  <thead>\n",
       "    <tr style=\"text-align: right;\">\n",
       "      <th></th>\n",
       "      <th>username</th>\n",
       "      <th>content</th>\n",
       "      <th>sentiment</th>\n",
       "      <th>token</th>\n",
       "      <th>stem</th>\n",
       "    </tr>\n",
       "  </thead>\n",
       "  <tbody>\n",
       "    <tr>\n",
       "      <th>0</th>\n",
       "      <td>p023456</td>\n",
       "      <td>gpp yg penting org pegawai kemenkeu itu yg terlibat di trilyun itu dipenjara dulu baru lapor spt</td>\n",
       "      <td>Positif</td>\n",
       "      <td>[tidak apa-apa, orang, pegawai, kemenkeu, terlibat, trilyun, dipenjara, lapor]</td>\n",
       "      <td>[tidak apa, orang, pegawai, kemenkeu, libat, trilyun, penjara, lapor]</td>\n",
       "    </tr>\n",
       "    <tr>\n",
       "      <th>1</th>\n",
       "      <td>masharyanto</td>\n",
       "      <td>seumpama mario dandy tidak berulah akankan kemenkeu berubah</td>\n",
       "      <td>Negatif</td>\n",
       "      <td>[seumpama, mario, dandy, berulah, akankan, kemenkeu, berubah]</td>\n",
       "      <td>[umpama, mario, dandy, ulah, akan, kemenkeu, ubah]</td>\n",
       "    </tr>\n",
       "    <tr>\n",
       "      <th>2</th>\n",
       "      <td>msaid_didu</td>\n",
       "      <td>sepertinya pengembangan opini akan kehebatan ibu sri mulyani dimanfaatkan oleh pegawai kemenkeu yg nakal untuk merampok keuangan negara sementara bu sri menikmati pujian tsb dan lalai mengawasi anak buah</td>\n",
       "      <td>Positif</td>\n",
       "      <td>[pengembangan, opini, kehebatan, sri, mulyani, dimanfaatkan, pegawai, kemenkeu, nakal, merampok, keuangan, negara, bu, sri, menikmati, pujian, tsb, lalai, mengawasi, anak, buah]</td>\n",
       "      <td>[kembang, opini, hebat, sri, mulyani, manfaat, pegawai, kemenkeu, nakal, rampok, uang, negara, bu, sri, nikmat, puji, tsb, lalai, awas, anak, buah]</td>\n",
       "    </tr>\n",
       "    <tr>\n",
       "      <th>3</th>\n",
       "      <td>SaifuddinSay</td>\n",
       "      <td>persis kayak transaksi ilegal triliun di kemenkeu malingnya diangkat jadi pejabat</td>\n",
       "      <td>Negatif</td>\n",
       "      <td>[persis, kayak, transaksi, ilegal, triliun, kemenkeu, malingnya, diangkat, pejabat]</td>\n",
       "      <td>[persis, kayak, transaksi, ilegal, triliun, kemenkeu, maling, angkat, jabat]</td>\n",
       "    </tr>\n",
       "    <tr>\n",
       "      <th>4</th>\n",
       "      <td>transproyekata</td>\n",
       "      <td>mereka ini juga gak kalah sengsara kerja lembur sampe malam kayak petugas pajak biji mata sama² melotot depan monitor harusnya dirayakan juga dengan apresiasi tinggi dari entah kemenkeu atau dikbudnas</td>\n",
       "      <td>Positif</td>\n",
       "      <td>[gak, kalah, sengsara, kerja, lembur, malam, kayak, petugas, pajak, biji, mata, sama², melotot, monitor, dirayakan, apresiasi, kemenkeu, dikbudnas]</td>\n",
       "      <td>[gak, kalah, sengsara, kerja, lembur, malam, kayak, tugas, pajak, biji, mata, sama, melotot, monitor, raya, apresiasi, kemenkeu, dikbudnas]</td>\n",
       "    </tr>\n",
       "  </tbody>\n",
       "</table>\n",
       "</div>"
      ],
      "text/plain": [
       "         username  \\\n",
       "0         p023456   \n",
       "1     masharyanto   \n",
       "2      msaid_didu   \n",
       "3    SaifuddinSay   \n",
       "4  transproyekata   \n",
       "\n",
       "                                                                                                                                                                                                       content  \\\n",
       "0                                                                                                             gpp yg penting org pegawai kemenkeu itu yg terlibat di trilyun itu dipenjara dulu baru lapor spt   \n",
       "1                                                                                                                                                  seumpama mario dandy tidak berulah akankan kemenkeu berubah   \n",
       "2  sepertinya pengembangan opini akan kehebatan ibu sri mulyani dimanfaatkan oleh pegawai kemenkeu yg nakal untuk merampok keuangan negara sementara bu sri menikmati pujian tsb dan lalai mengawasi anak buah   \n",
       "3                                                                                                                           persis kayak transaksi ilegal triliun di kemenkeu malingnya diangkat jadi pejabat    \n",
       "4     mereka ini juga gak kalah sengsara kerja lembur sampe malam kayak petugas pajak biji mata sama² melotot depan monitor harusnya dirayakan juga dengan apresiasi tinggi dari entah kemenkeu atau dikbudnas   \n",
       "\n",
       "  sentiment  \\\n",
       "0   Positif   \n",
       "1   Negatif   \n",
       "2   Positif   \n",
       "3   Negatif   \n",
       "4   Positif   \n",
       "\n",
       "                                                                                                                                                                               token  \\\n",
       "0                                                                                                     [tidak apa-apa, orang, pegawai, kemenkeu, terlibat, trilyun, dipenjara, lapor]   \n",
       "1                                                                                                                      [seumpama, mario, dandy, berulah, akankan, kemenkeu, berubah]   \n",
       "2  [pengembangan, opini, kehebatan, sri, mulyani, dimanfaatkan, pegawai, kemenkeu, nakal, merampok, keuangan, negara, bu, sri, menikmati, pujian, tsb, lalai, mengawasi, anak, buah]   \n",
       "3                                                                                                [persis, kayak, transaksi, ilegal, triliun, kemenkeu, malingnya, diangkat, pejabat]   \n",
       "4                                [gak, kalah, sengsara, kerja, lembur, malam, kayak, petugas, pajak, biji, mata, sama², melotot, monitor, dirayakan, apresiasi, kemenkeu, dikbudnas]   \n",
       "\n",
       "                                                                                                                                                  stem  \n",
       "0                                                                                [tidak apa, orang, pegawai, kemenkeu, libat, trilyun, penjara, lapor]  \n",
       "1                                                                                                   [umpama, mario, dandy, ulah, akan, kemenkeu, ubah]  \n",
       "2  [kembang, opini, hebat, sri, mulyani, manfaat, pegawai, kemenkeu, nakal, rampok, uang, negara, bu, sri, nikmat, puji, tsb, lalai, awas, anak, buah]  \n",
       "3                                                                         [persis, kayak, transaksi, ilegal, triliun, kemenkeu, maling, angkat, jabat]  \n",
       "4          [gak, kalah, sengsara, kerja, lembur, malam, kayak, tugas, pajak, biji, mata, sama, melotot, monitor, raya, apresiasi, kemenkeu, dikbudnas]  "
      ]
     },
     "execution_count": 26,
     "metadata": {},
     "output_type": "execute_result"
    }
   ],
   "source": [
    "# Stemming with Sastrawi\n",
    "factory = StemmerFactory()\n",
    "stemmer = factory.create_stemmer()\n",
    "\n",
    "tweet_df['stem'] = tweet_df['token'].apply(lambda x: [stemmer.stem(item) for item in x])\n",
    "tweet_df.head()"
   ]
  },
  {
   "attachments": {},
   "cell_type": "markdown",
   "metadata": {},
   "source": [
    "#### **3.4.2 WordCloud**"
   ]
  },
  {
   "cell_type": "code",
   "execution_count": 27,
   "metadata": {},
   "outputs": [],
   "source": [
    "def wordcloud_draw(data, color = 'black'):\n",
    "    words = ' '.join(data)\n",
    "    cleaned_word = \" \".join([word for word in words.split()\n",
    "                            if 'http' not in word\n",
    "                                and not word.startswith('@')\n",
    "                                and not word.startswith('#')\n",
    "                                and word != 'RT'\n",
    "                            ])\n",
    "    wordcloud = WordCloud(stopwords=STOPWORDS,\n",
    "                      background_color=color,\n",
    "                      width=2500,\n",
    "                      height=2000\n",
    "                     ).generate(cleaned_word)\n",
    "    plt.figure(1,figsize=(13, 13))\n",
    "    plt.imshow(wordcloud)\n",
    "    plt.axis('off')\n",
    "    plt.show()"
   ]
  },
  {
   "cell_type": "code",
   "execution_count": 28,
   "metadata": {},
   "outputs": [
    {
     "data": {
      "image/png": "[encoded data removed]",
      "text/plain": [
       "<Figure size 864x720 with 1 Axes>"
      ]
     },
     "metadata": {
      "needs_background": "light"
     },
     "output_type": "display_data"
    }
   ],
   "source": [
    "# Wordcloud for positif sentiment\n",
    "positive = tweet_df[tweet_df['sentiment'] == 'Positif']\n",
    "positive = positive['content'].str.cat(sep=' ')\n",
    "\n",
    "wordcloud = WordCloud(width=1600, height=800, max_font_size=200).generate(positive)\n",
    "plt.figure(figsize=(12,10))\n",
    "plt.imshow(wordcloud, interpolation=\"bilinear\")\n",
    "plt.axis(\"off\")\n",
    "plt.show()"
   ]
  },
  {
   "cell_type": "code",
   "execution_count": 29,
   "metadata": {},
   "outputs": [
    {
     "data": {
      "image/png": "[encoded data removed]",
      "text/plain": [
       "<Figure size 864x720 with 1 Axes>"
      ]
     },
     "metadata": {
      "needs_background": "light"
     },
     "output_type": "display_data"
    }
   ],
   "source": [
    "# Wordcloud for negatif sentiment\n",
    "negative = tweet_df[tweet_df['sentiment'] == 'Negatif']\n",
    "negative = negative['content'].str.cat(sep=' ')\n",
    "\n",
    "wordcloud = WordCloud(width=1600, height=800, max_font_size=200).generate(negative)\n",
    "plt.figure(figsize=(12,10))\n",
    "plt.imshow(wordcloud, interpolation=\"bilinear\")\n",
    "plt.axis(\"off\")\n",
    "plt.show()"
   ]
  },
  {
   "cell_type": "code",
   "execution_count": 30,
   "metadata": {},
   "outputs": [
    {
     "name": "stdout",
     "output_type": "stream",
     "text": [
      "0                                                                                                                                       [tidak apa, orang, pegawai, kemenkeu, libat, trilyun, penjara, lapor]\n",
      "1                                                                                                                                                          [umpama, mario, dandy, ulah, akan, kemenkeu, ubah]\n",
      "2                                                         [kembang, opini, hebat, sri, mulyani, manfaat, pegawai, kemenkeu, nakal, rampok, uang, negara, bu, sri, nikmat, puji, tsb, lalai, awas, anak, buah]\n",
      "3                                                                                                                                [persis, kayak, transaksi, ilegal, triliun, kemenkeu, maling, angkat, jabat]\n",
      "4                                                                 [gak, kalah, sengsara, kerja, lembur, malam, kayak, tugas, pajak, biji, mata, sama, melotot, monitor, raya, apresiasi, kemenkeu, dikbudnas]\n",
      "                                                                                                        ...                                                                                                  \n",
      "1997                                                                                                                                                                                 [badut, wakil, kemenkeu]\n",
      "1998                                                          [analitik, evello, simpul, kondisi, kemenkeu, ri, posisi, kritis, alas, rasional, emosional, kondisi, citra, kemenkeu, ri, ekspekstasi, publik]\n",
      "1999                                                                [sampai, kali, mahfud, rasional, tema, sifat, turun, citra, positif, detract, kemenkeu, ri, tutup, akses, informasi, bawah, sri, mulyani]\n",
      "2000    [nyata, mahfud, keliru, data, menteri, uang, sri, mulyani, milik, gaya, komunikasi, factoriented, dampak, kuat, topik, terima, publik, paham, kontroversi, transaksi, janggal, triliun, kemenkeu, ri]\n",
      "2001                                                             [coba, bongkar, entitas, trx, t, import, emas, gebyah, uyah, akan, t, dana, gelap, kemenkeu, fokus, laku, transaksi, kualitas, anggota, dpr]\n",
      "Name: stem, Length: 2002, dtype: object\n"
     ]
    }
   ],
   "source": [
    "# Extracting word features\n",
    "def get_words_in_tweets(tweets):\n",
    "    all = []\n",
    "    for (words, sentiment) in tweets:\n",
    "        all.extend(words)\n",
    "    return all\n",
    "\n",
    "def get_word_features(wordlist):\n",
    "    wordlist = nltk.FreqDist(wordlist)\n",
    "    features = wordlist.keys()\n",
    "    return features\n",
    "print(tweet_df['stem'])\n",
    "# w_features = get_word_features(get_words_in_tweets(tweet_df['stem']))\n",
    "\n",
    "def extract_features(document):\n",
    "    document_words = set(document)\n",
    "    features = {}\n",
    "    for word in w_features:\n",
    "        features['containts(%s)' % word] = (word in document_words)\n",
    "    return features\n"
   ]
  },
  {
   "cell_type": "code",
   "execution_count": 31,
   "metadata": {},
   "outputs": [],
   "source": [
    "# Wordcloud for w_features\n",
    "# wordcloud_draw(w_features)"
   ]
  },
  {
   "cell_type": "code",
   "execution_count": 32,
   "metadata": {},
   "outputs": [
    {
     "data": {
      "text/html": [
       "<style  type=\"text/css\" >\n",
       "#T_2d0de_row0_col1{\n",
       "            background-color:  #00441b;\n",
       "            color:  #f1f1f1;\n",
       "        }#T_2d0de_row1_col1{\n",
       "            background-color:  #ebf7e7;\n",
       "            color:  #000000;\n",
       "        }#T_2d0de_row2_col1,#T_2d0de_row3_col1{\n",
       "            background-color:  #eff9ec;\n",
       "            color:  #000000;\n",
       "        }#T_2d0de_row4_col1{\n",
       "            background-color:  #f0f9ed;\n",
       "            color:  #000000;\n",
       "        }#T_2d0de_row5_col1,#T_2d0de_row6_col1,#T_2d0de_row7_col1,#T_2d0de_row8_col1{\n",
       "            background-color:  #f1faee;\n",
       "            color:  #000000;\n",
       "        }#T_2d0de_row9_col1{\n",
       "            background-color:  #f2faf0;\n",
       "            color:  #000000;\n",
       "        }#T_2d0de_row10_col1,#T_2d0de_row11_col1{\n",
       "            background-color:  #f5fbf2;\n",
       "            color:  #000000;\n",
       "        }#T_2d0de_row12_col1,#T_2d0de_row13_col1{\n",
       "            background-color:  #f5fbf3;\n",
       "            color:  #000000;\n",
       "        }#T_2d0de_row14_col1,#T_2d0de_row15_col1,#T_2d0de_row16_col1{\n",
       "            background-color:  #f6fcf4;\n",
       "            color:  #000000;\n",
       "        }#T_2d0de_row17_col1,#T_2d0de_row18_col1,#T_2d0de_row19_col1{\n",
       "            background-color:  #f7fcf5;\n",
       "            color:  #000000;\n",
       "        }</style><table id=\"T_2d0de_\" ><thead>    <tr>        <th class=\"blank level0\" ></th>        <th class=\"col_heading level0 col0\" >Common_words</th>        <th class=\"col_heading level0 col1\" >count</th>    </tr></thead><tbody>\n",
       "                <tr>\n",
       "                        <th id=\"T_2d0de_level0_row0\" class=\"row_heading level0 row0\" >0</th>\n",
       "                        <td id=\"T_2d0de_row0_col0\" class=\"data row0 col0\" >kemenkeu</td>\n",
       "                        <td id=\"T_2d0de_row0_col1\" class=\"data row0 col1\" >842</td>\n",
       "            </tr>\n",
       "            <tr>\n",
       "                        <th id=\"T_2d0de_level0_row1\" class=\"row_heading level0 row1\" >1</th>\n",
       "                        <td id=\"T_2d0de_row1_col0\" class=\"data row1 col0\" >t</td>\n",
       "                        <td id=\"T_2d0de_row1_col1\" class=\"data row1 col1\" >118</td>\n",
       "            </tr>\n",
       "            <tr>\n",
       "                        <th id=\"T_2d0de_level0_row2\" class=\"row_heading level0 row2\" >2</th>\n",
       "                        <td id=\"T_2d0de_row2_col0\" class=\"data row2 col0\" >mahfud</td>\n",
       "                        <td id=\"T_2d0de_row2_col1\" class=\"data row2 col1\" >95</td>\n",
       "            </tr>\n",
       "            <tr>\n",
       "                        <th id=\"T_2d0de_level0_row3\" class=\"row_heading level0 row3\" >3</th>\n",
       "                        <td id=\"T_2d0de_row3_col0\" class=\"data row3 col0\" >uang</td>\n",
       "                        <td id=\"T_2d0de_row3_col1\" class=\"data row3 col1\" >94</td>\n",
       "            </tr>\n",
       "            <tr>\n",
       "                        <th id=\"T_2d0de_level0_row4\" class=\"row_heading level0 row4\" >4</th>\n",
       "                        <td id=\"T_2d0de_row4_col0\" class=\"data row4 col0\" >pajak</td>\n",
       "                        <td id=\"T_2d0de_row4_col1\" class=\"data row4 col1\" >90</td>\n",
       "            </tr>\n",
       "            <tr>\n",
       "                        <th id=\"T_2d0de_level0_row5\" class=\"row_heading level0 row5\" >5</th>\n",
       "                        <td id=\"T_2d0de_row5_col0\" class=\"data row5 col0\" >pegawai</td>\n",
       "                        <td id=\"T_2d0de_row5_col1\" class=\"data row5 col1\" >86</td>\n",
       "            </tr>\n",
       "            <tr>\n",
       "                        <th id=\"T_2d0de_level0_row6\" class=\"row_heading level0 row6\" >6</th>\n",
       "                        <td id=\"T_2d0de_row6_col0\" class=\"data row6 col0\" >data</td>\n",
       "                        <td id=\"T_2d0de_row6_col1\" class=\"data row6 col1\" >85</td>\n",
       "            </tr>\n",
       "            <tr>\n",
       "                        <th id=\"T_2d0de_level0_row7\" class=\"row_heading level0 row7\" >7</th>\n",
       "                        <td id=\"T_2d0de_row7_col0\" class=\"data row7 col0\" >ga</td>\n",
       "                        <td id=\"T_2d0de_row7_col1\" class=\"data row7 col1\" >85</td>\n",
       "            </tr>\n",
       "            <tr>\n",
       "                        <th id=\"T_2d0de_level0_row8\" class=\"row_heading level0 row8\" >8</th>\n",
       "                        <td id=\"T_2d0de_row8_col0\" class=\"data row8 col0\" >iya</td>\n",
       "                        <td id=\"T_2d0de_row8_col1\" class=\"data row8 col1\" >84</td>\n",
       "            </tr>\n",
       "            <tr>\n",
       "                        <th id=\"T_2d0de_level0_row9\" class=\"row_heading level0 row9\" >9</th>\n",
       "                        <td id=\"T_2d0de_row9_col0\" class=\"data row9 col0\" >orang</td>\n",
       "                        <td id=\"T_2d0de_row9_col1\" class=\"data row9 col1\" >77</td>\n",
       "            </tr>\n",
       "            <tr>\n",
       "                        <th id=\"T_2d0de_level0_row10\" class=\"row_heading level0 row10\" >10</th>\n",
       "                        <td id=\"T_2d0de_row10_col0\" class=\"data row10 col0\" >ppatk</td>\n",
       "                        <td id=\"T_2d0de_row10_col1\" class=\"data row10 col1\" >64</td>\n",
       "            </tr>\n",
       "            <tr>\n",
       "                        <th id=\"T_2d0de_level0_row11\" class=\"row_heading level0 row11\" >11</th>\n",
       "                        <td id=\"T_2d0de_row11_col0\" class=\"data row11 col0\" >sri</td>\n",
       "                        <td id=\"T_2d0de_row11_col1\" class=\"data row11 col1\" >63</td>\n",
       "            </tr>\n",
       "            <tr>\n",
       "                        <th id=\"T_2d0de_level0_row12\" class=\"row_heading level0 row12\" >12</th>\n",
       "                        <td id=\"T_2d0de_row12_col0\" class=\"data row12 col0\" >jabat</td>\n",
       "                        <td id=\"T_2d0de_row12_col1\" class=\"data row12 col1\" >60</td>\n",
       "            </tr>\n",
       "            <tr>\n",
       "                        <th id=\"T_2d0de_level0_row13\" class=\"row_heading level0 row13\" >13</th>\n",
       "                        <td id=\"T_2d0de_row13_col0\" class=\"data row13 col0\" >dpr</td>\n",
       "                        <td id=\"T_2d0de_row13_col1\" class=\"data row13 col1\" >60</td>\n",
       "            </tr>\n",
       "            <tr>\n",
       "                        <th id=\"T_2d0de_level0_row14\" class=\"row_heading level0 row14\" >14</th>\n",
       "                        <td id=\"T_2d0de_row14_col0\" class=\"data row14 col0\" >rakyat</td>\n",
       "                        <td id=\"T_2d0de_row14_col1\" class=\"data row14 col1\" >58</td>\n",
       "            </tr>\n",
       "            <tr>\n",
       "                        <th id=\"T_2d0de_level0_row15\" class=\"row_heading level0 row15\" >15</th>\n",
       "                        <td id=\"T_2d0de_row15_col0\" class=\"data row15 col0\" >gak</td>\n",
       "                        <td id=\"T_2d0de_row15_col1\" class=\"data row15 col1\" >56</td>\n",
       "            </tr>\n",
       "            <tr>\n",
       "                        <th id=\"T_2d0de_level0_row16\" class=\"row_heading level0 row16\" >16</th>\n",
       "                        <td id=\"T_2d0de_row16_col0\" class=\"data row16 col0\" >nya</td>\n",
       "                        <td id=\"T_2d0de_row16_col1\" class=\"data row16 col1\" >56</td>\n",
       "            </tr>\n",
       "            <tr>\n",
       "                        <th id=\"T_2d0de_level0_row17\" class=\"row_heading level0 row17\" >17</th>\n",
       "                        <td id=\"T_2d0de_row17_col0\" class=\"data row17 col0\" >asn</td>\n",
       "                        <td id=\"T_2d0de_row17_col1\" class=\"data row17 col1\" >53</td>\n",
       "            </tr>\n",
       "            <tr>\n",
       "                        <th id=\"T_2d0de_level0_row18\" class=\"row_heading level0 row18\" >18</th>\n",
       "                        <td id=\"T_2d0de_row18_col0\" class=\"data row18 col0\" >bongkar</td>\n",
       "                        <td id=\"T_2d0de_row18_col1\" class=\"data row18 col1\" >52</td>\n",
       "            </tr>\n",
       "            <tr>\n",
       "                        <th id=\"T_2d0de_level0_row19\" class=\"row_heading level0 row19\" >19</th>\n",
       "                        <td id=\"T_2d0de_row19_col0\" class=\"data row19 col0\" >mulyani</td>\n",
       "                        <td id=\"T_2d0de_row19_col1\" class=\"data row19 col1\" >50</td>\n",
       "            </tr>\n",
       "    </tbody></table>"
      ],
      "text/plain": [
       "<pandas.io.formats.style.Styler at 0x1ecfbced3d0>"
      ]
     },
     "execution_count": 32,
     "metadata": {},
     "output_type": "execute_result"
    }
   ],
   "source": [
    "# Most common positive word\n",
    "from collections import Counter\n",
    "\n",
    "positive = tweet_df[tweet_df['sentiment'] == 'Positif']\n",
    "# positive[\"temp_list\"] = positive.apply(lambda x:str(x).split())\n",
    "\n",
    "top = Counter([item for sublist in positive['stem'] for item in sublist])\n",
    "temp = pd.DataFrame(top.most_common(20))\n",
    "temp.columns = ['Common_words','count']\n",
    "temp.style.background_gradient(cmap='Greens')\n"
   ]
  },
  {
   "cell_type": "markdown",
   "metadata": {},
   "source": [
    "#### **3.4.3 Data Visualization**"
   ]
  },
  {
   "cell_type": "code",
   "execution_count": 33,
   "metadata": {},
   "outputs": [
    {
     "data": {
      "application/vnd.plotly.v1+json": {
       "config": {
        "plotlyServerURL": "https://plot.ly"
       },
       "data": [
        {
         "domain": {
          "x": [
           0,
           1
          ],
          "y": [
           0,
           1
          ]
         },
         "hovertemplate": "sentiment=%{label}<extra></extra>",
         "labels": [
          "Positif",
          "Negatif",
          "Positif",
          "Negatif",
          "Positif",
          "Positif",
          "Negatif",
          "Negatif",
          "Positif",
          "Positif",
          "Positif",
          "Negatif",
          "Negatif",
          "Negatif",
          "Negatif",
          "Negatif",
          "Positif",
          "Negatif",
          "Positif",
          "Positif",
          "Positif",
          "Positif",
          "Positif",
          "Positif",
          "Negatif",
          "Negatif",
          "Positif",
          "Negatif",
          "Negatif",
          "Positif",
          "Negatif",
          "Positif",
          "Negatif",
          "Negatif",
          "Negatif",
          "Negatif",
          "Positif",
          "Positif",
          "Positif",
          "Positif",
          "Positif",
          "Positif",
          "Negatif",
          "Negatif",
          "Positif",
          "Positif",
          "Positif",
          "Positif",
          "Positif",
          "Positif",
          "Positif",
          "Positif",
          "Positif",
          "Positif",
          "Positif",
          "Positif",
          "Positif",
          "Positif",
          "Positif",
          "Positif",
          "Positif",
          "Negatif",
          "Positif",
          "Positif",
          "Negatif",
          "Positif",
          "Positif",
          "Positif",
          "Negatif",
          "Negatif",
          "Positif",
          "Positif",
          "Negatif",
          "Negatif",
          "Negatif",
          "Positif",
          "Positif",
          "Negatif",
          "Positif",
          "Negatif",
          "Positif",
          "Negatif",
          "Positif",
          "Positif",
          "Negatif",
          "Positif",
          "Negatif",
          "Positif",
          "Positif",
          "Negatif",
          "Positif",
          "Negatif",
          "Negatif",
          "Positif",
          "Positif",
          "Positif",
          "Negatif",
          "Negatif",
          "Positif",
          "Positif",
          "Positif",
          "Positif",
          "Positif",
          "Positif",
          "Positif",
          "Positif",
          "Positif",
          "Positif",
          "Positif",
          "Positif",
          "Positif",
          "Positif",
          "Positif",
          "Negatif",
          "Positif",
          "Positif",
          "Negatif",
          "Negatif",
          "Negatif",
          "Positif",
          "Positif",
          "Positif",
          "Positif",
          "Positif",
          "Positif",
          "Positif",
          "Negatif",
          "Positif",
          "Positif",
          "Negatif",
          "Positif",
          "Positif",
          "Positif",
          "Positif",
          "Positif",
          "Positif",
          "Positif",
          "Negatif",
          "Positif",
          "Negatif",
          "Negatif",
          "Positif",
          "Positif",
          "Negatif",
          "Positif",
          "Positif",
          "Positif",
          "Positif",
          "Positif",
          "Negatif",
          "Positif",
          "Negatif",
          "Positif",
          "Positif",
          "Negatif",
          "Negatif",
          "Positif",
          "Positif",
          "Positif",
          "Negatif",
          "Positif",
          "Positif",
          "Positif",
          "Positif",
          "Positif",
          "Positif",
          "Negatif",
          "Negatif",
          "Positif",
          "Negatif",
          "Negatif",
          "Positif",
          "Positif",
          "Positif",
          "Positif",
          "Positif",
          "Positif",
          "Negatif",
          "Negatif",
          "Negatif",
          "Positif",
          "Positif",
          "Negatif",
          "Negatif",
          "Positif",
          "Positif",
          "Positif",
          "Negatif",
          "Negatif",
          "Positif",
          "Positif",
          "Positif",
          "Negatif",
          "Positif",
          "Negatif",
          "Positif",
          "Positif",
          "Negatif",
          "Positif",
          "Positif",
          "Negatif",
          "Positif",
          "Negatif",
          "Positif",
          "Positif",
          "Negatif",
          "Positif",
          "Positif",
          "Negatif",
          "Negatif",
          "Negatif",
          "Positif",
          "Negatif",
          "Positif",
          "Positif",
          "Positif",
          "Negatif",
          "Positif",
          "Positif",
          "Positif",
          "Positif",
          "Positif",
          "Positif",
          "Positif",
          "Negatif",
          "Positif",
          "Negatif",
          "Positif",
          "Negatif",
          "Positif",
          "Negatif",
          "Negatif",
          "Positif",
          "Negatif",
          "Positif",
          "Negatif",
          "Negatif",
          "Negatif",
          "Positif",
          "Positif",
          "Positif",
          "Negatif",
          "Negatif",
          "Negatif",
          "Negatif",
          "Positif",
          "Negatif",
          "Positif",
          "Positif",
          "Positif",
          "Positif",
          "Negatif",
          "Negatif",
          "Positif",
          "Negatif",
          "Negatif",
          "Positif",
          "Negatif",
          "Positif",
          "Positif",
          "Positif",
          "Negatif",
          "Negatif",
          "Negatif",
          "Negatif",
          "Negatif",
          "Positif",
          "Negatif",
          "Positif",
          "Negatif",
          "Negatif",
          "Positif",
          "Positif",
          "Negatif",
          "Negatif",
          "Negatif",
          "Negatif",
          "Negatif",
          "Positif",
          "Negatif",
          "Negatif",
          "Negatif",
          "Negatif",
          "Negatif",
          "Negatif",
          "Negatif",
          "Negatif",
          "Positif",
          "Positif",
          "Positif",
          "Negatif",
          "Negatif",
          "Negatif",
          "Positif",
          "Negatif",
          "Negatif",
          "Negatif",
          "Positif",
          "Positif",
          "Positif",
          "Negatif",
          "Negatif",
          "Negatif",
          "Positif",
          "Positif",
          "Negatif",
          "Positif",
          "Negatif",
          "Negatif",
          "Positif",
          "Negatif",
          "Negatif",
          "Positif",
          "Negatif",
          "Negatif",
          "Negatif",
          "Negatif",
          "Negatif",
          "Negatif",
          "Negatif",
          "Negatif",
          "Negatif",
          "Negatif",
          "Negatif",
          "Negatif",
          "Positif",
          "Positif",
          "Positif",
          "Negatif",
          "Negatif",
          "Positif",
          "Negatif",
          "Positif",
          "Negatif",
          "Positif",
          "Positif",
          "Negatif",
          "Negatif",
          "Negatif",
          "Negatif",
          "Negatif",
          "Negatif",
          "Negatif",
          "Negatif",
          "Negatif",
          "Negatif",
          "Positif",
          "Positif",
          "Negatif",
          "Negatif",
          "Positif",
          "Positif",
          "Negatif",
          "Positif",
          "Positif",
          "Positif",
          "Positif",
          "Positif",
          "Positif",
          "Negatif",
          "Negatif",
          "Negatif",
          "Positif",
          "Negatif",
          "Positif",
          "Negatif",
          "Negatif",
          "Negatif",
          "Positif",
          "Positif",
          "Positif",
          "Negatif",
          "Positif",
          "Negatif",
          "Negatif",
          "Negatif",
          "Positif",
          "Positif",
          "Positif",
          "Negatif",
          "Negatif",
          "Negatif",
          "Negatif",
          "Positif",
          "Negatif",
          "Positif",
          "Negatif",
          "Positif",
          "Negatif",
          "Positif",
          "Negatif",
          "Positif",
          "Negatif",
          "Negatif",
          "Positif",
          "Positif",
          "Negatif",
          "Positif",
          "Positif",
          "Positif",
          "Negatif",
          "Positif",
          "Negatif",
          "Negatif",
          "Negatif",
          "Positif",
          "Positif",
          "Negatif",
          "Negatif",
          "Negatif",
          "Positif",
          "Positif",
          "Negatif",
          "Positif",
          "Negatif",
          "Negatif",
          "Negatif",
          "Negatif",
          "Negatif",
          "Negatif",
          "Negatif",
          "Negatif",
          "Positif",
          "Positif",
          "Negatif",
          "Negatif",
          "Positif",
          "Positif",
          "Positif",
          "Positif",
          "Negatif",
          "Negatif",
          "Negatif",
          "Negatif",
          "Positif",
          "Negatif",
          "Negatif",
          "Negatif",
          "Positif",
          "Positif",
          "Positif",
          "Positif",
          "Positif",
          "Positif",
          "Positif",
          "Negatif",
          "Positif",
          "Negatif",
          "Positif",
          "Positif",
          "Positif",
          "Positif",
          "Positif",
          "Negatif",
          "Negatif",
          "Negatif",
          "Positif",
          "Negatif",
          "Positif",
          "Negatif",
          "Positif",
          "Positif",
          "Negatif",
          "Positif",
          "Positif",
          "Positif",
          "Negatif",
          "Positif",
          "Positif",
          "Positif",
          "Positif",
          "Positif",
          "Negatif",
          "Positif",
          "Positif",
          "Positif",
          "Negatif",
          "Positif",
          "Positif",
          "Negatif",
          "Negatif",
          "Positif",
          "Positif",
          "Negatif",
          "Positif",
          "Negatif",
          "Negatif",
          "Negatif",
          "Positif",
          "Negatif",
          "Positif",
          "Positif",
          "Positif",
          "Positif",
          "Positif",
          "Positif",
          "Negatif",
          "Positif",
          "Negatif",
          "Negatif",
          "Positif",
          "Negatif",
          "Negatif",
          "Negatif",
          "Positif",
          "Negatif",
          "Negatif",
          "Positif",
          "Negatif",
          "Positif",
          "Positif",
          "Positif",
          "Positif",
          "Negatif",
          "Positif",
          "Negatif",
          "Positif",
          "Positif",
          "Positif",
          "Positif",
          "Positif",
          "Positif",
          "Negatif",
          "Positif",
          "Positif",
          "Negatif",
          "Positif",
          "Negatif",
          "Negatif",
          "Negatif",
          "Negatif",
          "Negatif",
          "Positif",
          "Negatif",
          "Negatif",
          "Negatif",
          "Negatif",
          "Negatif",
          "Negatif",
          "Negatif",
          "Negatif",
          "Positif",
          "Negatif",
          "Negatif",
          "Negatif",
          "Negatif",
          "Negatif",
          "Negatif",
          "Negatif",
          "Negatif",
          "Negatif",
          "Negatif",
          "Positif",
          "Negatif",
          "Negatif",
          "Negatif",
          "Positif",
          "Negatif",
          "Negatif",
          "Negatif",
          "Negatif",
          "Negatif",
          "Negatif",
          "Positif",
          "Negatif",
          "Negatif",
          "Positif",
          "Negatif",
          "Negatif",
          "Negatif",
          "Negatif",
          "Negatif",
          "Negatif",
          "Negatif",
          "Negatif",
          "Positif",
          "Negatif",
          "Negatif",
          "Positif",
          "Negatif",
          "Negatif",
          "Negatif",
          "Negatif",
          "Negatif",
          "Negatif",
          "Negatif",
          "Negatif",
          "Negatif",
          "Positif",
          "Negatif",
          "Negatif",
          "Negatif",
          "Negatif",
          "Negatif",
          "Positif",
          "Negatif",
          "Positif",
          "Negatif",
          "Negatif",
          "Negatif",
          "Negatif",
          "Negatif",
          "Negatif",
          "Positif",
          "Negatif",
          "Negatif",
          "Negatif",
          "Negatif",
          "Negatif",
          "Negatif",
          "Negatif",
          "Negatif",
          "Negatif",
          "Negatif",
          "Negatif",
          "Negatif",
          "Negatif",
          "Negatif",
          "Negatif",
          "Positif",
          "Negatif",
          "Negatif",
          "Negatif",
          "Negatif",
          "Negatif",
          "Negatif",
          "Negatif",
          "Positif",
          "Negatif",
          "Negatif",
          "Positif",
          "Negatif",
          "Negatif",
          "Negatif",
          "Negatif",
          "Positif",
          "Positif",
          "Negatif",
          "Negatif",
          "Negatif",
          "Negatif",
          "Negatif",
          "Negatif",
          "Negatif",
          "Negatif",
          "Positif",
          "Positif",
          "Negatif",
          "Negatif",
          "Positif",
          "Negatif",
          "Negatif",
          "Negatif",
          "Negatif",
          "Positif",
          "Negatif",
          "Negatif",
          "Positif",
          "Negatif",
          "Negatif",
          "Negatif",
          "Positif",
          "Negatif",
          "Negatif",
          "Positif",
          "Negatif",
          "Negatif",
          "Negatif",
          "Positif",
          "Negatif",
          "Negatif",
          "Negatif",
          "Negatif",
          "Negatif",
          "Negatif",
          "Negatif",
          "Negatif",
          "Positif",
          "Positif",
          "Negatif",
          "Negatif",
          "Negatif",
          "Negatif",
          "Negatif",
          "Negatif",
          "Negatif",
          "Negatif",
          "Negatif",
          "Positif",
          "Negatif",
          "Negatif",
          "Negatif",
          "Negatif",
          "Negatif",
          "Positif",
          "Negatif",
          "Negatif",
          "Negatif",
          "Negatif",
          "Negatif",
          "Negatif",
          "Negatif",
          "Positif",
          "Negatif",
          "Negatif",
          "Positif",
          "Negatif",
          "Negatif",
          "Negatif",
          "Negatif",
          "Negatif",
          "Positif",
          "Negatif",
          "Negatif",
          "Negatif",
          "Negatif",
          "Negatif",
          "Negatif",
          "Negatif",
          "Negatif",
          "Negatif",
          "Negatif",
          "Negatif",
          "Negatif",
          "Negatif",
          "Negatif",
          "Positif",
          "Negatif",
          "Positif",
          "Positif",
          "Negatif",
          "Negatif",
          "Negatif",
          "Negatif",
          "Negatif",
          "Negatif",
          "Positif",
          "Negatif",
          "Negatif",
          "Negatif",
          "Negatif",
          "Positif",
          "Positif",
          "Positif",
          "Negatif",
          "Negatif",
          "Negatif",
          "Negatif",
          "Negatif",
          "Positif",
          "Positif",
          "Positif",
          "Positif",
          "Positif",
          "Negatif",
          "Positif",
          "Positif",
          "Negatif",
          "Positif",
          "Negatif",
          "Negatif",
          "Positif",
          "Positif",
          "Negatif",
          "Positif",
          "Negatif",
          "Positif",
          "Positif",
          "Positif",
          "Positif",
          "Negatif",
          "Negatif",
          "Negatif",
          "Negatif",
          "Positif",
          "Positif",
          "Positif",
          "Negatif",
          "Positif",
          "Positif",
          "Negatif",
          "Negatif",
          "Negatif",
          "Negatif",
          "Positif",
          "Negatif",
          "Negatif",
          "Negatif",
          "Negatif",
          "Negatif",
          "Negatif",
          "Negatif",
          "Positif",
          "Negatif",
          "Positif",
          "Negatif",
          "Positif",
          "Negatif",
          "Negatif",
          "Negatif",
          "Positif",
          "Negatif",
          "Positif",
          "Positif",
          "Negatif",
          "Positif",
          "Negatif",
          "Negatif",
          "Positif",
          "Negatif",
          "Positif",
          "Negatif",
          "Positif",
          "Negatif",
          "Positif",
          "Positif",
          "Negatif",
          "Positif",
          "Negatif",
          "Negatif",
          "Negatif",
          "Negatif",
          "Negatif",
          "Positif",
          "Negatif",
          "Negatif",
          "Positif",
          "Positif",
          "Positif",
          "Negatif",
          "Positif",
          "Negatif",
          "Negatif",
          "Positif",
          "Positif",
          "Negatif",
          "Positif",
          "Negatif",
          "Negatif",
          "Positif",
          "Negatif",
          "Positif",
          "Positif",
          "Positif",
          "Negatif",
          "Positif",
          "Positif",
          "Positif",
          "Positif",
          "Negatif",
          "Positif",
          "Negatif",
          "Negatif",
          "Positif",
          "Positif",
          "Negatif",
          "Positif",
          "Positif",
          "Negatif",
          "Negatif",
          "Positif",
          "Negatif",
          "Negatif",
          "Positif",
          "Negatif",
          "Negatif",
          "Negatif",
          "Positif",
          "Positif",
          "Positif",
          "Negatif",
          "Positif",
          "Negatif",
          "Negatif",
          "Negatif",
          "Negatif",
          "Negatif",
          "Negatif",
          "Positif",
          "Negatif",
          "Negatif",
          "Negatif",
          "Negatif",
          "Positif",
          "Positif",
          "Positif",
          "Positif",
          "Negatif",
          "Negatif",
          "Negatif",
          "Negatif",
          "Negatif",
          "Negatif",
          "Negatif",
          "Positif",
          "Positif",
          "Negatif",
          "Negatif",
          "Positif",
          "Positif",
          "Negatif",
          "Positif",
          "Positif",
          "Positif",
          "Positif",
          "Positif",
          "Negatif",
          "Negatif",
          "Positif",
          "Positif",
          "Negatif",
          "Negatif",
          "Negatif",
          "Negatif",
          "Positif",
          "Positif",
          "Positif",
          "Positif",
          "Positif",
          "Negatif",
          "Positif",
          "Positif",
          "Negatif",
          "Negatif",
          "Positif",
          "Positif",
          "Positif",
          "Negatif",
          "Positif",
          "Positif",
          "Negatif",
          "Negatif",
          "Positif",
          "Positif",
          "Positif",
          "Positif",
          "Negatif",
          "Positif",
          "Negatif",
          "Positif",
          "Positif",
          "Positif",
          "Positif",
          "Positif",
          "Positif",
          "Positif",
          "Negatif",
          "Positif",
          "Negatif",
          "Positif",
          "Positif",
          "Negatif",
          "Negatif",
          "Positif",
          "Negatif",
          "Negatif",
          "Positif",
          "Positif",
          "Negatif",
          "Negatif",
          "Positif",
          "Negatif",
          "Positif",
          "Negatif",
          "Negatif",
          "Positif",
          "Positif",
          "Positif",
          "Positif",
          "Positif",
          "Negatif",
          "Negatif",
          "Positif",
          "Negatif",
          "Positif",
          "Positif",
          "Negatif",
          "Negatif",
          "Positif",
          "Positif",
          "Negatif",
          "Negatif",
          "Negatif",
          "Negatif",
          "Negatif",
          "Negatif",
          "Positif",
          "Positif",
          "Positif",
          "Positif",
          "Positif",
          "Positif",
          "Positif",
          "Positif",
          "Positif",
          "Negatif",
          "Positif",
          "Negatif",
          "Negatif",
          "Negatif",
          "Negatif",
          "Negatif",
          "Positif",
          "Positif",
          "Positif",
          "Negatif",
          "Negatif",
          "Negatif",
          "Positif",
          "Negatif",
          "Negatif",
          "Negatif",
          "Positif",
          "Positif",
          "Negatif",
          "Negatif",
          "Negatif",
          "Positif",
          "Positif",
          "Negatif",
          "Negatif",
          "Positif",
          "Negatif",
          "Negatif",
          "Positif",
          "Negatif",
          "Negatif",
          "Negatif",
          "Positif",
          "Positif",
          "Positif",
          "Positif",
          "Positif",
          "Negatif",
          "Positif",
          "Negatif",
          "Positif",
          "Negatif",
          "Negatif",
          "Positif",
          "Negatif",
          "Positif",
          "Positif",
          "Negatif",
          "Negatif",
          "Positif",
          "Negatif",
          "Positif",
          "Negatif",
          "Positif",
          "Negatif",
          "Negatif",
          "Negatif",
          "Negatif",
          "Positif",
          "Positif",
          "Negatif",
          "Positif",
          "Positif",
          "Negatif",
          "Positif",
          "Negatif",
          "Negatif",
          "Negatif",
          "Negatif",
          "Negatif",
          "Negatif",
          "Negatif",
          "Negatif",
          "Negatif",
          "Negatif",
          "Negatif",
          "Negatif",
          "Negatif",
          "Positif",
          "Negatif",
          "Negatif",
          "Negatif",
          "Negatif",
          "Negatif",
          "Positif",
          "Negatif",
          "Negatif",
          "Negatif",
          "Negatif",
          "Negatif",
          "Negatif",
          "Positif",
          "Negatif",
          "Negatif",
          "Negatif",
          "Positif",
          "Negatif",
          "Negatif",
          "Negatif",
          "Negatif",
          "Negatif",
          "Positif",
          "Negatif",
          "Negatif",
          "Negatif",
          "Negatif",
          "Negatif",
          "Negatif",
          "Negatif",
          "Negatif",
          "Negatif",
          "Negatif",
          "Negatif",
          "Negatif",
          "Negatif",
          "Negatif",
          "Negatif",
          "Negatif",
          "Positif",
          "Negatif",
          "Negatif",
          "Negatif",
          "Positif",
          "Negatif",
          "Negatif",
          "Negatif",
          "Negatif",
          "Negatif",
          "Negatif",
          "Negatif",
          "Negatif",
          "Negatif",
          "Negatif",
          "Negatif",
          "Negatif",
          "Negatif",
          "Negatif",
          "Negatif",
          "Negatif",
          "Negatif",
          "Negatif",
          "Negatif",
          "Negatif",
          "Negatif",
          "Negatif",
          "Negatif",
          "Negatif",
          "Negatif",
          "Negatif",
          "Negatif",
          "Negatif",
          "Negatif",
          "Negatif",
          "Negatif",
          "Negatif",
          "Negatif",
          "Negatif",
          "Negatif",
          "Negatif",
          "Negatif",
          "Negatif",
          "Negatif",
          "Negatif",
          "Negatif",
          "Negatif",
          "Positif",
          "Positif",
          "Positif",
          "Negatif",
          "Positif",
          "Positif",
          "Negatif",
          "Positif",
          "Negatif",
          "Negatif",
          "Negatif",
          "Negatif",
          "Negatif",
          "Negatif",
          "Positif",
          "Negatif",
          "Negatif",
          "Positif",
          "Negatif",
          "Negatif",
          "Positif",
          "Negatif",
          "Negatif",
          "Negatif",
          "Negatif",
          "Negatif",
          "Negatif",
          "Positif",
          "Positif",
          "Negatif",
          "Positif",
          "Negatif",
          "Positif",
          "Negatif",
          "Negatif",
          "Negatif",
          "Negatif",
          "Negatif",
          "Negatif",
          "Positif",
          "Negatif",
          "Negatif",
          "Negatif",
          "Positif",
          "Negatif",
          "Negatif",
          "Positif",
          "Positif",
          "Negatif",
          "Negatif",
          "Positif",
          "Negatif",
          "Positif",
          "Negatif",
          "Positif",
          "Positif",
          "Positif",
          "Positif",
          "Positif",
          "Positif",
          "Negatif",
          "Positif",
          "Negatif",
          "Positif",
          "Positif",
          "Positif",
          "Positif",
          "Negatif",
          "Positif",
          "Positif",
          "Negatif",
          "Positif",
          "Negatif",
          "Negatif",
          "Positif",
          "Negatif",
          "Negatif",
          "Negatif",
          "Negatif",
          "Negatif",
          "Negatif",
          "Negatif",
          "Positif",
          "Negatif",
          "Positif",
          "Negatif",
          "Negatif",
          "Negatif",
          "Negatif",
          "Negatif",
          "Positif",
          "Negatif",
          "Negatif",
          "Negatif",
          "Negatif",
          "Negatif",
          "Positif",
          "Negatif",
          "Positif",
          "Positif",
          "Positif",
          "Positif",
          "Positif",
          "Positif",
          "Negatif",
          "Negatif",
          "Negatif",
          "Negatif",
          "Negatif",
          "Positif",
          "Positif",
          "Negatif",
          "Negatif",
          "Negatif",
          "Positif",
          "Negatif",
          "Negatif",
          "Negatif",
          "Negatif",
          "Negatif",
          "Positif",
          "Negatif",
          "Negatif",
          "Negatif",
          "Negatif",
          "Negatif",
          "Negatif",
          "Negatif",
          "Negatif",
          "Positif",
          "Negatif",
          "Negatif",
          "Negatif",
          "Negatif",
          "Positif",
          "Positif",
          "Negatif",
          "Negatif",
          "Negatif",
          "Positif",
          "Positif",
          "Negatif",
          "Positif",
          "Positif",
          "Positif",
          "Negatif",
          "Positif",
          "Positif",
          "Positif",
          "Positif",
          "Negatif",
          "Negatif",
          "Negatif",
          "Negatif",
          "Positif",
          "Negatif",
          "Negatif",
          "Negatif",
          "Negatif",
          "Negatif",
          "Negatif",
          "Positif",
          "Negatif",
          "Positif",
          "Positif",
          "Positif",
          "Negatif",
          "Negatif",
          "Positif",
          "Positif",
          "Positif",
          "Negatif",
          "Negatif",
          "Positif",
          "Positif",
          "Positif",
          "Negatif",
          "Positif",
          "Positif",
          "Negatif",
          "Positif",
          "Positif",
          "Positif",
          "Positif",
          "Negatif",
          "Negatif",
          "Negatif",
          "Positif",
          "Positif",
          "Positif",
          "Negatif",
          "Negatif",
          "Negatif",
          "Positif",
          "Positif",
          "Negatif",
          "Negatif",
          "Negatif",
          "Negatif",
          "Positif",
          "Positif",
          "Negatif",
          "Negatif",
          "Positif",
          "Positif",
          "Positif",
          "Positif",
          "Negatif",
          "Negatif",
          "Negatif",
          "Negatif",
          "Positif",
          "Negatif",
          "Negatif",
          "Negatif",
          "Negatif",
          "Negatif",
          "Negatif",
          "Negatif",
          "Negatif",
          "Negatif",
          "Negatif",
          "Negatif",
          "Negatif",
          "Negatif",
          "Negatif",
          "Negatif",
          "Negatif",
          "Negatif",
          "Positif",
          "Positif",
          "Negatif",
          "Negatif",
          "Positif",
          "Negatif",
          "Negatif",
          "Negatif",
          "Negatif",
          "Negatif",
          "Negatif",
          "Negatif",
          "Negatif",
          "Positif",
          "Positif",
          "Positif",
          "Negatif",
          "Negatif",
          "Negatif",
          "Negatif",
          "Negatif",
          "Negatif",
          "Negatif",
          "Negatif",
          "Negatif",
          "Positif",
          "Negatif",
          "Negatif",
          "Negatif",
          "Negatif",
          "Negatif",
          "Negatif",
          "Negatif",
          "Negatif",
          "Negatif",
          "Positif",
          "Negatif",
          "Negatif",
          "Negatif",
          "Negatif",
          "Negatif",
          "Negatif",
          "Positif",
          "Positif",
          "Negatif",
          "Negatif",
          "Negatif",
          "Positif",
          "Positif",
          "Negatif",
          "Negatif",
          "Negatif",
          "Negatif",
          "Negatif",
          "Negatif",
          "Negatif",
          "Negatif",
          "Negatif",
          "Negatif",
          "Negatif",
          "Positif",
          "Negatif",
          "Positif",
          "Positif",
          "Negatif",
          "Negatif",
          "Negatif",
          "Negatif",
          "Negatif",
          "Negatif",
          "Negatif",
          "Negatif",
          "Negatif",
          "Negatif",
          "Negatif",
          "Negatif",
          "Negatif",
          "Negatif",
          "Negatif",
          "Positif",
          "Negatif",
          "Negatif",
          "Negatif",
          "Positif",
          "Negatif",
          "Negatif",
          "Negatif",
          "Negatif",
          "Positif",
          "Positif",
          "Negatif",
          "Positif",
          "Positif",
          "Negatif",
          "Negatif",
          "Positif",
          "Positif",
          "Positif",
          "Positif",
          "Negatif",
          "Negatif",
          "Negatif",
          "Positif",
          "Negatif",
          "Positif",
          "Negatif",
          "Negatif",
          "Negatif",
          "Negatif",
          "Negatif",
          "Negatif",
          "Negatif",
          "Negatif",
          "Positif",
          "Negatif",
          "Negatif",
          "Negatif",
          "Negatif",
          "Negatif",
          "Negatif",
          "Negatif",
          "Negatif",
          "Positif",
          "Positif",
          "Negatif",
          "Positif",
          "Negatif",
          "Positif",
          "Negatif",
          "Positif",
          "Negatif",
          "Positif",
          "Positif",
          "Negatif",
          "Negatif",
          "Negatif",
          "Negatif",
          "Positif",
          "Positif",
          "Positif",
          "Positif",
          "Negatif",
          "Negatif",
          "Negatif",
          "Negatif",
          "Negatif",
          "Negatif",
          "Positif",
          "Negatif",
          "Negatif",
          "Negatif",
          "Positif",
          "Positif",
          "Negatif",
          "Negatif",
          "Negatif",
          "Negatif",
          "Positif",
          "Negatif",
          "Negatif",
          "Negatif",
          "Positif",
          "Positif",
          "Negatif",
          "Negatif",
          "Positif",
          "Positif",
          "Positif",
          "Positif",
          "Negatif",
          "Negatif",
          "Negatif",
          "Negatif",
          "Positif",
          "Negatif",
          "Negatif",
          "Negatif",
          "Negatif",
          "Negatif",
          "Negatif",
          "Negatif",
          "Negatif",
          "Negatif",
          "Positif",
          "Positif",
          "Positif",
          "Negatif",
          "Positif",
          "Negatif",
          "Negatif",
          "Negatif",
          "Positif",
          "Negatif",
          "Negatif",
          "Positif",
          "Positif",
          "Negatif",
          "Negatif",
          "Negatif",
          "Negatif",
          "Negatif",
          "Positif",
          "Negatif",
          "Positif",
          "Negatif",
          "Negatif",
          "Positif",
          "Positif",
          "Positif",
          "Negatif",
          "Negatif",
          "Positif",
          "Negatif",
          "Positif",
          "Negatif",
          "Negatif",
          "Negatif",
          "Positif",
          "Negatif",
          "Negatif",
          "Negatif",
          "Negatif",
          "Negatif",
          "Positif",
          "Positif",
          "Negatif",
          "Negatif",
          "Negatif",
          "Positif",
          "Negatif",
          "Positif",
          "Positif",
          "Negatif",
          "Negatif",
          "Negatif",
          "Positif",
          "Negatif",
          "Positif",
          "Negatif",
          "Negatif",
          "Positif",
          "Positif",
          "Positif",
          "Negatif",
          "Positif",
          "Negatif",
          "Negatif",
          "Negatif",
          "Negatif",
          "Positif",
          "Negatif",
          "Positif",
          "Positif",
          "Negatif",
          "Negatif",
          "Negatif",
          "Positif",
          "Negatif",
          "Negatif",
          "Positif",
          "Positif",
          "Positif",
          "Negatif",
          "Positif",
          "Positif",
          "Positif",
          "Positif",
          "Positif",
          "Positif",
          "Positif",
          "Positif",
          "Positif",
          "Negatif",
          "Positif",
          "Positif",
          "Positif",
          "Negatif",
          "Negatif",
          "Negatif",
          "Positif",
          "Negatif",
          "Positif",
          "Positif",
          "Negatif",
          "Negatif",
          "Negatif",
          "Positif",
          "Negatif",
          "Positif",
          "Negatif",
          "Positif",
          "Negatif",
          "Negatif",
          "Negatif",
          "Negatif",
          "Negatif",
          "Positif",
          "Positif",
          "Positif",
          "Positif",
          "Negatif",
          "Positif",
          "Negatif",
          "Negatif",
          "Positif",
          "Negatif",
          "Positif",
          "Negatif",
          "Negatif",
          "Negatif",
          "Positif",
          "Negatif",
          "Negatif",
          "Positif",
          "Negatif",
          "Positif",
          "Negatif",
          "Positif",
          "Negatif",
          "Negatif",
          "Positif",
          "Positif",
          "Positif",
          "Positif",
          "Negatif",
          "Positif",
          "Positif",
          "Positif",
          "Negatif",
          "Positif",
          "Positif",
          "Negatif",
          "Negatif",
          "Negatif",
          "Positif",
          "Positif",
          "Negatif",
          "Negatif",
          "Negatif",
          "Positif",
          "Positif",
          "Negatif",
          "Negatif",
          "Negatif",
          "Negatif",
          "Negatif",
          "Negatif",
          "Positif",
          "Negatif",
          "Negatif",
          "Positif",
          "Negatif",
          "Negatif",
          "Positif",
          "Positif",
          "Negatif",
          "Positif",
          "Negatif",
          "Positif",
          "Negatif",
          "Negatif",
          "Negatif",
          "Negatif",
          "Negatif",
          "Negatif",
          "Negatif",
          "Positif",
          "Negatif",
          "Positif",
          "Negatif",
          "Negatif",
          "Positif",
          "Negatif",
          "Negatif",
          "Negatif",
          "Negatif",
          "Positif",
          "Positif",
          "Negatif",
          "Negatif",
          "Negatif",
          "Positif",
          "Positif",
          "Positif",
          "Positif",
          "Positif",
          "Positif",
          "Negatif",
          "Negatif",
          "Negatif",
          "Negatif",
          "Negatif",
          "Positif",
          "Negatif",
          "Positif",
          "Negatif",
          "Negatif",
          "Negatif",
          "Positif",
          "Negatif",
          "Positif",
          "Positif",
          "Positif",
          "Negatif",
          "Negatif",
          "Positif",
          "Positif",
          "Positif",
          "Negatif",
          "Positif",
          "Negatif",
          "Negatif",
          "Positif",
          "Positif",
          "Positif",
          "Negatif",
          "Negatif",
          "Negatif",
          "Negatif",
          "Positif",
          "Negatif",
          "Negatif",
          "Negatif",
          "Negatif",
          "Positif",
          "Positif",
          "Positif",
          "Positif",
          "Negatif",
          "Positif",
          "Positif",
          "Negatif",
          "Negatif",
          "Negatif",
          "Negatif",
          "Negatif",
          "Positif",
          "Positif",
          "Positif",
          "Negatif",
          "Negatif",
          "Negatif",
          "Negatif",
          "Negatif",
          "Negatif",
          "Positif",
          "Positif",
          "Negatif",
          "Positif",
          "Positif",
          "Negatif",
          "Positif",
          "Positif",
          "Negatif",
          "Negatif",
          "Negatif",
          "Positif",
          "Negatif",
          "Negatif",
          "Positif",
          "Negatif",
          "Positif",
          "Positif",
          "Negatif",
          "Positif",
          "Positif",
          "Negatif",
          "Positif",
          "Positif",
          "Negatif",
          "Positif",
          "Negatif",
          "Positif",
          "Positif",
          "Positif",
          "Negatif",
          "Negatif",
          "Negatif",
          "Negatif",
          "Positif",
          "Negatif",
          "Negatif",
          "Negatif",
          "Negatif",
          "Positif",
          "Positif",
          "Positif",
          "Positif",
          "Positif",
          "Positif",
          "Positif",
          "Positif",
          "Positif",
          "Negatif",
          "Negatif",
          "Positif",
          "Negatif",
          "Positif",
          "Positif",
          "Positif",
          "Negatif",
          "Negatif",
          "Negatif",
          "Negatif",
          "Positif",
          "Negatif",
          "Negatif",
          "Positif",
          "Positif",
          "Negatif",
          "Positif",
          "Negatif",
          "Negatif",
          "Positif",
          "Negatif",
          "Positif",
          "Positif",
          "Positif",
          "Positif",
          "Negatif",
          "Positif",
          "Positif",
          "Negatif",
          "Positif",
          "Positif",
          "Positif",
          "Negatif",
          "Positif",
          "Positif",
          "Negatif",
          "Negatif",
          "Negatif",
          "Positif",
          "Positif",
          "Positif",
          "Positif",
          "Positif",
          "Positif",
          "Positif",
          "Positif",
          "Positif",
          "Positif",
          "Negatif",
          "Negatif",
          "Negatif",
          "Negatif",
          "Negatif",
          "Negatif",
          "Negatif",
          "Positif",
          "Positif",
          "Positif",
          "Positif",
          "Positif",
          "Negatif",
          "Positif",
          "Negatif",
          "Negatif",
          "Negatif",
          "Positif",
          "Negatif",
          "Negatif",
          "Positif",
          "Negatif",
          "Negatif",
          "Negatif",
          "Negatif",
          "Negatif",
          "Positif",
          "Negatif",
          "Negatif",
          "Positif",
          "Positif",
          "Positif",
          "Positif",
          "Negatif",
          "Positif",
          "Negatif",
          "Positif",
          "Positif",
          "Negatif",
          "Positif",
          "Negatif",
          "Positif",
          "Positif",
          "Positif",
          "Positif",
          "Positif",
          "Negatif",
          "Positif",
          "Positif",
          "Positif",
          "Negatif",
          "Positif",
          "Negatif",
          "Negatif",
          "Negatif",
          "Negatif",
          "Negatif",
          "Positif",
          "Positif",
          "Positif",
          "Positif",
          "Negatif",
          "Positif",
          "Negatif",
          "Negatif",
          "Negatif",
          "Positif",
          "Positif",
          "Positif",
          "Negatif"
         ],
         "legendgroup": "",
         "name": "",
         "showlegend": true,
         "type": "pie"
        }
       ],
       "layout": {
        "legend": {
         "tracegroupgap": 0
        },
        "template": {
         "data": {
          "bar": [
           {
            "error_x": {
             "color": "#2a3f5f"
            },
            "error_y": {
             "color": "#2a3f5f"
            },
            "marker": {
             "line": {
              "color": "#E5ECF6",
              "width": 0.5
             },
             "pattern": {
              "fillmode": "overlay",
              "size": 10,
              "solidity": 0.2
             }
            },
            "type": "bar"
           }
          ],
          "barpolar": [
           {
            "marker": {
             "line": {
              "color": "#E5ECF6",
              "width": 0.5
             },
             "pattern": {
              "fillmode": "overlay",
              "size": 10,
              "solidity": 0.2
             }
            },
            "type": "barpolar"
           }
          ],
          "carpet": [
           {
            "aaxis": {
             "endlinecolor": "#2a3f5f",
             "gridcolor": "white",
             "linecolor": "white",
             "minorgridcolor": "white",
             "startlinecolor": "#2a3f5f"
            },
            "baxis": {
             "endlinecolor": "#2a3f5f",
             "gridcolor": "white",
             "linecolor": "white",
             "minorgridcolor": "white",
             "startlinecolor": "#2a3f5f"
            },
            "type": "carpet"
           }
          ],
          "choropleth": [
           {
            "colorbar": {
             "outlinewidth": 0,
             "ticks": ""
            },
            "type": "choropleth"
           }
          ],
          "contour": [
           {
            "colorbar": {
             "outlinewidth": 0,
             "ticks": ""
            },
            "colorscale": [
             [
              0,
              "#0d0887"
             ],
             [
              0.1111111111111111,
              "#46039f"
             ],
             [
              0.2222222222222222,
              "#7201a8"
             ],
             [
              0.3333333333333333,
              "#9c179e"
             ],
             [
              0.4444444444444444,
              "#bd3786"
             ],
             [
              0.5555555555555556,
              "#d8576b"
             ],
             [
              0.6666666666666666,
              "#ed7953"
             ],
             [
              0.7777777777777778,
              "#fb9f3a"
             ],
             [
              0.8888888888888888,
              "#fdca26"
             ],
             [
              1,
              "#f0f921"
             ]
            ],
            "type": "contour"
           }
          ],
          "contourcarpet": [
           {
            "colorbar": {
             "outlinewidth": 0,
             "ticks": ""
            },
            "type": "contourcarpet"
           }
          ],
          "heatmap": [
           {
            "colorbar": {
             "outlinewidth": 0,
             "ticks": ""
            },
            "colorscale": [
             [
              0,
              "#0d0887"
             ],
             [
              0.1111111111111111,
              "#46039f"
             ],
             [
              0.2222222222222222,
              "#7201a8"
             ],
             [
              0.3333333333333333,
              "#9c179e"
             ],
             [
              0.4444444444444444,
              "#bd3786"
             ],
             [
              0.5555555555555556,
              "#d8576b"
             ],
             [
              0.6666666666666666,
              "#ed7953"
             ],
             [
              0.7777777777777778,
              "#fb9f3a"
             ],
             [
              0.8888888888888888,
              "#fdca26"
             ],
             [
              1,
              "#f0f921"
             ]
            ],
            "type": "heatmap"
           }
          ],
          "heatmapgl": [
           {
            "colorbar": {
             "outlinewidth": 0,
             "ticks": ""
            },
            "colorscale": [
             [
              0,
              "#0d0887"
             ],
             [
              0.1111111111111111,
              "#46039f"
             ],
             [
              0.2222222222222222,
              "#7201a8"
             ],
             [
              0.3333333333333333,
              "#9c179e"
             ],
             [
              0.4444444444444444,
              "#bd3786"
             ],
             [
              0.5555555555555556,
              "#d8576b"
             ],
             [
              0.6666666666666666,
              "#ed7953"
             ],
             [
              0.7777777777777778,
              "#fb9f3a"
             ],
             [
              0.8888888888888888,
              "#fdca26"
             ],
             [
              1,
              "#f0f921"
             ]
            ],
            "type": "heatmapgl"
           }
          ],
          "histogram": [
           {
            "marker": {
             "pattern": {
              "fillmode": "overlay",
              "size": 10,
              "solidity": 0.2
             }
            },
            "type": "histogram"
           }
          ],
          "histogram2d": [
           {
            "colorbar": {
             "outlinewidth": 0,
             "ticks": ""
            },
            "colorscale": [
             [
              0,
              "#0d0887"
             ],
             [
              0.1111111111111111,
              "#46039f"
             ],
             [
              0.2222222222222222,
              "#7201a8"
             ],
             [
              0.3333333333333333,
              "#9c179e"
             ],
             [
              0.4444444444444444,
              "#bd3786"
             ],
             [
              0.5555555555555556,
              "#d8576b"
             ],
             [
              0.6666666666666666,
              "#ed7953"
             ],
             [
              0.7777777777777778,
              "#fb9f3a"
             ],
             [
              0.8888888888888888,
              "#fdca26"
             ],
             [
              1,
              "#f0f921"
             ]
            ],
            "type": "histogram2d"
           }
          ],
          "histogram2dcontour": [
           {
            "colorbar": {
             "outlinewidth": 0,
             "ticks": ""
            },
            "colorscale": [
             [
              0,
              "#0d0887"
             ],
             [
              0.1111111111111111,
              "#46039f"
             ],
             [
              0.2222222222222222,
              "#7201a8"
             ],
             [
              0.3333333333333333,
              "#9c179e"
             ],
             [
              0.4444444444444444,
              "#bd3786"
             ],
             [
              0.5555555555555556,
              "#d8576b"
             ],
             [
              0.6666666666666666,
              "#ed7953"
             ],
             [
              0.7777777777777778,
              "#fb9f3a"
             ],
             [
              0.8888888888888888,
              "#fdca26"
             ],
             [
              1,
              "#f0f921"
             ]
            ],
            "type": "histogram2dcontour"
           }
          ],
          "mesh3d": [
           {
            "colorbar": {
             "outlinewidth": 0,
             "ticks": ""
            },
            "type": "mesh3d"
           }
          ],
          "parcoords": [
           {
            "line": {
             "colorbar": {
              "outlinewidth": 0,
              "ticks": ""
             }
            },
            "type": "parcoords"
           }
          ],
          "pie": [
           {
            "automargin": true,
            "type": "pie"
           }
          ],
          "scatter": [
           {
            "fillpattern": {
             "fillmode": "overlay",
             "size": 10,
             "solidity": 0.2
            },
            "type": "scatter"
           }
          ],
          "scatter3d": [
           {
            "line": {
             "colorbar": {
              "outlinewidth": 0,
              "ticks": ""
             }
            },
            "marker": {
             "colorbar": {
              "outlinewidth": 0,
              "ticks": ""
             }
            },
            "type": "scatter3d"
           }
          ],
          "scattercarpet": [
           {
            "marker": {
             "colorbar": {
              "outlinewidth": 0,
              "ticks": ""
             }
            },
            "type": "scattercarpet"
           }
          ],
          "scattergeo": [
           {
            "marker": {
             "colorbar": {
              "outlinewidth": 0,
              "ticks": ""
             }
            },
            "type": "scattergeo"
           }
          ],
          "scattergl": [
           {
            "marker": {
             "colorbar": {
              "outlinewidth": 0,
              "ticks": ""
             }
            },
            "type": "scattergl"
           }
          ],
          "scattermapbox": [
           {
            "marker": {
             "colorbar": {
              "outlinewidth": 0,
              "ticks": ""
             }
            },
            "type": "scattermapbox"
           }
          ],
          "scatterpolar": [
           {
            "marker": {
             "colorbar": {
              "outlinewidth": 0,
              "ticks": ""
             }
            },
            "type": "scatterpolar"
           }
          ],
          "scatterpolargl": [
           {
            "marker": {
             "colorbar": {
              "outlinewidth": 0,
              "ticks": ""
             }
            },
            "type": "scatterpolargl"
           }
          ],
          "scatterternary": [
           {
            "marker": {
             "colorbar": {
              "outlinewidth": 0,
              "ticks": ""
             }
            },
            "type": "scatterternary"
           }
          ],
          "surface": [
           {
            "colorbar": {
             "outlinewidth": 0,
             "ticks": ""
            },
            "colorscale": [
             [
              0,
              "#0d0887"
             ],
             [
              0.1111111111111111,
              "#46039f"
             ],
             [
              0.2222222222222222,
              "#7201a8"
             ],
             [
              0.3333333333333333,
              "#9c179e"
             ],
             [
              0.4444444444444444,
              "#bd3786"
             ],
             [
              0.5555555555555556,
              "#d8576b"
             ],
             [
              0.6666666666666666,
              "#ed7953"
             ],
             [
              0.7777777777777778,
              "#fb9f3a"
             ],
             [
              0.8888888888888888,
              "#fdca26"
             ],
             [
              1,
              "#f0f921"
             ]
            ],
            "type": "surface"
           }
          ],
          "table": [
           {
            "cells": {
             "fill": {
              "color": "#EBF0F8"
             },
             "line": {
              "color": "white"
             }
            },
            "header": {
             "fill": {
              "color": "#C8D4E3"
             },
             "line": {
              "color": "white"
             }
            },
            "type": "table"
           }
          ]
         },
         "layout": {
          "annotationdefaults": {
           "arrowcolor": "#2a3f5f",
           "arrowhead": 0,
           "arrowwidth": 1
          },
          "autotypenumbers": "strict",
          "coloraxis": {
           "colorbar": {
            "outlinewidth": 0,
            "ticks": ""
           }
          },
          "colorscale": {
           "diverging": [
            [
             0,
             "#8e0152"
            ],
            [
             0.1,
             "#c51b7d"
            ],
            [
             0.2,
             "#de77ae"
            ],
            [
             0.3,
             "#f1b6da"
            ],
            [
             0.4,
             "#fde0ef"
            ],
            [
             0.5,
             "#f7f7f7"
            ],
            [
             0.6,
             "#e6f5d0"
            ],
            [
             0.7,
             "#b8e186"
            ],
            [
             0.8,
             "#7fbc41"
            ],
            [
             0.9,
             "#4d9221"
            ],
            [
             1,
             "#276419"
            ]
           ],
           "sequential": [
            [
             0,
             "#0d0887"
            ],
            [
             0.1111111111111111,
             "#46039f"
            ],
            [
             0.2222222222222222,
             "#7201a8"
            ],
            [
             0.3333333333333333,
             "#9c179e"
            ],
            [
             0.4444444444444444,
             "#bd3786"
            ],
            [
             0.5555555555555556,
             "#d8576b"
            ],
            [
             0.6666666666666666,
             "#ed7953"
            ],
            [
             0.7777777777777778,
             "#fb9f3a"
            ],
            [
             0.8888888888888888,
             "#fdca26"
            ],
            [
             1,
             "#f0f921"
            ]
           ],
           "sequentialminus": [
            [
             0,
             "#0d0887"
            ],
            [
             0.1111111111111111,
             "#46039f"
            ],
            [
             0.2222222222222222,
             "#7201a8"
            ],
            [
             0.3333333333333333,
             "#9c179e"
            ],
            [
             0.4444444444444444,
             "#bd3786"
            ],
            [
             0.5555555555555556,
             "#d8576b"
            ],
            [
             0.6666666666666666,
             "#ed7953"
            ],
            [
             0.7777777777777778,
             "#fb9f3a"
            ],
            [
             0.8888888888888888,
             "#fdca26"
            ],
            [
             1,
             "#f0f921"
            ]
           ]
          },
          "colorway": [
           "#636efa",
           "#EF553B",
           "#00cc96",
           "#ab63fa",
           "#FFA15A",
           "#19d3f3",
           "#FF6692",
           "#B6E880",
           "#FF97FF",
           "#FECB52"
          ],
          "font": {
           "color": "#2a3f5f"
          },
          "geo": {
           "bgcolor": "white",
           "lakecolor": "white",
           "landcolor": "#E5ECF6",
           "showlakes": true,
           "showland": true,
           "subunitcolor": "white"
          },
          "hoverlabel": {
           "align": "left"
          },
          "hovermode": "closest",
          "mapbox": {
           "style": "light"
          },
          "paper_bgcolor": "white",
          "plot_bgcolor": "#E5ECF6",
          "polar": {
           "angularaxis": {
            "gridcolor": "white",
            "linecolor": "white",
            "ticks": ""
           },
           "bgcolor": "#E5ECF6",
           "radialaxis": {
            "gridcolor": "white",
            "linecolor": "white",
            "ticks": ""
           }
          },
          "scene": {
           "xaxis": {
            "backgroundcolor": "#E5ECF6",
            "gridcolor": "white",
            "gridwidth": 2,
            "linecolor": "white",
            "showbackground": true,
            "ticks": "",
            "zerolinecolor": "white"
           },
           "yaxis": {
            "backgroundcolor": "#E5ECF6",
            "gridcolor": "white",
            "gridwidth": 2,
            "linecolor": "white",
            "showbackground": true,
            "ticks": "",
            "zerolinecolor": "white"
           },
           "zaxis": {
            "backgroundcolor": "#E5ECF6",
            "gridcolor": "white",
            "gridwidth": 2,
            "linecolor": "white",
            "showbackground": true,
            "ticks": "",
            "zerolinecolor": "white"
           }
          },
          "shapedefaults": {
           "line": {
            "color": "#2a3f5f"
           }
          },
          "ternary": {
           "aaxis": {
            "gridcolor": "white",
            "linecolor": "white",
            "ticks": ""
           },
           "baxis": {
            "gridcolor": "white",
            "linecolor": "white",
            "ticks": ""
           },
           "bgcolor": "#E5ECF6",
           "caxis": {
            "gridcolor": "white",
            "linecolor": "white",
            "ticks": ""
           }
          },
          "title": {
           "x": 0.05
          },
          "xaxis": {
           "automargin": true,
           "gridcolor": "white",
           "linecolor": "white",
           "ticks": "",
           "title": {
            "standoff": 15
           },
           "zerolinecolor": "white",
           "zerolinewidth": 2
          },
          "yaxis": {
           "automargin": true,
           "gridcolor": "white",
           "linecolor": "white",
           "ticks": "",
           "title": {
            "standoff": 15
           },
           "zerolinecolor": "white",
           "zerolinewidth": 2
          }
         }
        },
        "title": {
         "text": "Pie chart of different sentiments of tweets"
        }
       }
      }
     },
     "metadata": {},
     "output_type": "display_data"
    }
   ],
   "source": [
    "# Pie Chart for Sentiments, Blue for Positif and Red for Negatif\n",
    "fig = px.pie(tweet_df, names='sentiment', title ='Pie chart of different sentiments of tweets')\n",
    "fig.show()"
   ]
  },
  {
   "cell_type": "code",
   "execution_count": 34,
   "metadata": {},
   "outputs": [
    {
     "data": {
      "text/plain": [
       "<Axes: title={'center': 'Sentiment Analysis'}>"
      ]
     },
     "execution_count": 34,
     "metadata": {},
     "output_type": "execute_result"
    },
    {
     "data": {
      "image/png": "[encoded data removed]",
      "text/plain": [
       "<Figure size 432x288 with 1 Axes>"
      ]
     },
     "metadata": {
      "needs_background": "light"
     },
     "output_type": "display_data"
    }
   ],
   "source": [
    "# Give me a chart for sentiment column\n",
    "tweet_df['sentiment'].value_counts().plot(kind='bar', title='Sentiment Analysis')"
   ]
  },
  {
   "cell_type": "code",
   "execution_count": 35,
   "metadata": {},
   "outputs": [
    {
     "name": "stdout",
     "output_type": "stream",
     "text": [
      "['tidak apa', 'orang', 'pegawai', 'kemenkeu', 'libat', 'trilyun', 'penjara', 'lapor']\n",
      "1\n",
      "[0 1]\n"
     ]
    }
   ],
   "source": [
    "# Label Encoding\n",
    "from sklearn.preprocessing import LabelEncoder\n",
    "\n",
    "X = tweet_df['stem']\n",
    "\n",
    "# Encode target labels\n",
    "le = LabelEncoder()\n",
    "Y = le.fit_transform(tweet_df['sentiment'])\n",
    "\n",
    "print(X[0])\n",
    "print(Y[0])\n",
    "\n",
    "# Print unique value in Y\n",
    "print(np.unique(Y))"
   ]
  },
  {
   "cell_type": "code",
   "execution_count": 36,
   "metadata": {},
   "outputs": [
    {
     "name": "stdout",
     "output_type": "stream",
     "text": [
      "Positive:  840\n",
      "Negative:  1162\n"
     ]
    }
   ],
   "source": [
    "# Print size of positive and negative sentiment\n",
    "print(\"Positive: \", len(tweet_df[tweet_df['sentiment'] == 'Positif']))\n",
    "print(\"Negative: \", len(tweet_df[tweet_df['sentiment'] == 'Negatif']))"
   ]
  },
  {
   "attachments": {},
   "cell_type": "markdown",
   "metadata": {},
   "source": [
    "## **4. Modelling**"
   ]
  },
  {
   "attachments": {},
   "cell_type": "markdown",
   "metadata": {},
   "source": [
    "### **4.1 With LSTM**"
   ]
  },
  {
   "cell_type": "code",
   "execution_count": 37,
   "metadata": {},
   "outputs": [
    {
     "name": "stdout",
     "output_type": "stream",
     "text": [
      "(1601,) (1601,)\n",
      "(1200,) (1200,)\n"
     ]
    }
   ],
   "source": [
    "# Import Library\n",
    "from sklearn.feature_extraction.text import CountVectorizer\n",
    "from keras.preprocessing.text import Tokenizer\n",
    "from keras_preprocessing.sequence import pad_sequences\n",
    "from keras.models import Sequential\n",
    "from keras.layers import Dense, Embedding, LSTM\n",
    "from sklearn.model_selection import train_test_split\n",
    "from keras.utils import to_categorical\n",
    "\n",
    "# Train Test Split\n",
    "y = pd.get_dummies(tweet_df['sentiment'])\n",
    "X_train, X_test, y_train, y_test = train_test_split(X,Y, test_size = 0.10, random_state = 1)\n",
    "print(X_train.shape,y_train.shape)\n",
    "X_train, X_val, y_train, y_val = train_test_split(X_train, y_train, test_size=0.10, random_state=1)\n",
    "print(X_train.shape,y_train.shape)\n"
   ]
  },
  {
   "cell_type": "code",
   "execution_count": 38,
   "metadata": {},
   "outputs": [],
   "source": [
    "vocabulary_size = 5000\n",
    "\n",
    "# Tweets have already been preprocessed hence dummy function will be passed in \n",
    "# to preprocessor & tokenizer step\n",
    "count_vector = CountVectorizer(max_features=vocabulary_size,\n",
    "#                               ngram_range=(1,2),    # unigram and bigram\n",
    "                                preprocessor=lambda x: x,\n",
    "                               tokenizer=lambda x: x) \n",
    "#tfidf_vector = TfidfVectorizer(lowercase=True, stop_words='english')\n",
    "\n",
    "# Fit the training data\n",
    "X_train = count_vector.fit_transform(X_train).toarray()\n",
    "\n",
    "# Transform testing data\n",
    "X_test = count_vector.transform(X_test).toarray()"
   ]
  },
  {
   "cell_type": "code",
   "execution_count": 39,
   "metadata": {},
   "outputs": [
    {
     "name": "stdout",
     "output_type": "stream",
     "text": [
      "['', 'a', 'aamiin', 'abad', 'abang', 'abdi', 'abiisss', 'abissssslah', 'abiz', 'abrik', 'abur', 'acak', 'acara', 'accord', 'acem', 'achieve', 'achwong', 'acting', 'action', 'actionnya', 'ada', 'adil', 'adl', 'admin', 'administrasi', 'administratif', 'admn', 'adu', 'aduh', 'afiliasi', 'afmgm', 'agama', 'agan', 'agnes', 'agnesz', 'agregat', 'agung', 'ah', 'ahirahir', 'ahli', 'ahoker', 'aib', 'air', 'aja', 'ajah', 'ajakebenaran', 'ajang', 'ajar', 'ajib', 'aju', 'akademis', 'akal', 'akalin', 'akan', 'akar', 'akhir', 'akhirat', 'akhlak', 'akibat', 'akselerasi', 'akses', 'aksi', 'aktif', 'akting', 'aku', 'akumulasi', 'akun', 'akuntabel', 'akuntableblablaandap', 'akuntan', 'akurat', 'al', 'ala', 'alam', 'alamat', 'alami', 'alas', 'algojo', 'alhamdulillah', 'alhamdulillahbisa', 'ali', 'alias', 'alibi', 'alih', 'alir', 'allah', 'allahbagaimanapun', 'alloh', 'alm', 'alokasi', 'alpha', 'alright', 'alternatif', 'alumni', 'alun', 'alunini', 'alunjangan', 'alur', 'alusista', 'always', 'aman', 'amanah', 'amanat', 'amat', 'ambil', 'ambisi', 'amburadul', 'amerika', 'amin', 'amis', 'amit', 'amnesty', 'amoralitas', 'amp', 'ampas', 'ampe', 'ampo', 'amppara', 'ampun', 'ampunn', 'ampuunn', 'amrik', 'an', 'anak', 'anakbuahnya', 'anake', 'analisa', 'analisanya', 'analisis', 'analogi', 'ancam', 'and', 'anda', 'andai', 'andal', 'andasaya', 'andika', 'andipram', 'ane', 'aneh', 'anehaneh', 'ang', 'anggap', 'anggar', 'anggota', 'anggur', 'angin', 'angka', 'angkasa', 'angkat', 'angket', 'ani', 'aniaya', 'anies', 'anieslagi', 'anjing', 'anjlok', 'anomali', 'ant', 'antekanteknya', 'antem', 'anti', 'antik', 'anw', 'apa', 'apaemang', 'apalg', 'apapenegakkan', 'apapunkemenkeu', 'aparat', 'aparatur', 'apbd', 'apbn', 'aph', 'aphbukan', 'api', 'apip', 'apkah', 'aplgi', 'aplikasi', 'apply', 'apresiasi', 'april', 'arah', 'arahaan', 'are', 'arogan', 'arteria', 'arti', 'artis', 'arus', 'arwana', 'as', 'as far as i know', 'asa', 'asabri', 'asai', 'asal', 'asean', 'aseanepicentrumofgrowth']\n"
     ]
    }
   ],
   "source": [
    "# print first 200 words/tokens\n",
    "print(count_vector.get_feature_names()[0:200])"
   ]
  },
  {
   "cell_type": "code",
   "execution_count": 40,
   "metadata": {},
   "outputs": [
    {
     "data": {
      "image/png": "[encoded data removed]",
      "text/plain": [
       "<Figure size 432x288 with 1 Axes>"
      ]
     },
     "metadata": {
      "needs_background": "light"
     },
     "output_type": "display_data"
    }
   ],
   "source": [
    "# Plot the BoW feature vector\n",
    "plt.plot(X_train[2,:])\n",
    "plt.xlabel('Word')\n",
    "plt.ylabel('Count')\n",
    "plt.show()"
   ]
  },
  {
   "cell_type": "code",
   "execution_count": 41,
   "metadata": {},
   "outputs": [
    {
     "name": "stdout",
     "output_type": "stream",
     "text": [
      "Before Tokenization & Padding \n",
      " ['tidak apa', 'orang', 'pegawai', 'kemenkeu', 'libat', 'trilyun', 'penjara', 'lapor']\n",
      "After Tokenization & Padding \n",
      " [696   6   5   1  34 178 487  35   0   0   0   0   0   0   0   0   0   0\n",
      "   0   0   0   0   0   0   0   0   0   0   0   0   0   0   0   0   0   0\n",
      "   0   0   0   0   0   0   0   0   0   0   0   0   0   0   0   0   0   0\n",
      "   0   0   0   0   0   0   0   0   0   0   0   0   0   0   0   0   0   0\n",
      "   0   0   0   0   0   0   0   0   0   0   0   0   0   0   0   0   0   0\n",
      "   0   0   0   0   0   0   0   0   0   0]\n"
     ]
    }
   ],
   "source": [
    "# Tokenizing & Padding\n",
    "def tokenize_pad_sequences(text):\n",
    "    '''\n",
    "    This function tokenize the input text into sequnences of intergers and then\n",
    "    pad each sequence to the same length\n",
    "    '''\n",
    "    # Text tokenization\n",
    "    tokenizer = Tokenizer(num_words=max_words, lower=True, split=' ')\n",
    "    tokenizer.fit_on_texts(text)\n",
    "    # Transforms text to a sequence of integers\n",
    "    X = tokenizer.texts_to_sequences(text)\n",
    "    # Pad sequences to the same length\n",
    "    X = pad_sequences(X, padding='post', maxlen=max_len)\n",
    "    # return sequences\n",
    "    return X, tokenizer\n",
    "\n",
    "# Set the maximum number of words to be used\n",
    "max_words = 5000\n",
    "\n",
    "# Set the maximum length of each sequence (in words)\n",
    "max_len = 100\n",
    "\n",
    "print('Before Tokenization & Padding \\n', tweet_df['stem'][0])\n",
    "X, tokenizer = tokenize_pad_sequences(tweet_df['stem'])\n",
    "print('After Tokenization & Padding \\n', X[0])"
   ]
  },
  {
   "cell_type": "code",
   "execution_count": 42,
   "metadata": {},
   "outputs": [
    {
     "name": "stdout",
     "output_type": "stream",
     "text": [
      "Train Set -> (1200, 100) (1200, 2)\n",
      "Validation Set -> (401, 100) (401, 2)\n",
      "Test Set -> (401, 100) (401, 2)\n"
     ]
    }
   ],
   "source": [
    "# Train test split\n",
    "y = pd.get_dummies(tweet_df['sentiment'])\n",
    "X_train, X_test, y_train, y_test = train_test_split(X, y, test_size=0.2, random_state=1)\n",
    "X_train, X_val, y_train, y_val = train_test_split(X_train, y_train, test_size=0.25, random_state=1)\n",
    "\n",
    "print('Train Set ->', X_train.shape, y_train.shape)\n",
    "print('Validation Set ->', X_val.shape, y_val.shape)\n",
    "print('Test Set ->', X_test.shape, y_test.shape)"
   ]
  },
  {
   "cell_type": "code",
   "execution_count": 43,
   "metadata": {},
   "outputs": [],
   "source": [
    "import keras.backend as K\n",
    "\n",
    "def f1_score(precision, recall):\n",
    "    ''' Function to calculate f1 score '''\n",
    "    \n",
    "    f1_val = 2*(precision*recall)/(precision+recall+K.epsilon())\n",
    "    return f1_val"
   ]
  },
  {
   "cell_type": "code",
   "execution_count": 44,
   "metadata": {},
   "outputs": [
    {
     "name": "stdout",
     "output_type": "stream",
     "text": [
      "Model: \"sequential\"\n",
      "_________________________________________________________________\n",
      " Layer (type)                Output Shape              Param #   \n",
      "=================================================================\n",
      " embedding (Embedding)       (None, 100, 128)          640000    \n",
      "                                                                 \n",
      " spatial_dropout1d (SpatialD  (None, 100, 128)         0         \n",
      " ropout1D)                                                       \n",
      "                                                                 \n",
      " lstm (LSTM)                 (None, 196)               254800    \n",
      "                                                                 \n",
      " dense (Dense)               (None, 2)                 394       \n",
      "                                                                 \n",
      "=================================================================\n",
      "Total params: 895,194\n",
      "Trainable params: 895,194\n",
      "Non-trainable params: 0\n",
      "_________________________________________________________________\n",
      "None\n"
     ]
    }
   ],
   "source": [
    "# Import Library\n",
    "import tensorflow as tf\n",
    "from sklearn.feature_extraction.text import CountVectorizer\n",
    "from keras.preprocessing.text import Tokenizer\n",
    "from keras_preprocessing.sequence import pad_sequences\n",
    "from keras.models import Sequential\n",
    "from keras.layers import Dense, Embedding, LSTM, SpatialDropout1D\n",
    "from keras.utils import to_categorical\n",
    "from keras.metrics import Precision, Recall\n",
    "\n",
    "from keras.callbacks import LearningRateScheduler\n",
    "from keras.callbacks import History\n",
    "\n",
    "from keras import losses\n",
    "\n",
    "embed_dim = 128\n",
    "lstm_out = 196\n",
    "\n",
    "model = Sequential()\n",
    "model.add(Embedding(max_words, embed_dim,input_length = X.shape[1]))\n",
    "model.add(SpatialDropout1D(0.4))\n",
    "model.add(LSTM(lstm_out, dropout=0.2, recurrent_dropout=0.2))\n",
    "model.add(Dense(2,activation='softmax'))\n",
    "model.compile(loss = 'categorical_crossentropy', optimizer='adam',metrics = ['accuracy', Precision(), Recall()])\n",
    "print(model.summary())"
   ]
  },
  {
   "cell_type": "code",
   "execution_count": 45,
   "metadata": {},
   "outputs": [
    {
     "data": {
      "image/png": "[encoded data removed]",
      "text/plain": [
       "<IPython.core.display.Image object>"
      ]
     },
     "execution_count": 45,
     "metadata": {},
     "output_type": "execute_result"
    }
   ],
   "source": [
    "import tensorflow as tf\n",
    "\n",
    "# Plot the model\n",
    "tf.keras.utils.plot_model(model, show_shapes=True)"
   ]
  },
  {
   "cell_type": "code",
   "execution_count": 46,
   "metadata": {},
   "outputs": [
    {
     "name": "stdout",
     "output_type": "stream",
     "text": [
      "Epoch 1/20\n",
      "38/38 - 23s - loss: 0.6823 - accuracy: 0.5875 - precision: 0.5875 - recall: 0.5875 - val_loss: 0.6980 - val_accuracy: 0.5511 - val_precision: 0.5511 - val_recall: 0.5511 - 23s/epoch - 605ms/step\n",
      "Epoch 2/20\n",
      "38/38 - 13s - loss: 0.6799 - accuracy: 0.5875 - precision: 0.5875 - recall: 0.5875 - val_loss: 0.6910 - val_accuracy: 0.5511 - val_precision: 0.5511 - val_recall: 0.5511 - 13s/epoch - 345ms/step\n",
      "Epoch 3/20\n",
      "38/38 - 14s - loss: 0.6802 - accuracy: 0.5875 - precision: 0.5875 - recall: 0.5875 - val_loss: 0.6883 - val_accuracy: 0.5511 - val_precision: 0.5511 - val_recall: 0.5511 - 14s/epoch - 380ms/step\n",
      "Epoch 4/20\n",
      "38/38 - 14s - loss: 0.6795 - accuracy: 0.5875 - precision: 0.5875 - recall: 0.5875 - val_loss: 0.6883 - val_accuracy: 0.5511 - val_precision: 0.5511 - val_recall: 0.5511 - 14s/epoch - 371ms/step\n",
      "Epoch 5/20\n",
      "38/38 - 14s - loss: 0.6785 - accuracy: 0.5875 - precision: 0.5875 - recall: 0.5875 - val_loss: 0.6905 - val_accuracy: 0.5511 - val_precision: 0.5511 - val_recall: 0.5511 - 14s/epoch - 368ms/step\n",
      "Epoch 6/20\n",
      "38/38 - 14s - loss: 0.6795 - accuracy: 0.5875 - precision: 0.5875 - recall: 0.5875 - val_loss: 0.6884 - val_accuracy: 0.5511 - val_precision: 0.5511 - val_recall: 0.5511 - 14s/epoch - 361ms/step\n",
      "Epoch 7/20\n",
      "38/38 - 13s - loss: 0.6785 - accuracy: 0.5875 - precision: 0.5875 - recall: 0.5875 - val_loss: 0.6895 - val_accuracy: 0.5511 - val_precision: 0.5511 - val_recall: 0.5511 - 13s/epoch - 351ms/step\n",
      "Epoch 8/20\n",
      "38/38 - 14s - loss: 0.6795 - accuracy: 0.5875 - precision: 0.5875 - recall: 0.5875 - val_loss: 0.6899 - val_accuracy: 0.5511 - val_precision: 0.5511 - val_recall: 0.5511 - 14s/epoch - 376ms/step\n",
      "Epoch 9/20\n",
      "38/38 - 14s - loss: 0.6784 - accuracy: 0.5875 - precision: 0.5875 - recall: 0.5875 - val_loss: 0.6884 - val_accuracy: 0.5511 - val_precision: 0.5511 - val_recall: 0.5511 - 14s/epoch - 376ms/step\n",
      "Epoch 10/20\n",
      "38/38 - 15s - loss: 0.6786 - accuracy: 0.5875 - precision: 0.5875 - recall: 0.5875 - val_loss: 0.6898 - val_accuracy: 0.5511 - val_precision: 0.5511 - val_recall: 0.5511 - 15s/epoch - 391ms/step\n",
      "Epoch 11/20\n",
      "38/38 - 16s - loss: 0.6788 - accuracy: 0.5875 - precision: 0.5875 - recall: 0.5875 - val_loss: 0.6892 - val_accuracy: 0.5511 - val_precision: 0.5511 - val_recall: 0.5511 - 16s/epoch - 410ms/step\n",
      "Epoch 12/20\n",
      "38/38 - 14s - loss: 0.6794 - accuracy: 0.5875 - precision: 0.5875 - recall: 0.5875 - val_loss: 0.6880 - val_accuracy: 0.5511 - val_precision: 0.5511 - val_recall: 0.5511 - 14s/epoch - 380ms/step\n",
      "Epoch 13/20\n",
      "38/38 - 15s - loss: 0.6788 - accuracy: 0.5875 - precision: 0.5875 - recall: 0.5875 - val_loss: 0.6929 - val_accuracy: 0.5511 - val_precision: 0.5511 - val_recall: 0.5511 - 15s/epoch - 389ms/step\n",
      "Epoch 14/20\n",
      "38/38 - 15s - loss: 0.6784 - accuracy: 0.5875 - precision: 0.5875 - recall: 0.5875 - val_loss: 0.6884 - val_accuracy: 0.5511 - val_precision: 0.5511 - val_recall: 0.5511 - 15s/epoch - 396ms/step\n",
      "Epoch 15/20\n",
      "38/38 - 15s - loss: 0.6787 - accuracy: 0.5875 - precision: 0.5875 - recall: 0.5875 - val_loss: 0.6910 - val_accuracy: 0.5511 - val_precision: 0.5511 - val_recall: 0.5511 - 15s/epoch - 403ms/step\n",
      "Epoch 16/20\n",
      "38/38 - 15s - loss: 0.6775 - accuracy: 0.5875 - precision: 0.5875 - recall: 0.5875 - val_loss: 0.6916 - val_accuracy: 0.5511 - val_precision: 0.5511 - val_recall: 0.5511 - 15s/epoch - 393ms/step\n",
      "Epoch 17/20\n",
      "38/38 - 16s - loss: 0.6781 - accuracy: 0.5875 - precision: 0.5875 - recall: 0.5875 - val_loss: 0.6956 - val_accuracy: 0.5511 - val_precision: 0.5511 - val_recall: 0.5511 - 16s/epoch - 426ms/step\n",
      "Epoch 18/20\n",
      "38/38 - 16s - loss: 0.6792 - accuracy: 0.5875 - precision: 0.5875 - recall: 0.5875 - val_loss: 0.6901 - val_accuracy: 0.5511 - val_precision: 0.5511 - val_recall: 0.5511 - 16s/epoch - 425ms/step\n",
      "Epoch 19/20\n",
      "38/38 - 16s - loss: 0.6781 - accuracy: 0.5875 - precision: 0.5875 - recall: 0.5875 - val_loss: 0.6892 - val_accuracy: 0.5511 - val_precision: 0.5511 - val_recall: 0.5511 - 16s/epoch - 429ms/step\n",
      "Epoch 20/20\n",
      "38/38 - 16s - loss: 0.6781 - accuracy: 0.5875 - precision: 0.5875 - recall: 0.5875 - val_loss: 0.6908 - val_accuracy: 0.5511 - val_precision: 0.5511 - val_recall: 0.5511 - 16s/epoch - 422ms/step\n"
     ]
    }
   ],
   "source": [
    "# Train the model\n",
    "batch_size = 32\n",
    "history = model.fit(X_train, y_train, \n",
    "                    validation_data=(X_val, y_val),\n",
    "                    epochs = 20, \n",
    "                    batch_size=batch_size, \n",
    "                    verbose = 2)"
   ]
  },
  {
   "cell_type": "code",
   "execution_count": 47,
   "metadata": {},
   "outputs": [
    {
     "name": "stdout",
     "output_type": "stream",
     "text": [
      "13/13 - 2s - loss: 0.6774 - accuracy: 0.5885 - precision: 0.5885 - recall: 0.5885 - 2s/epoch - 128ms/step\n",
      "\n",
      "Accuracy  : 0.5885\n",
      "Precision : 0.5885\n",
      "Recall    : 0.5885\n",
      "F1 Score  : 0.5885\n"
     ]
    }
   ],
   "source": [
    "# Evaluate model on the test set\n",
    "loss, accuracy, precision, recall = model.evaluate(X_test, y_test, verbose=2, batch_size=batch_size)\n",
    "# Print metrics\n",
    "print('')\n",
    "print('Accuracy  : {:.4f}'.format(accuracy))\n",
    "print('Precision : {:.4f}'.format(precision))\n",
    "print('Recall    : {:.4f}'.format(recall))\n",
    "print('F1 Score  : {:.4f}'.format(f1_score(precision, recall)))"
   ]
  },
  {
   "cell_type": "code",
   "execution_count": 48,
   "metadata": {},
   "outputs": [
    {
     "data": {
      "image/png": "[encoded data removed]",
      "text/plain": [
       "<Figure size 720x288 with 2 Axes>"
      ]
     },
     "metadata": {
      "needs_background": "light"
     },
     "output_type": "display_data"
    }
   ],
   "source": [
    "def plot_training_hist(history):\n",
    "    '''Function to plot history for accuracy and loss'''\n",
    "    \n",
    "    fig, ax = plt.subplots(1, 2, figsize=(10,4))\n",
    "    # first plot\n",
    "    ax[0].plot(history.history['accuracy'])\n",
    "    ax[0].plot(history.history['val_accuracy'])\n",
    "    ax[0].set_title('Model Accuracy')\n",
    "    ax[0].set_xlabel('epoch')\n",
    "    ax[0].set_ylabel('accuracy')\n",
    "    ax[0].legend(['train', 'validation'], loc='best')\n",
    "    # second plot\n",
    "    ax[1].plot(history.history['loss'])\n",
    "    ax[1].plot(history.history['val_loss'])\n",
    "    ax[1].set_title('Model Loss')\n",
    "    ax[1].set_xlabel('epoch')\n",
    "    ax[1].set_ylabel('loss')\n",
    "    ax[1].legend(['train', 'validation'], loc='best')\n",
    "    \n",
    "plot_training_hist(history)"
   ]
  },
  {
   "cell_type": "code",
   "execution_count": 49,
   "metadata": {},
   "outputs": [
    {
     "name": "stdout",
     "output_type": "stream",
     "text": [
      "13/13 [==============================] - 2s 107ms/step\n"
     ]
    },
    {
     "data": {
      "image/png": "[encoded data removed]",
      "text/plain": [
       "<Figure size 576x432 with 2 Axes>"
      ]
     },
     "metadata": {
      "needs_background": "light"
     },
     "output_type": "display_data"
    }
   ],
   "source": [
    "from sklearn.metrics import confusion_matrix\n",
    "\n",
    "def plot_confusion_matrix(model, X_test, y_test):\n",
    "    '''Function to plot confusion matrix for the passed model and the data'''\n",
    "    \n",
    "    sentiment_classes = ['Negatif', 'Positif']\n",
    "    # use model to do the prediction\n",
    "    y_pred = model.predict(X_test)\n",
    "    # compute confusion matrix\n",
    "    cm = confusion_matrix(np.argmax(np.array(y_test),axis=1), np.argmax(y_pred, axis=1))\n",
    "    # plot confusion matrix\n",
    "    plt.figure(figsize=(8,6))\n",
    "    sns.heatmap(cm, cmap=plt.cm.Blues, annot=True, fmt='d', \n",
    "                xticklabels=sentiment_classes,\n",
    "                yticklabels=sentiment_classes)\n",
    "    plt.title('Confusion matrix', fontsize=16)\n",
    "    plt.xlabel('Actual label', fontsize=12)\n",
    "    plt.ylabel('Predicted label', fontsize=12)\n",
    "    \n",
    "plot_confusion_matrix(model, X_test, y_test)"
   ]
  },
  {
   "cell_type": "markdown",
   "metadata": {},
   "source": [
    "#### **Save the best model**"
   ]
  },
  {
   "cell_type": "code",
   "execution_count": 50,
   "metadata": {},
   "outputs": [
    {
     "name": "stdout",
     "output_type": "stream",
     "text": [
      "Best model saved\n"
     ]
    }
   ],
   "source": [
    "# Save the model architecture & the weights\n",
    "model.save('best_model.h5')\n",
    "print('Best model saved')"
   ]
  },
  {
   "cell_type": "code",
   "execution_count": 51,
   "metadata": {},
   "outputs": [
    {
     "name": "stdout",
     "output_type": "stream",
     "text": [
      "[[   0    0    0    0    0    0    0    0    0    0    0    0    0    0\n",
      "     0    0    0    0    0    0  550 2748 2311 2584 2584 2790  550 2748]]\n",
      "1/1 - 0s - 460ms/epoch - 460ms/step\n",
      "negative\n"
     ]
    }
   ],
   "source": [
    "twt = ['Meetings: Because none of us is as dumb as all of us.']\n",
    "#vectorizing the tweet by the pre-fitted tokenizer instance\n",
    "twt = tokenizer.texts_to_sequences(twt)\n",
    "#padding the tweet to have exactly the same shape as `embedding_2` input\n",
    "twt = pad_sequences(twt, maxlen=28, dtype='int32', value=0)\n",
    "print(twt)\n",
    "sentiment = model.predict(twt,batch_size=1,verbose = 2)[0]\n",
    "if(np.argmax(sentiment) == 0):\n",
    "    print(\"negative\")\n",
    "elif (np.argmax(sentiment) == 1):\n",
    "    print(\"positive\")"
   ]
  },
  {
   "cell_type": "code",
   "execution_count": 52,
   "metadata": {},
   "outputs": [
    {
     "name": "stdout",
     "output_type": "stream",
     "text": [
      "[[0 0 0 0 0 0 0 0 0 0 0 0 0 0 0 0 0 0 0 0 0 0 0 0 0 0 0 0]]\n",
      "1/1 - 0s - 48ms/epoch - 48ms/step\n",
      "The predicted sentiment is Negative\n"
     ]
    }
   ],
   "source": [
    "twt = ['Bad']\n",
    "#vectorizing the tweet by the pre-fitted tokenizer instance\n",
    "twt = tokenizer.texts_to_sequences(twt)\n",
    "#padding the tweet to have exactly the same shape as `embedding_2` input\n",
    "twt = pad_sequences(twt, maxlen=28, dtype='int32', value=0)\n",
    "print(twt)\n",
    "sentiment = model.predict(twt,batch_size=1,verbose = 2)[0]\n",
    "if(np.argmax(sentiment) == 0):\n",
    "    print(\"The predicted sentiment is Negative\")\n",
    "elif (np.argmax(sentiment) == 1):\n",
    "    print(\"The predicted sentiment is Positive\")"
   ]
  },
  {
   "cell_type": "code",
   "execution_count": 57,
   "metadata": {},
   "outputs": [
    {
     "name": "stdout",
     "output_type": "stream",
     "text": [
      "[[  0   0   0   0   0   0   0   0   0   0   0   0   0   0   0   0   0   0\n",
      "    0   0   0   0   0   0   0 366  49 741]]\n",
      "1/1 - 0s - 214ms/epoch - 214ms/step\n",
      "The predicted sentiment is Negative\n"
     ]
    }
   ],
   "source": [
    "twt = ['Bagus Dukung terus']\n",
    "#vectorizing the tweet by the pre-fitted tokenizer instance\n",
    "twt = tokenizer.texts_to_sequences(twt)\n",
    "#padding the tweet to have exactly the same shape as `embedding_2` input\n",
    "twt = pad_sequences(twt, maxlen=28, dtype='int32', value=0)\n",
    "print(twt)\n",
    "sentiment = model.predict(twt,batch_size=1,verbose = 2)[0]\n",
    "if(np.argmax(sentiment) == 0):\n",
    "    print(\"The predicted sentiment is Negative\")\n",
    "elif (np.argmax(sentiment) == 1):\n",
    "    print(\"The predicted sentiment is Positive\")"
   ]
  },
  {
   "cell_type": "code",
   "execution_count": null,
   "metadata": {},
   "outputs": [],
   "source": [
    "# from keras.models import load_model\n",
    "\n",
    "# # Load model\n",
    "# model = load_model('best_model.h5')\n",
    "\n",
    "# def predict_class(text):\n",
    "#     '''Function to predict sentiment class of the passed text'''\n",
    "    \n",
    "#     sentiment_classes = ['Negative', 'Positive']\n",
    "#     max_len=50\n",
    "    \n",
    "#     #vectorizing the tweet by the pre-fitted tokenizer instance\n",
    "#     xt = tokenizer.texts_to_sequences(text)\n",
    "#     #padding the tweet to have exactly the same shape as `embedding_2` input\n",
    "#     xt = pad_sequences(xt, maxlen=max_len, dtype='int32', value=0)\n",
    "#     # print(twt)\n",
    "#     sentiment = model.predict(xt,batch_size=1,verbose = 2)[0]\n",
    "#     if(np.argmax(sentiment) == 0):\n",
    "#         print(\"negative\")\n",
    "#     elif (np.argmax(sentiment) == 1):\n",
    "#         print(\"positive\")\n",
    "#     # Print the predicted sentiment\n",
    "#     print('The predicted sentiment is', sentiment_classes[sentiment[0]])\n"
   ]
  }
 ],
 "metadata": {
  "kernelspec": {
   "display_name": "base",
   "language": "python",
   "name": "python3"
  },
  "language_info": {
   "codemirror_mode": {
    "name": "ipython",
    "version": 3
   },
   "file_extension": ".py",
   "mimetype": "text/x-python",
   "name": "python",
   "nbconvert_exporter": "python",
   "pygments_lexer": "ipython3",
   "version": "3.8.8"
  },
  "orig_nbformat": 4,
  "vscode": {
   "interpreter": {
    "hash": "b09ec625f77bf4fd762565a912b97636504ad6ec901eb2d0f4cf5a7de23e1ee5"
   }
  }
 },
 "nbformat": 4,
 "nbformat_minor": 2
}
