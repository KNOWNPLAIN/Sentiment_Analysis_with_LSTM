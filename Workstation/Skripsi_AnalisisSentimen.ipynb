{
 "cells": [
  {
   "attachments": {},
   "cell_type": "markdown",
   "metadata": {},
   "source": [
    "# **Table of Contents**"
   ]
  },
  {
   "attachments": {},
   "cell_type": "markdown",
   "metadata": {},
   "source": [
    "## **1. Business Understanding**"
   ]
  },
  {
   "attachments": {},
   "cell_type": "markdown",
   "metadata": {},
   "source": [
    "## **2. Data Understanding**"
   ]
  },
  {
   "attachments": {},
   "cell_type": "markdown",
   "metadata": {},
   "source": [
    "## **3. Data Preprocessing**"
   ]
  },
  {
   "attachments": {},
   "cell_type": "markdown",
   "metadata": {},
   "source": [
    "### **3.1 Import Library**"
   ]
  },
  {
   "cell_type": "code",
   "execution_count": 1,
   "metadata": {},
   "outputs": [],
   "source": [
    "# Scraping data from google play store\n",
    "from google_play_scraper import app\n",
    "from google_play_scraper import Sort, reviews\n",
    "\n",
    "# Data manipulation\n",
    "import pandas as pd\n",
    "import numpy as np\n",
    "\n",
    "# Data visualization\n",
    "import matplotlib.pyplot as plt\n",
    "import seaborn as sns\n",
    "import plotly.express as px"
   ]
  },
  {
   "attachments": {},
   "cell_type": "markdown",
   "metadata": {},
   "source": [
    "### **3.2 Scrapping Data**"
   ]
  },
  {
   "cell_type": "code",
   "execution_count": 2,
   "metadata": {},
   "outputs": [],
   "source": [
    "# Get reviews from google play store\n",
    "result, continuation_token = reviews(\n",
    "    'com.bca',\n",
    "    lang='id', # defaults to 'id'\n",
    "    country='id', # defaults to 'id'\n",
    "    sort=Sort.NEWEST, # defaults to Sort.MOST_RELEVANT\n",
    "    count=1000, # defaults to 100\n",
    "    filter_score_with=None # defaults to None(means all score)\n",
    ")"
   ]
  },
  {
   "cell_type": "code",
   "execution_count": 3,
   "metadata": {},
   "outputs": [
    {
     "data": {
      "text/html": [
       "<div>\n",
       "<style scoped>\n",
       "    .dataframe tbody tr th:only-of-type {\n",
       "        vertical-align: middle;\n",
       "    }\n",
       "\n",
       "    .dataframe tbody tr th {\n",
       "        vertical-align: top;\n",
       "    }\n",
       "\n",
       "    .dataframe thead th {\n",
       "        text-align: right;\n",
       "    }\n",
       "</style>\n",
       "<table border=\"1\" class=\"dataframe\">\n",
       "  <thead>\n",
       "    <tr style=\"text-align: right;\">\n",
       "      <th></th>\n",
       "      <th>reviewId</th>\n",
       "      <th>userName</th>\n",
       "      <th>userImage</th>\n",
       "      <th>content</th>\n",
       "      <th>score</th>\n",
       "      <th>thumbsUpCount</th>\n",
       "      <th>reviewCreatedVersion</th>\n",
       "      <th>at</th>\n",
       "      <th>replyContent</th>\n",
       "      <th>repliedAt</th>\n",
       "    </tr>\n",
       "  </thead>\n",
       "  <tbody>\n",
       "    <tr>\n",
       "      <th>0</th>\n",
       "      <td>cf3f7b98-2ad8-4e15-b033-825190bf0389</td>\n",
       "      <td>Chris Nur</td>\n",
       "      <td>https://play-lh.googleusercontent.com/a/AGNmyx...</td>\n",
       "      <td>ok</td>\n",
       "      <td>5</td>\n",
       "      <td>0</td>\n",
       "      <td>4.0.3</td>\n",
       "      <td>2023-03-27 16:03:27</td>\n",
       "      <td>Thank you for the review. Hopefully the BCA mo...</td>\n",
       "      <td>2023-03-27 17:27:17</td>\n",
       "    </tr>\n",
       "    <tr>\n",
       "      <th>1</th>\n",
       "      <td>13ee74ae-92a0-4370-8e65-8426ea139379</td>\n",
       "      <td>shadow_owl 82</td>\n",
       "      <td>https://play-lh.googleusercontent.com/a-/ACB-R...</td>\n",
       "      <td>Sangat membantu</td>\n",
       "      <td>5</td>\n",
       "      <td>0</td>\n",
       "      <td>4.0.3</td>\n",
       "      <td>2023-03-27 15:59:12</td>\n",
       "      <td>Terima kasih atas ulasannya. Semoga aplikasi B...</td>\n",
       "      <td>2023-03-27 17:27:27</td>\n",
       "    </tr>\n",
       "    <tr>\n",
       "      <th>2</th>\n",
       "      <td>26644161-52ee-4fda-9399-7c9bfb429b26</td>\n",
       "      <td>tata kmy</td>\n",
       "      <td>https://play-lh.googleusercontent.com/a/AGNmyx...</td>\n",
       "      <td>Ribet pake verifikasi muka segala udah kayak p...</td>\n",
       "      <td>1</td>\n",
       "      <td>0</td>\n",
       "      <td>4.0.3</td>\n",
       "      <td>2023-03-27 15:54:45</td>\n",
       "      <td>Mhn maaf atas kendalanya. Penambahan verifikas...</td>\n",
       "      <td>2023-03-27 17:27:30</td>\n",
       "    </tr>\n",
       "    <tr>\n",
       "      <th>3</th>\n",
       "      <td>b8c6b163-a108-4c0c-905e-961d837877d2</td>\n",
       "      <td>Jhoy Wae351</td>\n",
       "      <td>https://play-lh.googleusercontent.com/a/AGNmyx...</td>\n",
       "      <td>Susah buka rek baru.. selalu gagal masuk via s...</td>\n",
       "      <td>3</td>\n",
       "      <td>0</td>\n",
       "      <td>4.0.3</td>\n",
       "      <td>2023-03-27 15:39:23</td>\n",
       "      <td>Mhn maaf atas ketidaknyamanannya Bpk/Ibu. Moho...</td>\n",
       "      <td>2023-03-27 17:27:36</td>\n",
       "    </tr>\n",
       "    <tr>\n",
       "      <th>4</th>\n",
       "      <td>1cd736ad-6ba5-4032-b6e2-e6e7cb71401e</td>\n",
       "      <td>Fidyah Romadhan</td>\n",
       "      <td>https://play-lh.googleusercontent.com/a-/ACB-R...</td>\n",
       "      <td>Ribet bgt skrg harus verifikasi KTP dulu berka...</td>\n",
       "      <td>1</td>\n",
       "      <td>0</td>\n",
       "      <td>4.0.3</td>\n",
       "      <td>2023-03-27 14:58:13</td>\n",
       "      <td>Mhn maaf atas kendalanya. Penambahan verifikas...</td>\n",
       "      <td>2023-03-27 15:22:08</td>\n",
       "    </tr>\n",
       "  </tbody>\n",
       "</table>\n",
       "</div>"
      ],
      "text/plain": [
       "                               reviewId         userName  \\\n",
       "0  cf3f7b98-2ad8-4e15-b033-825190bf0389        Chris Nur   \n",
       "1  13ee74ae-92a0-4370-8e65-8426ea139379    shadow_owl 82   \n",
       "2  26644161-52ee-4fda-9399-7c9bfb429b26         tata kmy   \n",
       "3  b8c6b163-a108-4c0c-905e-961d837877d2      Jhoy Wae351   \n",
       "4  1cd736ad-6ba5-4032-b6e2-e6e7cb71401e  Fidyah Romadhan   \n",
       "\n",
       "                                           userImage  \\\n",
       "0  https://play-lh.googleusercontent.com/a/AGNmyx...   \n",
       "1  https://play-lh.googleusercontent.com/a-/ACB-R...   \n",
       "2  https://play-lh.googleusercontent.com/a/AGNmyx...   \n",
       "3  https://play-lh.googleusercontent.com/a/AGNmyx...   \n",
       "4  https://play-lh.googleusercontent.com/a-/ACB-R...   \n",
       "\n",
       "                                             content  score  thumbsUpCount  \\\n",
       "0                                                 ok      5              0   \n",
       "1                                    Sangat membantu      5              0   \n",
       "2  Ribet pake verifikasi muka segala udah kayak p...      1              0   \n",
       "3  Susah buka rek baru.. selalu gagal masuk via s...      3              0   \n",
       "4  Ribet bgt skrg harus verifikasi KTP dulu berka...      1              0   \n",
       "\n",
       "  reviewCreatedVersion                  at  \\\n",
       "0                4.0.3 2023-03-27 16:03:27   \n",
       "1                4.0.3 2023-03-27 15:59:12   \n",
       "2                4.0.3 2023-03-27 15:54:45   \n",
       "3                4.0.3 2023-03-27 15:39:23   \n",
       "4                4.0.3 2023-03-27 14:58:13   \n",
       "\n",
       "                                        replyContent           repliedAt  \n",
       "0  Thank you for the review. Hopefully the BCA mo... 2023-03-27 17:27:17  \n",
       "1  Terima kasih atas ulasannya. Semoga aplikasi B... 2023-03-27 17:27:27  \n",
       "2  Mhn maaf atas kendalanya. Penambahan verifikas... 2023-03-27 17:27:30  \n",
       "3  Mhn maaf atas ketidaknyamanannya Bpk/Ibu. Moho... 2023-03-27 17:27:36  \n",
       "4  Mhn maaf atas kendalanya. Penambahan verifikas... 2023-03-27 15:22:08  "
      ]
     },
     "execution_count": 3,
     "metadata": {},
     "output_type": "execute_result"
    }
   ],
   "source": [
    "# Convert to dataframe\n",
    "df = pd.DataFrame(np.array(result),columns=['review'])\n",
    "df = df.join(pd.DataFrame(df.pop('review').tolist()))\n",
    "\n",
    "df.head()"
   ]
  },
  {
   "cell_type": "code",
   "execution_count": 4,
   "metadata": {},
   "outputs": [],
   "source": [
    "# Make a new dataframe with only 4 columns (userName, score, content, at)\n",
    "new_df = df[['userName', 'score', 'content', 'at']]\n",
    "new_df.head()\n",
    "\n",
    "# Save to csv\n",
    "import os.path\n",
    "new_df.to_csv(os.path.join('E:\\KAMPUS\\BERKAS - BERKAS\\Skripsi\\Dataset','bcaMobile_reviews.csv'), index=False)"
   ]
  },
  {
   "attachments": {},
   "cell_type": "markdown",
   "metadata": {},
   "source": [
    "### **3.3 Data Review**"
   ]
  },
  {
   "cell_type": "code",
   "execution_count": 5,
   "metadata": {},
   "outputs": [
    {
     "name": "stdout",
     "output_type": "stream",
     "text": [
      "<class 'pandas.core.frame.DataFrame'>\n",
      "RangeIndex: 1000 entries, 0 to 999\n",
      "Data columns (total 4 columns):\n",
      " #   Column    Non-Null Count  Dtype         \n",
      "---  ------    --------------  -----         \n",
      " 0   userName  1000 non-null   object        \n",
      " 1   score     1000 non-null   int64         \n",
      " 2   content   1000 non-null   object        \n",
      " 3   at        1000 non-null   datetime64[ns]\n",
      "dtypes: datetime64[ns](1), int64(1), object(2)\n",
      "memory usage: 31.4+ KB\n"
     ]
    }
   ],
   "source": [
    "# Check the data\n",
    "new_df.info()"
   ]
  },
  {
   "cell_type": "code",
   "execution_count": 6,
   "metadata": {},
   "outputs": [
    {
     "data": {
      "text/plain": [
       "userName    0\n",
       "score       0\n",
       "content     0\n",
       "at          0\n",
       "dtype: int64"
      ]
     },
     "execution_count": 6,
     "metadata": {},
     "output_type": "execute_result"
    }
   ],
   "source": [
    "# Check null value\n",
    "new_df.isnull().sum()"
   ]
  },
  {
   "cell_type": "code",
   "execution_count": 7,
   "metadata": {},
   "outputs": [
    {
     "data": {
      "text/plain": [
       "0"
      ]
     },
     "execution_count": 7,
     "metadata": {},
     "output_type": "execute_result"
    }
   ],
   "source": [
    "# Check duplicate value\n",
    "new_df.duplicated().sum()"
   ]
  },
  {
   "cell_type": "code",
   "execution_count": 8,
   "metadata": {},
   "outputs": [
    {
     "data": {
      "text/plain": [
       "0"
      ]
     },
     "execution_count": 8,
     "metadata": {},
     "output_type": "execute_result"
    }
   ],
   "source": [
    "# Check empty string in content column\n",
    "new_df['content'].str.isspace().sum()"
   ]
  },
  {
   "attachments": {},
   "cell_type": "markdown",
   "metadata": {},
   "source": [
    "### **3.4 Text Preprocessing**"
   ]
  },
  {
   "cell_type": "code",
   "execution_count": 9,
   "metadata": {},
   "outputs": [
    {
     "name": "stderr",
     "output_type": "stream",
     "text": [
      "<ipython-input-9-a1e6e2465383>:10: SettingWithCopyWarning: \n",
      "A value is trying to be set on a copy of a slice from a DataFrame.\n",
      "Try using .loc[row_indexer,col_indexer] = value instead\n",
      "\n",
      "See the caveats in the documentation: https://pandas.pydata.org/pandas-docs/stable/user_guide/indexing.html#returning-a-view-versus-a-copy\n",
      "  new_df['sentiment'] = new_df['score'].apply(sentiment)\n"
     ]
    },
    {
     "data": {
      "text/html": [
       "<div>\n",
       "<style scoped>\n",
       "    .dataframe tbody tr th:only-of-type {\n",
       "        vertical-align: middle;\n",
       "    }\n",
       "\n",
       "    .dataframe tbody tr th {\n",
       "        vertical-align: top;\n",
       "    }\n",
       "\n",
       "    .dataframe thead th {\n",
       "        text-align: right;\n",
       "    }\n",
       "</style>\n",
       "<table border=\"1\" class=\"dataframe\">\n",
       "  <thead>\n",
       "    <tr style=\"text-align: right;\">\n",
       "      <th></th>\n",
       "      <th>userName</th>\n",
       "      <th>score</th>\n",
       "      <th>content</th>\n",
       "      <th>at</th>\n",
       "      <th>sentiment</th>\n",
       "    </tr>\n",
       "  </thead>\n",
       "  <tbody>\n",
       "    <tr>\n",
       "      <th>0</th>\n",
       "      <td>Chris Nur</td>\n",
       "      <td>5</td>\n",
       "      <td>ok</td>\n",
       "      <td>2023-03-27 16:03:27</td>\n",
       "      <td>Positive</td>\n",
       "    </tr>\n",
       "    <tr>\n",
       "      <th>1</th>\n",
       "      <td>shadow_owl 82</td>\n",
       "      <td>5</td>\n",
       "      <td>Sangat membantu</td>\n",
       "      <td>2023-03-27 15:59:12</td>\n",
       "      <td>Positive</td>\n",
       "    </tr>\n",
       "    <tr>\n",
       "      <th>2</th>\n",
       "      <td>tata kmy</td>\n",
       "      <td>1</td>\n",
       "      <td>Ribet pake verifikasi muka segala udah kayak p...</td>\n",
       "      <td>2023-03-27 15:54:45</td>\n",
       "      <td>Negative</td>\n",
       "    </tr>\n",
       "    <tr>\n",
       "      <th>3</th>\n",
       "      <td>Jhoy Wae351</td>\n",
       "      <td>3</td>\n",
       "      <td>Susah buka rek baru.. selalu gagal masuk via s...</td>\n",
       "      <td>2023-03-27 15:39:23</td>\n",
       "      <td>Neutral</td>\n",
       "    </tr>\n",
       "    <tr>\n",
       "      <th>4</th>\n",
       "      <td>Fidyah Romadhan</td>\n",
       "      <td>1</td>\n",
       "      <td>Ribet bgt skrg harus verifikasi KTP dulu berka...</td>\n",
       "      <td>2023-03-27 14:58:13</td>\n",
       "      <td>Negative</td>\n",
       "    </tr>\n",
       "  </tbody>\n",
       "</table>\n",
       "</div>"
      ],
      "text/plain": [
       "          userName  score                                            content  \\\n",
       "0        Chris Nur      5                                                 ok   \n",
       "1    shadow_owl 82      5                                    Sangat membantu   \n",
       "2         tata kmy      1  Ribet pake verifikasi muka segala udah kayak p...   \n",
       "3      Jhoy Wae351      3  Susah buka rek baru.. selalu gagal masuk via s...   \n",
       "4  Fidyah Romadhan      1  Ribet bgt skrg harus verifikasi KTP dulu berka...   \n",
       "\n",
       "                   at sentiment  \n",
       "0 2023-03-27 16:03:27  Positive  \n",
       "1 2023-03-27 15:59:12  Positive  \n",
       "2 2023-03-27 15:54:45  Negative  \n",
       "3 2023-03-27 15:39:23   Neutral  \n",
       "4 2023-03-27 14:58:13  Negative  "
      ]
     },
     "execution_count": 9,
     "metadata": {},
     "output_type": "execute_result"
    }
   ],
   "source": [
    "# Labelling the sentiment based on score\n",
    "def sentiment(score):\n",
    "    if score >= 4:\n",
    "        return 'Positive'\n",
    "    elif score == 3:\n",
    "        return 'Neutral'\n",
    "    else:\n",
    "        return 'Negative'\n",
    "    \n",
    "new_df['sentiment'] = new_df['score'].apply(sentiment)\n",
    "new_df.head()"
   ]
  },
  {
   "cell_type": "code",
   "execution_count": 10,
   "metadata": {},
   "outputs": [
    {
     "data": {
      "application/vnd.plotly.v1+json": {
       "config": {
        "plotlyServerURL": "https://plot.ly"
       },
       "data": [
        {
         "alignmentgroup": "True",
         "bingroup": "x",
         "hovertemplate": "sentiment=%{x}<br>count=%{y}<extra></extra>",
         "legendgroup": "Positive",
         "marker": {
          "color": "#636efa",
          "pattern": {
           "shape": ""
          }
         },
         "name": "Positive",
         "offsetgroup": "Positive",
         "orientation": "v",
         "showlegend": true,
         "type": "histogram",
         "x": [
          "Positive",
          "Positive",
          "Positive",
          "Positive",
          "Positive",
          "Positive",
          "Positive",
          "Positive",
          "Positive",
          "Positive",
          "Positive",
          "Positive",
          "Positive",
          "Positive",
          "Positive",
          "Positive",
          "Positive",
          "Positive",
          "Positive",
          "Positive",
          "Positive",
          "Positive",
          "Positive",
          "Positive",
          "Positive",
          "Positive",
          "Positive",
          "Positive",
          "Positive",
          "Positive",
          "Positive",
          "Positive",
          "Positive",
          "Positive",
          "Positive",
          "Positive",
          "Positive",
          "Positive",
          "Positive",
          "Positive",
          "Positive",
          "Positive",
          "Positive",
          "Positive",
          "Positive",
          "Positive",
          "Positive",
          "Positive",
          "Positive",
          "Positive",
          "Positive",
          "Positive",
          "Positive",
          "Positive",
          "Positive",
          "Positive",
          "Positive",
          "Positive",
          "Positive",
          "Positive",
          "Positive",
          "Positive",
          "Positive",
          "Positive",
          "Positive",
          "Positive",
          "Positive",
          "Positive",
          "Positive",
          "Positive",
          "Positive",
          "Positive",
          "Positive",
          "Positive",
          "Positive",
          "Positive",
          "Positive",
          "Positive",
          "Positive",
          "Positive",
          "Positive",
          "Positive",
          "Positive",
          "Positive",
          "Positive",
          "Positive",
          "Positive",
          "Positive",
          "Positive",
          "Positive",
          "Positive",
          "Positive",
          "Positive",
          "Positive",
          "Positive",
          "Positive",
          "Positive",
          "Positive",
          "Positive",
          "Positive",
          "Positive",
          "Positive",
          "Positive",
          "Positive",
          "Positive",
          "Positive",
          "Positive",
          "Positive",
          "Positive",
          "Positive",
          "Positive",
          "Positive",
          "Positive",
          "Positive",
          "Positive",
          "Positive",
          "Positive",
          "Positive",
          "Positive",
          "Positive",
          "Positive",
          "Positive",
          "Positive",
          "Positive",
          "Positive",
          "Positive",
          "Positive",
          "Positive",
          "Positive",
          "Positive",
          "Positive",
          "Positive",
          "Positive",
          "Positive",
          "Positive",
          "Positive",
          "Positive",
          "Positive",
          "Positive",
          "Positive",
          "Positive",
          "Positive",
          "Positive",
          "Positive",
          "Positive",
          "Positive",
          "Positive",
          "Positive",
          "Positive",
          "Positive",
          "Positive",
          "Positive",
          "Positive",
          "Positive",
          "Positive",
          "Positive",
          "Positive",
          "Positive",
          "Positive",
          "Positive",
          "Positive",
          "Positive",
          "Positive",
          "Positive",
          "Positive",
          "Positive",
          "Positive",
          "Positive",
          "Positive",
          "Positive",
          "Positive",
          "Positive",
          "Positive",
          "Positive",
          "Positive",
          "Positive",
          "Positive",
          "Positive",
          "Positive",
          "Positive",
          "Positive",
          "Positive",
          "Positive",
          "Positive",
          "Positive",
          "Positive",
          "Positive",
          "Positive",
          "Positive",
          "Positive",
          "Positive",
          "Positive",
          "Positive",
          "Positive",
          "Positive",
          "Positive",
          "Positive",
          "Positive",
          "Positive",
          "Positive",
          "Positive",
          "Positive",
          "Positive",
          "Positive",
          "Positive",
          "Positive",
          "Positive",
          "Positive",
          "Positive",
          "Positive",
          "Positive",
          "Positive",
          "Positive",
          "Positive",
          "Positive",
          "Positive",
          "Positive",
          "Positive",
          "Positive",
          "Positive",
          "Positive",
          "Positive",
          "Positive",
          "Positive",
          "Positive",
          "Positive",
          "Positive",
          "Positive",
          "Positive",
          "Positive",
          "Positive",
          "Positive",
          "Positive",
          "Positive",
          "Positive",
          "Positive",
          "Positive",
          "Positive",
          "Positive",
          "Positive",
          "Positive",
          "Positive",
          "Positive",
          "Positive",
          "Positive",
          "Positive",
          "Positive",
          "Positive",
          "Positive",
          "Positive",
          "Positive",
          "Positive",
          "Positive",
          "Positive",
          "Positive",
          "Positive",
          "Positive",
          "Positive",
          "Positive",
          "Positive",
          "Positive",
          "Positive",
          "Positive",
          "Positive",
          "Positive",
          "Positive",
          "Positive",
          "Positive",
          "Positive",
          "Positive",
          "Positive",
          "Positive",
          "Positive",
          "Positive",
          "Positive",
          "Positive",
          "Positive",
          "Positive",
          "Positive",
          "Positive",
          "Positive",
          "Positive",
          "Positive",
          "Positive",
          "Positive",
          "Positive",
          "Positive",
          "Positive",
          "Positive",
          "Positive",
          "Positive",
          "Positive",
          "Positive",
          "Positive",
          "Positive",
          "Positive",
          "Positive",
          "Positive",
          "Positive",
          "Positive",
          "Positive",
          "Positive",
          "Positive",
          "Positive",
          "Positive",
          "Positive",
          "Positive",
          "Positive",
          "Positive",
          "Positive",
          "Positive",
          "Positive",
          "Positive",
          "Positive",
          "Positive",
          "Positive",
          "Positive",
          "Positive",
          "Positive",
          "Positive",
          "Positive",
          "Positive",
          "Positive",
          "Positive",
          "Positive",
          "Positive",
          "Positive",
          "Positive",
          "Positive",
          "Positive",
          "Positive",
          "Positive",
          "Positive",
          "Positive",
          "Positive",
          "Positive",
          "Positive",
          "Positive",
          "Positive",
          "Positive",
          "Positive",
          "Positive",
          "Positive",
          "Positive"
         ],
         "xaxis": "x",
         "yaxis": "y"
        },
        {
         "alignmentgroup": "True",
         "bingroup": "x",
         "hovertemplate": "sentiment=%{x}<br>count=%{y}<extra></extra>",
         "legendgroup": "Negative",
         "marker": {
          "color": "#EF553B",
          "pattern": {
           "shape": ""
          }
         },
         "name": "Negative",
         "offsetgroup": "Negative",
         "orientation": "v",
         "showlegend": true,
         "type": "histogram",
         "x": [
          "Negative",
          "Negative",
          "Negative",
          "Negative",
          "Negative",
          "Negative",
          "Negative",
          "Negative",
          "Negative",
          "Negative",
          "Negative",
          "Negative",
          "Negative",
          "Negative",
          "Negative",
          "Negative",
          "Negative",
          "Negative",
          "Negative",
          "Negative",
          "Negative",
          "Negative",
          "Negative",
          "Negative",
          "Negative",
          "Negative",
          "Negative",
          "Negative",
          "Negative",
          "Negative",
          "Negative",
          "Negative",
          "Negative",
          "Negative",
          "Negative",
          "Negative",
          "Negative",
          "Negative",
          "Negative",
          "Negative",
          "Negative",
          "Negative",
          "Negative",
          "Negative",
          "Negative",
          "Negative",
          "Negative",
          "Negative",
          "Negative",
          "Negative",
          "Negative",
          "Negative",
          "Negative",
          "Negative",
          "Negative",
          "Negative",
          "Negative",
          "Negative",
          "Negative",
          "Negative",
          "Negative",
          "Negative",
          "Negative",
          "Negative",
          "Negative",
          "Negative",
          "Negative",
          "Negative",
          "Negative",
          "Negative",
          "Negative",
          "Negative",
          "Negative",
          "Negative",
          "Negative",
          "Negative",
          "Negative",
          "Negative",
          "Negative",
          "Negative",
          "Negative",
          "Negative",
          "Negative",
          "Negative",
          "Negative",
          "Negative",
          "Negative",
          "Negative",
          "Negative",
          "Negative",
          "Negative",
          "Negative",
          "Negative",
          "Negative",
          "Negative",
          "Negative",
          "Negative",
          "Negative",
          "Negative",
          "Negative",
          "Negative",
          "Negative",
          "Negative",
          "Negative",
          "Negative",
          "Negative",
          "Negative",
          "Negative",
          "Negative",
          "Negative",
          "Negative",
          "Negative",
          "Negative",
          "Negative",
          "Negative",
          "Negative",
          "Negative",
          "Negative",
          "Negative",
          "Negative",
          "Negative",
          "Negative",
          "Negative",
          "Negative",
          "Negative",
          "Negative",
          "Negative",
          "Negative",
          "Negative",
          "Negative",
          "Negative",
          "Negative",
          "Negative",
          "Negative",
          "Negative",
          "Negative",
          "Negative",
          "Negative",
          "Negative",
          "Negative",
          "Negative",
          "Negative",
          "Negative",
          "Negative",
          "Negative",
          "Negative",
          "Negative",
          "Negative",
          "Negative",
          "Negative",
          "Negative",
          "Negative",
          "Negative",
          "Negative",
          "Negative",
          "Negative",
          "Negative",
          "Negative",
          "Negative",
          "Negative",
          "Negative",
          "Negative",
          "Negative",
          "Negative",
          "Negative",
          "Negative",
          "Negative",
          "Negative",
          "Negative",
          "Negative",
          "Negative",
          "Negative",
          "Negative",
          "Negative",
          "Negative",
          "Negative",
          "Negative",
          "Negative",
          "Negative",
          "Negative",
          "Negative",
          "Negative",
          "Negative",
          "Negative",
          "Negative",
          "Negative",
          "Negative",
          "Negative",
          "Negative",
          "Negative",
          "Negative",
          "Negative",
          "Negative",
          "Negative",
          "Negative",
          "Negative",
          "Negative",
          "Negative",
          "Negative",
          "Negative",
          "Negative",
          "Negative",
          "Negative",
          "Negative",
          "Negative",
          "Negative",
          "Negative",
          "Negative",
          "Negative",
          "Negative",
          "Negative",
          "Negative",
          "Negative",
          "Negative",
          "Negative",
          "Negative",
          "Negative",
          "Negative",
          "Negative",
          "Negative",
          "Negative",
          "Negative",
          "Negative",
          "Negative",
          "Negative",
          "Negative",
          "Negative",
          "Negative",
          "Negative",
          "Negative",
          "Negative",
          "Negative",
          "Negative",
          "Negative",
          "Negative",
          "Negative",
          "Negative",
          "Negative",
          "Negative",
          "Negative",
          "Negative",
          "Negative",
          "Negative",
          "Negative",
          "Negative",
          "Negative",
          "Negative",
          "Negative",
          "Negative",
          "Negative",
          "Negative",
          "Negative",
          "Negative",
          "Negative",
          "Negative",
          "Negative",
          "Negative",
          "Negative",
          "Negative",
          "Negative",
          "Negative",
          "Negative",
          "Negative",
          "Negative",
          "Negative",
          "Negative",
          "Negative",
          "Negative",
          "Negative",
          "Negative",
          "Negative",
          "Negative",
          "Negative",
          "Negative",
          "Negative",
          "Negative",
          "Negative",
          "Negative",
          "Negative",
          "Negative",
          "Negative",
          "Negative",
          "Negative",
          "Negative",
          "Negative",
          "Negative",
          "Negative",
          "Negative",
          "Negative",
          "Negative",
          "Negative",
          "Negative",
          "Negative",
          "Negative",
          "Negative",
          "Negative",
          "Negative",
          "Negative",
          "Negative",
          "Negative",
          "Negative",
          "Negative",
          "Negative",
          "Negative",
          "Negative",
          "Negative",
          "Negative",
          "Negative",
          "Negative",
          "Negative",
          "Negative",
          "Negative",
          "Negative",
          "Negative",
          "Negative",
          "Negative",
          "Negative",
          "Negative",
          "Negative",
          "Negative",
          "Negative",
          "Negative",
          "Negative",
          "Negative",
          "Negative",
          "Negative",
          "Negative",
          "Negative",
          "Negative",
          "Negative",
          "Negative",
          "Negative",
          "Negative",
          "Negative",
          "Negative",
          "Negative",
          "Negative",
          "Negative",
          "Negative",
          "Negative",
          "Negative",
          "Negative",
          "Negative",
          "Negative",
          "Negative",
          "Negative",
          "Negative",
          "Negative",
          "Negative",
          "Negative",
          "Negative",
          "Negative",
          "Negative",
          "Negative",
          "Negative",
          "Negative",
          "Negative",
          "Negative",
          "Negative",
          "Negative",
          "Negative",
          "Negative",
          "Negative",
          "Negative",
          "Negative",
          "Negative",
          "Negative",
          "Negative",
          "Negative",
          "Negative",
          "Negative",
          "Negative",
          "Negative",
          "Negative",
          "Negative",
          "Negative",
          "Negative",
          "Negative",
          "Negative",
          "Negative",
          "Negative",
          "Negative",
          "Negative",
          "Negative",
          "Negative",
          "Negative",
          "Negative",
          "Negative",
          "Negative",
          "Negative",
          "Negative",
          "Negative",
          "Negative",
          "Negative",
          "Negative",
          "Negative",
          "Negative",
          "Negative",
          "Negative",
          "Negative",
          "Negative",
          "Negative",
          "Negative",
          "Negative",
          "Negative",
          "Negative",
          "Negative",
          "Negative",
          "Negative",
          "Negative",
          "Negative",
          "Negative",
          "Negative",
          "Negative",
          "Negative",
          "Negative",
          "Negative",
          "Negative",
          "Negative",
          "Negative",
          "Negative",
          "Negative",
          "Negative",
          "Negative",
          "Negative",
          "Negative",
          "Negative",
          "Negative",
          "Negative",
          "Negative",
          "Negative",
          "Negative",
          "Negative",
          "Negative",
          "Negative",
          "Negative",
          "Negative",
          "Negative",
          "Negative",
          "Negative",
          "Negative",
          "Negative",
          "Negative",
          "Negative",
          "Negative",
          "Negative",
          "Negative",
          "Negative",
          "Negative",
          "Negative",
          "Negative",
          "Negative",
          "Negative",
          "Negative",
          "Negative",
          "Negative",
          "Negative",
          "Negative",
          "Negative",
          "Negative",
          "Negative",
          "Negative",
          "Negative",
          "Negative",
          "Negative",
          "Negative",
          "Negative",
          "Negative",
          "Negative",
          "Negative",
          "Negative",
          "Negative",
          "Negative",
          "Negative",
          "Negative",
          "Negative",
          "Negative",
          "Negative",
          "Negative",
          "Negative",
          "Negative",
          "Negative",
          "Negative",
          "Negative",
          "Negative",
          "Negative",
          "Negative",
          "Negative",
          "Negative",
          "Negative",
          "Negative",
          "Negative",
          "Negative",
          "Negative",
          "Negative",
          "Negative",
          "Negative",
          "Negative",
          "Negative",
          "Negative",
          "Negative",
          "Negative",
          "Negative",
          "Negative",
          "Negative",
          "Negative",
          "Negative",
          "Negative",
          "Negative",
          "Negative",
          "Negative",
          "Negative",
          "Negative",
          "Negative",
          "Negative",
          "Negative",
          "Negative",
          "Negative",
          "Negative",
          "Negative",
          "Negative",
          "Negative",
          "Negative",
          "Negative",
          "Negative",
          "Negative",
          "Negative",
          "Negative",
          "Negative",
          "Negative",
          "Negative",
          "Negative",
          "Negative",
          "Negative",
          "Negative",
          "Negative",
          "Negative",
          "Negative",
          "Negative",
          "Negative",
          "Negative",
          "Negative",
          "Negative",
          "Negative",
          "Negative",
          "Negative",
          "Negative",
          "Negative",
          "Negative",
          "Negative",
          "Negative",
          "Negative",
          "Negative",
          "Negative",
          "Negative",
          "Negative",
          "Negative",
          "Negative",
          "Negative",
          "Negative",
          "Negative",
          "Negative",
          "Negative",
          "Negative",
          "Negative",
          "Negative",
          "Negative",
          "Negative",
          "Negative",
          "Negative",
          "Negative",
          "Negative",
          "Negative",
          "Negative",
          "Negative",
          "Negative",
          "Negative",
          "Negative"
         ],
         "xaxis": "x",
         "yaxis": "y"
        },
        {
         "alignmentgroup": "True",
         "bingroup": "x",
         "hovertemplate": "sentiment=%{x}<br>count=%{y}<extra></extra>",
         "legendgroup": "Neutral",
         "marker": {
          "color": "#00cc96",
          "pattern": {
           "shape": ""
          }
         },
         "name": "Neutral",
         "offsetgroup": "Neutral",
         "orientation": "v",
         "showlegend": true,
         "type": "histogram",
         "x": [
          "Neutral",
          "Neutral",
          "Neutral",
          "Neutral",
          "Neutral",
          "Neutral",
          "Neutral",
          "Neutral",
          "Neutral",
          "Neutral",
          "Neutral",
          "Neutral",
          "Neutral",
          "Neutral",
          "Neutral",
          "Neutral",
          "Neutral",
          "Neutral",
          "Neutral",
          "Neutral",
          "Neutral",
          "Neutral",
          "Neutral",
          "Neutral",
          "Neutral",
          "Neutral",
          "Neutral",
          "Neutral",
          "Neutral",
          "Neutral",
          "Neutral",
          "Neutral",
          "Neutral",
          "Neutral",
          "Neutral",
          "Neutral",
          "Neutral",
          "Neutral",
          "Neutral",
          "Neutral",
          "Neutral",
          "Neutral",
          "Neutral",
          "Neutral",
          "Neutral",
          "Neutral",
          "Neutral",
          "Neutral",
          "Neutral",
          "Neutral",
          "Neutral",
          "Neutral",
          "Neutral",
          "Neutral",
          "Neutral",
          "Neutral",
          "Neutral",
          "Neutral",
          "Neutral",
          "Neutral",
          "Neutral",
          "Neutral",
          "Neutral",
          "Neutral",
          "Neutral",
          "Neutral",
          "Neutral",
          "Neutral",
          "Neutral",
          "Neutral",
          "Neutral",
          "Neutral",
          "Neutral",
          "Neutral",
          "Neutral",
          "Neutral",
          "Neutral",
          "Neutral"
         ],
         "xaxis": "x",
         "yaxis": "y"
        }
       ],
       "layout": {
        "barmode": "relative",
        "legend": {
         "title": {
          "text": "sentiment"
         },
         "tracegroupgap": 0
        },
        "template": {
         "data": {
          "bar": [
           {
            "error_x": {
             "color": "#2a3f5f"
            },
            "error_y": {
             "color": "#2a3f5f"
            },
            "marker": {
             "line": {
              "color": "#E5ECF6",
              "width": 0.5
             },
             "pattern": {
              "fillmode": "overlay",
              "size": 10,
              "solidity": 0.2
             }
            },
            "type": "bar"
           }
          ],
          "barpolar": [
           {
            "marker": {
             "line": {
              "color": "#E5ECF6",
              "width": 0.5
             },
             "pattern": {
              "fillmode": "overlay",
              "size": 10,
              "solidity": 0.2
             }
            },
            "type": "barpolar"
           }
          ],
          "carpet": [
           {
            "aaxis": {
             "endlinecolor": "#2a3f5f",
             "gridcolor": "white",
             "linecolor": "white",
             "minorgridcolor": "white",
             "startlinecolor": "#2a3f5f"
            },
            "baxis": {
             "endlinecolor": "#2a3f5f",
             "gridcolor": "white",
             "linecolor": "white",
             "minorgridcolor": "white",
             "startlinecolor": "#2a3f5f"
            },
            "type": "carpet"
           }
          ],
          "choropleth": [
           {
            "colorbar": {
             "outlinewidth": 0,
             "ticks": ""
            },
            "type": "choropleth"
           }
          ],
          "contour": [
           {
            "colorbar": {
             "outlinewidth": 0,
             "ticks": ""
            },
            "colorscale": [
             [
              0,
              "#0d0887"
             ],
             [
              0.1111111111111111,
              "#46039f"
             ],
             [
              0.2222222222222222,
              "#7201a8"
             ],
             [
              0.3333333333333333,
              "#9c179e"
             ],
             [
              0.4444444444444444,
              "#bd3786"
             ],
             [
              0.5555555555555556,
              "#d8576b"
             ],
             [
              0.6666666666666666,
              "#ed7953"
             ],
             [
              0.7777777777777778,
              "#fb9f3a"
             ],
             [
              0.8888888888888888,
              "#fdca26"
             ],
             [
              1,
              "#f0f921"
             ]
            ],
            "type": "contour"
           }
          ],
          "contourcarpet": [
           {
            "colorbar": {
             "outlinewidth": 0,
             "ticks": ""
            },
            "type": "contourcarpet"
           }
          ],
          "heatmap": [
           {
            "colorbar": {
             "outlinewidth": 0,
             "ticks": ""
            },
            "colorscale": [
             [
              0,
              "#0d0887"
             ],
             [
              0.1111111111111111,
              "#46039f"
             ],
             [
              0.2222222222222222,
              "#7201a8"
             ],
             [
              0.3333333333333333,
              "#9c179e"
             ],
             [
              0.4444444444444444,
              "#bd3786"
             ],
             [
              0.5555555555555556,
              "#d8576b"
             ],
             [
              0.6666666666666666,
              "#ed7953"
             ],
             [
              0.7777777777777778,
              "#fb9f3a"
             ],
             [
              0.8888888888888888,
              "#fdca26"
             ],
             [
              1,
              "#f0f921"
             ]
            ],
            "type": "heatmap"
           }
          ],
          "heatmapgl": [
           {
            "colorbar": {
             "outlinewidth": 0,
             "ticks": ""
            },
            "colorscale": [
             [
              0,
              "#0d0887"
             ],
             [
              0.1111111111111111,
              "#46039f"
             ],
             [
              0.2222222222222222,
              "#7201a8"
             ],
             [
              0.3333333333333333,
              "#9c179e"
             ],
             [
              0.4444444444444444,
              "#bd3786"
             ],
             [
              0.5555555555555556,
              "#d8576b"
             ],
             [
              0.6666666666666666,
              "#ed7953"
             ],
             [
              0.7777777777777778,
              "#fb9f3a"
             ],
             [
              0.8888888888888888,
              "#fdca26"
             ],
             [
              1,
              "#f0f921"
             ]
            ],
            "type": "heatmapgl"
           }
          ],
          "histogram": [
           {
            "marker": {
             "pattern": {
              "fillmode": "overlay",
              "size": 10,
              "solidity": 0.2
             }
            },
            "type": "histogram"
           }
          ],
          "histogram2d": [
           {
            "colorbar": {
             "outlinewidth": 0,
             "ticks": ""
            },
            "colorscale": [
             [
              0,
              "#0d0887"
             ],
             [
              0.1111111111111111,
              "#46039f"
             ],
             [
              0.2222222222222222,
              "#7201a8"
             ],
             [
              0.3333333333333333,
              "#9c179e"
             ],
             [
              0.4444444444444444,
              "#bd3786"
             ],
             [
              0.5555555555555556,
              "#d8576b"
             ],
             [
              0.6666666666666666,
              "#ed7953"
             ],
             [
              0.7777777777777778,
              "#fb9f3a"
             ],
             [
              0.8888888888888888,
              "#fdca26"
             ],
             [
              1,
              "#f0f921"
             ]
            ],
            "type": "histogram2d"
           }
          ],
          "histogram2dcontour": [
           {
            "colorbar": {
             "outlinewidth": 0,
             "ticks": ""
            },
            "colorscale": [
             [
              0,
              "#0d0887"
             ],
             [
              0.1111111111111111,
              "#46039f"
             ],
             [
              0.2222222222222222,
              "#7201a8"
             ],
             [
              0.3333333333333333,
              "#9c179e"
             ],
             [
              0.4444444444444444,
              "#bd3786"
             ],
             [
              0.5555555555555556,
              "#d8576b"
             ],
             [
              0.6666666666666666,
              "#ed7953"
             ],
             [
              0.7777777777777778,
              "#fb9f3a"
             ],
             [
              0.8888888888888888,
              "#fdca26"
             ],
             [
              1,
              "#f0f921"
             ]
            ],
            "type": "histogram2dcontour"
           }
          ],
          "mesh3d": [
           {
            "colorbar": {
             "outlinewidth": 0,
             "ticks": ""
            },
            "type": "mesh3d"
           }
          ],
          "parcoords": [
           {
            "line": {
             "colorbar": {
              "outlinewidth": 0,
              "ticks": ""
             }
            },
            "type": "parcoords"
           }
          ],
          "pie": [
           {
            "automargin": true,
            "type": "pie"
           }
          ],
          "scatter": [
           {
            "fillpattern": {
             "fillmode": "overlay",
             "size": 10,
             "solidity": 0.2
            },
            "type": "scatter"
           }
          ],
          "scatter3d": [
           {
            "line": {
             "colorbar": {
              "outlinewidth": 0,
              "ticks": ""
             }
            },
            "marker": {
             "colorbar": {
              "outlinewidth": 0,
              "ticks": ""
             }
            },
            "type": "scatter3d"
           }
          ],
          "scattercarpet": [
           {
            "marker": {
             "colorbar": {
              "outlinewidth": 0,
              "ticks": ""
             }
            },
            "type": "scattercarpet"
           }
          ],
          "scattergeo": [
           {
            "marker": {
             "colorbar": {
              "outlinewidth": 0,
              "ticks": ""
             }
            },
            "type": "scattergeo"
           }
          ],
          "scattergl": [
           {
            "marker": {
             "colorbar": {
              "outlinewidth": 0,
              "ticks": ""
             }
            },
            "type": "scattergl"
           }
          ],
          "scattermapbox": [
           {
            "marker": {
             "colorbar": {
              "outlinewidth": 0,
              "ticks": ""
             }
            },
            "type": "scattermapbox"
           }
          ],
          "scatterpolar": [
           {
            "marker": {
             "colorbar": {
              "outlinewidth": 0,
              "ticks": ""
             }
            },
            "type": "scatterpolar"
           }
          ],
          "scatterpolargl": [
           {
            "marker": {
             "colorbar": {
              "outlinewidth": 0,
              "ticks": ""
             }
            },
            "type": "scatterpolargl"
           }
          ],
          "scatterternary": [
           {
            "marker": {
             "colorbar": {
              "outlinewidth": 0,
              "ticks": ""
             }
            },
            "type": "scatterternary"
           }
          ],
          "surface": [
           {
            "colorbar": {
             "outlinewidth": 0,
             "ticks": ""
            },
            "colorscale": [
             [
              0,
              "#0d0887"
             ],
             [
              0.1111111111111111,
              "#46039f"
             ],
             [
              0.2222222222222222,
              "#7201a8"
             ],
             [
              0.3333333333333333,
              "#9c179e"
             ],
             [
              0.4444444444444444,
              "#bd3786"
             ],
             [
              0.5555555555555556,
              "#d8576b"
             ],
             [
              0.6666666666666666,
              "#ed7953"
             ],
             [
              0.7777777777777778,
              "#fb9f3a"
             ],
             [
              0.8888888888888888,
              "#fdca26"
             ],
             [
              1,
              "#f0f921"
             ]
            ],
            "type": "surface"
           }
          ],
          "table": [
           {
            "cells": {
             "fill": {
              "color": "#EBF0F8"
             },
             "line": {
              "color": "white"
             }
            },
            "header": {
             "fill": {
              "color": "#C8D4E3"
             },
             "line": {
              "color": "white"
             }
            },
            "type": "table"
           }
          ]
         },
         "layout": {
          "annotationdefaults": {
           "arrowcolor": "#2a3f5f",
           "arrowhead": 0,
           "arrowwidth": 1
          },
          "autotypenumbers": "strict",
          "coloraxis": {
           "colorbar": {
            "outlinewidth": 0,
            "ticks": ""
           }
          },
          "colorscale": {
           "diverging": [
            [
             0,
             "#8e0152"
            ],
            [
             0.1,
             "#c51b7d"
            ],
            [
             0.2,
             "#de77ae"
            ],
            [
             0.3,
             "#f1b6da"
            ],
            [
             0.4,
             "#fde0ef"
            ],
            [
             0.5,
             "#f7f7f7"
            ],
            [
             0.6,
             "#e6f5d0"
            ],
            [
             0.7,
             "#b8e186"
            ],
            [
             0.8,
             "#7fbc41"
            ],
            [
             0.9,
             "#4d9221"
            ],
            [
             1,
             "#276419"
            ]
           ],
           "sequential": [
            [
             0,
             "#0d0887"
            ],
            [
             0.1111111111111111,
             "#46039f"
            ],
            [
             0.2222222222222222,
             "#7201a8"
            ],
            [
             0.3333333333333333,
             "#9c179e"
            ],
            [
             0.4444444444444444,
             "#bd3786"
            ],
            [
             0.5555555555555556,
             "#d8576b"
            ],
            [
             0.6666666666666666,
             "#ed7953"
            ],
            [
             0.7777777777777778,
             "#fb9f3a"
            ],
            [
             0.8888888888888888,
             "#fdca26"
            ],
            [
             1,
             "#f0f921"
            ]
           ],
           "sequentialminus": [
            [
             0,
             "#0d0887"
            ],
            [
             0.1111111111111111,
             "#46039f"
            ],
            [
             0.2222222222222222,
             "#7201a8"
            ],
            [
             0.3333333333333333,
             "#9c179e"
            ],
            [
             0.4444444444444444,
             "#bd3786"
            ],
            [
             0.5555555555555556,
             "#d8576b"
            ],
            [
             0.6666666666666666,
             "#ed7953"
            ],
            [
             0.7777777777777778,
             "#fb9f3a"
            ],
            [
             0.8888888888888888,
             "#fdca26"
            ],
            [
             1,
             "#f0f921"
            ]
           ]
          },
          "colorway": [
           "#636efa",
           "#EF553B",
           "#00cc96",
           "#ab63fa",
           "#FFA15A",
           "#19d3f3",
           "#FF6692",
           "#B6E880",
           "#FF97FF",
           "#FECB52"
          ],
          "font": {
           "color": "#2a3f5f"
          },
          "geo": {
           "bgcolor": "white",
           "lakecolor": "white",
           "landcolor": "#E5ECF6",
           "showlakes": true,
           "showland": true,
           "subunitcolor": "white"
          },
          "hoverlabel": {
           "align": "left"
          },
          "hovermode": "closest",
          "mapbox": {
           "style": "light"
          },
          "paper_bgcolor": "white",
          "plot_bgcolor": "#E5ECF6",
          "polar": {
           "angularaxis": {
            "gridcolor": "white",
            "linecolor": "white",
            "ticks": ""
           },
           "bgcolor": "#E5ECF6",
           "radialaxis": {
            "gridcolor": "white",
            "linecolor": "white",
            "ticks": ""
           }
          },
          "scene": {
           "xaxis": {
            "backgroundcolor": "#E5ECF6",
            "gridcolor": "white",
            "gridwidth": 2,
            "linecolor": "white",
            "showbackground": true,
            "ticks": "",
            "zerolinecolor": "white"
           },
           "yaxis": {
            "backgroundcolor": "#E5ECF6",
            "gridcolor": "white",
            "gridwidth": 2,
            "linecolor": "white",
            "showbackground": true,
            "ticks": "",
            "zerolinecolor": "white"
           },
           "zaxis": {
            "backgroundcolor": "#E5ECF6",
            "gridcolor": "white",
            "gridwidth": 2,
            "linecolor": "white",
            "showbackground": true,
            "ticks": "",
            "zerolinecolor": "white"
           }
          },
          "shapedefaults": {
           "line": {
            "color": "#2a3f5f"
           }
          },
          "ternary": {
           "aaxis": {
            "gridcolor": "white",
            "linecolor": "white",
            "ticks": ""
           },
           "baxis": {
            "gridcolor": "white",
            "linecolor": "white",
            "ticks": ""
           },
           "bgcolor": "#E5ECF6",
           "caxis": {
            "gridcolor": "white",
            "linecolor": "white",
            "ticks": ""
           }
          },
          "title": {
           "x": 0.05
          },
          "xaxis": {
           "automargin": true,
           "gridcolor": "white",
           "linecolor": "white",
           "ticks": "",
           "title": {
            "standoff": 15
           },
           "zerolinecolor": "white",
           "zerolinewidth": 2
          },
          "yaxis": {
           "automargin": true,
           "gridcolor": "white",
           "linecolor": "white",
           "ticks": "",
           "title": {
            "standoff": 15
           },
           "zerolinecolor": "white",
           "zerolinewidth": 2
          }
         }
        },
        "title": {
         "text": "Sentiment Count"
        },
        "xaxis": {
         "anchor": "y",
         "categoryarray": [
          "Positive",
          "Negative",
          "Neutral"
         ],
         "categoryorder": "array",
         "domain": [
          0,
          1
         ],
         "title": {
          "text": "sentiment"
         }
        },
        "yaxis": {
         "anchor": "x",
         "domain": [
          0,
          1
         ],
         "title": {
          "text": "count"
         }
        }
       }
      }
     },
     "metadata": {},
     "output_type": "display_data"
    }
   ],
   "source": [
    "# Count the sentiment and make the chart using plotly, where Positive is green, Neutral is yellow, and Negative is red\n",
    "fig = px.histogram(new_df, x=\"sentiment\", color=\"sentiment\", title=\"Sentiment Count\")\n",
    "fig.show()"
   ]
  },
  {
   "cell_type": "code",
   "execution_count": 11,
   "metadata": {},
   "outputs": [
    {
     "name": "stderr",
     "output_type": "stream",
     "text": [
      "<ipython-input-11-7df8a644e165>:2: SettingWithCopyWarning:\n",
      "\n",
      "\n",
      "A value is trying to be set on a copy of a slice from a DataFrame.\n",
      "Try using .loc[row_indexer,col_indexer] = value instead\n",
      "\n",
      "See the caveats in the documentation: https://pandas.pydata.org/pandas-docs/stable/user_guide/indexing.html#returning-a-view-versus-a-copy\n",
      "\n"
     ]
    },
    {
     "data": {
      "text/html": [
       "<div>\n",
       "<style scoped>\n",
       "    .dataframe tbody tr th:only-of-type {\n",
       "        vertical-align: middle;\n",
       "    }\n",
       "\n",
       "    .dataframe tbody tr th {\n",
       "        vertical-align: top;\n",
       "    }\n",
       "\n",
       "    .dataframe thead th {\n",
       "        text-align: right;\n",
       "    }\n",
       "</style>\n",
       "<table border=\"1\" class=\"dataframe\">\n",
       "  <thead>\n",
       "    <tr style=\"text-align: right;\">\n",
       "      <th></th>\n",
       "      <th>userName</th>\n",
       "      <th>score</th>\n",
       "      <th>content</th>\n",
       "      <th>at</th>\n",
       "      <th>sentiment</th>\n",
       "    </tr>\n",
       "  </thead>\n",
       "  <tbody>\n",
       "    <tr>\n",
       "      <th>0</th>\n",
       "      <td>Chris Nur</td>\n",
       "      <td>5</td>\n",
       "      <td>ok</td>\n",
       "      <td>2023-03-27 16:03:27</td>\n",
       "      <td>Positive</td>\n",
       "    </tr>\n",
       "    <tr>\n",
       "      <th>1</th>\n",
       "      <td>shadow_owl 82</td>\n",
       "      <td>5</td>\n",
       "      <td>sangat membantu</td>\n",
       "      <td>2023-03-27 15:59:12</td>\n",
       "      <td>Positive</td>\n",
       "    </tr>\n",
       "    <tr>\n",
       "      <th>2</th>\n",
       "      <td>tata kmy</td>\n",
       "      <td>1</td>\n",
       "      <td>ribet pake verifikasi muka segala udah kayak p...</td>\n",
       "      <td>2023-03-27 15:54:45</td>\n",
       "      <td>Negative</td>\n",
       "    </tr>\n",
       "    <tr>\n",
       "      <th>3</th>\n",
       "      <td>Jhoy Wae351</td>\n",
       "      <td>3</td>\n",
       "      <td>susah buka rek baru.. selalu gagal masuk via s...</td>\n",
       "      <td>2023-03-27 15:39:23</td>\n",
       "      <td>Neutral</td>\n",
       "    </tr>\n",
       "    <tr>\n",
       "      <th>4</th>\n",
       "      <td>Fidyah Romadhan</td>\n",
       "      <td>1</td>\n",
       "      <td>ribet bgt skrg harus verifikasi ktp dulu berka...</td>\n",
       "      <td>2023-03-27 14:58:13</td>\n",
       "      <td>Negative</td>\n",
       "    </tr>\n",
       "  </tbody>\n",
       "</table>\n",
       "</div>"
      ],
      "text/plain": [
       "          userName  score                                            content  \\\n",
       "0        Chris Nur      5                                                 ok   \n",
       "1    shadow_owl 82      5                                    sangat membantu   \n",
       "2         tata kmy      1  ribet pake verifikasi muka segala udah kayak p...   \n",
       "3      Jhoy Wae351      3  susah buka rek baru.. selalu gagal masuk via s...   \n",
       "4  Fidyah Romadhan      1  ribet bgt skrg harus verifikasi ktp dulu berka...   \n",
       "\n",
       "                   at sentiment  \n",
       "0 2023-03-27 16:03:27  Positive  \n",
       "1 2023-03-27 15:59:12  Positive  \n",
       "2 2023-03-27 15:54:45  Negative  \n",
       "3 2023-03-27 15:39:23   Neutral  \n",
       "4 2023-03-27 14:58:13  Negative  "
      ]
     },
     "execution_count": 11,
     "metadata": {},
     "output_type": "execute_result"
    }
   ],
   "source": [
    "# Case folding\n",
    "new_df['content'] = new_df['content'].str.lower()\n",
    "new_df.head()"
   ]
  },
  {
   "cell_type": "code",
   "execution_count": 12,
   "metadata": {},
   "outputs": [
    {
     "name": "stderr",
     "output_type": "stream",
     "text": [
      "<ipython-input-12-060d06458668>:2: FutureWarning:\n",
      "\n",
      "The default value of regex will change from True to False in a future version.\n",
      "\n",
      "<ipython-input-12-060d06458668>:2: SettingWithCopyWarning:\n",
      "\n",
      "\n",
      "A value is trying to be set on a copy of a slice from a DataFrame.\n",
      "Try using .loc[row_indexer,col_indexer] = value instead\n",
      "\n",
      "See the caveats in the documentation: https://pandas.pydata.org/pandas-docs/stable/user_guide/indexing.html#returning-a-view-versus-a-copy\n",
      "\n",
      "<ipython-input-12-060d06458668>:5: FutureWarning:\n",
      "\n",
      "The default value of regex will change from True to False in a future version.\n",
      "\n",
      "<ipython-input-12-060d06458668>:5: SettingWithCopyWarning:\n",
      "\n",
      "\n",
      "A value is trying to be set on a copy of a slice from a DataFrame.\n",
      "Try using .loc[row_indexer,col_indexer] = value instead\n",
      "\n",
      "See the caveats in the documentation: https://pandas.pydata.org/pandas-docs/stable/user_guide/indexing.html#returning-a-view-versus-a-copy\n",
      "\n",
      "<ipython-input-12-060d06458668>:8: SettingWithCopyWarning:\n",
      "\n",
      "\n",
      "A value is trying to be set on a copy of a slice from a DataFrame.\n",
      "Try using .loc[row_indexer,col_indexer] = value instead\n",
      "\n",
      "See the caveats in the documentation: https://pandas.pydata.org/pandas-docs/stable/user_guide/indexing.html#returning-a-view-versus-a-copy\n",
      "\n",
      "<ipython-input-12-060d06458668>:11: FutureWarning:\n",
      "\n",
      "The default value of regex will change from True to False in a future version.\n",
      "\n",
      "<ipython-input-12-060d06458668>:11: SettingWithCopyWarning:\n",
      "\n",
      "\n",
      "A value is trying to be set on a copy of a slice from a DataFrame.\n",
      "Try using .loc[row_indexer,col_indexer] = value instead\n",
      "\n",
      "See the caveats in the documentation: https://pandas.pydata.org/pandas-docs/stable/user_guide/indexing.html#returning-a-view-versus-a-copy\n",
      "\n",
      "<ipython-input-12-060d06458668>:24: SettingWithCopyWarning:\n",
      "\n",
      "\n",
      "A value is trying to be set on a copy of a slice from a DataFrame.\n",
      "Try using .loc[row_indexer,col_indexer] = value instead\n",
      "\n",
      "See the caveats in the documentation: https://pandas.pydata.org/pandas-docs/stable/user_guide/indexing.html#returning-a-view-versus-a-copy\n",
      "\n"
     ]
    },
    {
     "data": {
      "text/html": [
       "<div>\n",
       "<style scoped>\n",
       "    .dataframe tbody tr th:only-of-type {\n",
       "        vertical-align: middle;\n",
       "    }\n",
       "\n",
       "    .dataframe tbody tr th {\n",
       "        vertical-align: top;\n",
       "    }\n",
       "\n",
       "    .dataframe thead th {\n",
       "        text-align: right;\n",
       "    }\n",
       "</style>\n",
       "<table border=\"1\" class=\"dataframe\">\n",
       "  <thead>\n",
       "    <tr style=\"text-align: right;\">\n",
       "      <th></th>\n",
       "      <th>userName</th>\n",
       "      <th>score</th>\n",
       "      <th>content</th>\n",
       "      <th>at</th>\n",
       "      <th>sentiment</th>\n",
       "    </tr>\n",
       "  </thead>\n",
       "  <tbody>\n",
       "    <tr>\n",
       "      <th>0</th>\n",
       "      <td>Chris Nur</td>\n",
       "      <td>5</td>\n",
       "      <td>ok</td>\n",
       "      <td>2023-03-27 16:03:27</td>\n",
       "      <td>Positive</td>\n",
       "    </tr>\n",
       "    <tr>\n",
       "      <th>1</th>\n",
       "      <td>shadow_owl 82</td>\n",
       "      <td>5</td>\n",
       "      <td>sangat membantu</td>\n",
       "      <td>2023-03-27 15:59:12</td>\n",
       "      <td>Positive</td>\n",
       "    </tr>\n",
       "    <tr>\n",
       "      <th>2</th>\n",
       "      <td>tata kmy</td>\n",
       "      <td>1</td>\n",
       "      <td>ribet pake verifikasi muka segala udah kayak p...</td>\n",
       "      <td>2023-03-27 15:54:45</td>\n",
       "      <td>Negative</td>\n",
       "    </tr>\n",
       "    <tr>\n",
       "      <th>3</th>\n",
       "      <td>Jhoy Wae351</td>\n",
       "      <td>3</td>\n",
       "      <td>susah buka rek baru selalu gagal masuk via sms...</td>\n",
       "      <td>2023-03-27 15:39:23</td>\n",
       "      <td>Neutral</td>\n",
       "    </tr>\n",
       "    <tr>\n",
       "      <th>4</th>\n",
       "      <td>Fidyah Romadhan</td>\n",
       "      <td>1</td>\n",
       "      <td>ribet bgt skrg harus verifikasi ktp dulu berka...</td>\n",
       "      <td>2023-03-27 14:58:13</td>\n",
       "      <td>Negative</td>\n",
       "    </tr>\n",
       "  </tbody>\n",
       "</table>\n",
       "</div>"
      ],
      "text/plain": [
       "          userName  score                                            content  \\\n",
       "0        Chris Nur      5                                                 ok   \n",
       "1    shadow_owl 82      5                                    sangat membantu   \n",
       "2         tata kmy      1  ribet pake verifikasi muka segala udah kayak p...   \n",
       "3      Jhoy Wae351      3  susah buka rek baru selalu gagal masuk via sms...   \n",
       "4  Fidyah Romadhan      1  ribet bgt skrg harus verifikasi ktp dulu berka...   \n",
       "\n",
       "                   at sentiment  \n",
       "0 2023-03-27 16:03:27  Positive  \n",
       "1 2023-03-27 15:59:12  Positive  \n",
       "2 2023-03-27 15:54:45  Negative  \n",
       "3 2023-03-27 15:39:23   Neutral  \n",
       "4 2023-03-27 14:58:13  Negative  "
      ]
     },
     "execution_count": 12,
     "metadata": {},
     "output_type": "execute_result"
    }
   ],
   "source": [
    "# Remove punctuation\n",
    "new_df['content'] = new_df['content'].str.replace('[^\\w\\s]','')\n",
    "\n",
    "# Remove number\n",
    "new_df['content'] = new_df['content'].str.replace('\\d+','')\n",
    "\n",
    "# Remove whitespace leading & trailing\n",
    "new_df['content'] = new_df['content'].str.strip()\n",
    "\n",
    "# Remove whitespace double or more\n",
    "new_df['content'] = new_df['content'].str.replace('\\s+',' ')\n",
    "\n",
    "# Remove emoji\n",
    "import re\n",
    "def remove_emoji(string):\n",
    "    emoji_pattern = re.compile(\"[\"\n",
    "        u\"\\U0001F600-\\U0001F64F\"  # emoticons\n",
    "        u\"\\U0001F300-\\U0001F5FF\"  # symbols & pictographs\n",
    "        u\"\\U0001F680-\\U0001F6FF\"  # transport & map symbols\n",
    "        u\"\\U0001F1E0-\\U0001F1FF\"  # flags (iOS)\n",
    "                           \"]+\", flags=re.UNICODE)\n",
    "    return emoji_pattern.sub(r'', string)\n",
    "\n",
    "new_df['content'] = new_df['content'].apply(remove_emoji)\n",
    "new_df.head()"
   ]
  },
  {
   "cell_type": "code",
   "execution_count": 13,
   "metadata": {},
   "outputs": [
    {
     "name": "stderr",
     "output_type": "stream",
     "text": [
      "[nltk_data] Downloading package punkt to\n",
      "[nltk_data]     C:\\Users\\ashia\\AppData\\Roaming\\nltk_data...\n",
      "[nltk_data]   Package punkt is already up-to-date!\n",
      "<ipython-input-13-86d14aad13a4>:10: SettingWithCopyWarning:\n",
      "\n",
      "\n",
      "A value is trying to be set on a copy of a slice from a DataFrame.\n",
      "Try using .loc[row_indexer,col_indexer] = value instead\n",
      "\n",
      "See the caveats in the documentation: https://pandas.pydata.org/pandas-docs/stable/user_guide/indexing.html#returning-a-view-versus-a-copy\n",
      "\n"
     ]
    },
    {
     "data": {
      "text/html": [
       "<div>\n",
       "<style scoped>\n",
       "    .dataframe tbody tr th:only-of-type {\n",
       "        vertical-align: middle;\n",
       "    }\n",
       "\n",
       "    .dataframe tbody tr th {\n",
       "        vertical-align: top;\n",
       "    }\n",
       "\n",
       "    .dataframe thead th {\n",
       "        text-align: right;\n",
       "    }\n",
       "</style>\n",
       "<table border=\"1\" class=\"dataframe\">\n",
       "  <thead>\n",
       "    <tr style=\"text-align: right;\">\n",
       "      <th></th>\n",
       "      <th>userName</th>\n",
       "      <th>score</th>\n",
       "      <th>content</th>\n",
       "      <th>at</th>\n",
       "      <th>sentiment</th>\n",
       "      <th>content_token</th>\n",
       "    </tr>\n",
       "  </thead>\n",
       "  <tbody>\n",
       "    <tr>\n",
       "      <th>0</th>\n",
       "      <td>Chris Nur</td>\n",
       "      <td>5</td>\n",
       "      <td>ok</td>\n",
       "      <td>2023-03-27 16:03:27</td>\n",
       "      <td>Positive</td>\n",
       "      <td>[ok]</td>\n",
       "    </tr>\n",
       "    <tr>\n",
       "      <th>1</th>\n",
       "      <td>shadow_owl 82</td>\n",
       "      <td>5</td>\n",
       "      <td>sangat membantu</td>\n",
       "      <td>2023-03-27 15:59:12</td>\n",
       "      <td>Positive</td>\n",
       "      <td>[sangat, membantu]</td>\n",
       "    </tr>\n",
       "    <tr>\n",
       "      <th>2</th>\n",
       "      <td>tata kmy</td>\n",
       "      <td>1</td>\n",
       "      <td>ribet pake verifikasi muka segala udah kayak p...</td>\n",
       "      <td>2023-03-27 15:54:45</td>\n",
       "      <td>Negative</td>\n",
       "      <td>[ribet, pake, verifikasi, muka, segala, udah, ...</td>\n",
       "    </tr>\n",
       "    <tr>\n",
       "      <th>3</th>\n",
       "      <td>Jhoy Wae351</td>\n",
       "      <td>3</td>\n",
       "      <td>susah buka rek baru selalu gagal masuk via sms...</td>\n",
       "      <td>2023-03-27 15:39:23</td>\n",
       "      <td>Neutral</td>\n",
       "      <td>[susah, buka, rek, baru, selalu, gagal, masuk,...</td>\n",
       "    </tr>\n",
       "    <tr>\n",
       "      <th>4</th>\n",
       "      <td>Fidyah Romadhan</td>\n",
       "      <td>1</td>\n",
       "      <td>ribet bgt skrg harus verifikasi ktp dulu berka...</td>\n",
       "      <td>2023-03-27 14:58:13</td>\n",
       "      <td>Negative</td>\n",
       "      <td>[ribet, bgt, skrg, harus, verifikasi, ktp, dul...</td>\n",
       "    </tr>\n",
       "  </tbody>\n",
       "</table>\n",
       "</div>"
      ],
      "text/plain": [
       "          userName  score                                            content  \\\n",
       "0        Chris Nur      5                                                 ok   \n",
       "1    shadow_owl 82      5                                    sangat membantu   \n",
       "2         tata kmy      1  ribet pake verifikasi muka segala udah kayak p...   \n",
       "3      Jhoy Wae351      3  susah buka rek baru selalu gagal masuk via sms...   \n",
       "4  Fidyah Romadhan      1  ribet bgt skrg harus verifikasi ktp dulu berka...   \n",
       "\n",
       "                   at sentiment  \\\n",
       "0 2023-03-27 16:03:27  Positive   \n",
       "1 2023-03-27 15:59:12  Positive   \n",
       "2 2023-03-27 15:54:45  Negative   \n",
       "3 2023-03-27 15:39:23   Neutral   \n",
       "4 2023-03-27 14:58:13  Negative   \n",
       "\n",
       "                                       content_token  \n",
       "0                                               [ok]  \n",
       "1                                 [sangat, membantu]  \n",
       "2  [ribet, pake, verifikasi, muka, segala, udah, ...  \n",
       "3  [susah, buka, rek, baru, selalu, gagal, masuk,...  \n",
       "4  [ribet, bgt, skrg, harus, verifikasi, ktp, dul...  "
      ]
     },
     "execution_count": 13,
     "metadata": {},
     "output_type": "execute_result"
    }
   ],
   "source": [
    "# Tokenizing\n",
    "import nltk\n",
    "nltk.download('punkt')\n",
    "from nltk.tokenize import word_tokenize\n",
    "\n",
    "content_token = []\n",
    "for i in new_df['content']:\n",
    "    content_token.append(word_tokenize(i))\n",
    "\n",
    "new_df['content_token'] = content_token\n",
    "new_df.head()"
   ]
  },
  {
   "cell_type": "code",
   "execution_count": 14,
   "metadata": {},
   "outputs": [
    {
     "name": "stderr",
     "output_type": "stream",
     "text": [
      "[nltk_data] Downloading package stopwords to\n",
      "[nltk_data]     C:\\Users\\ashia\\AppData\\Roaming\\nltk_data...\n",
      "[nltk_data]   Package stopwords is already up-to-date!\n",
      "<ipython-input-14-f654ee072a11>:9: SettingWithCopyWarning:\n",
      "\n",
      "\n",
      "A value is trying to be set on a copy of a slice from a DataFrame.\n",
      "Try using .loc[row_indexer,col_indexer] = value instead\n",
      "\n",
      "See the caveats in the documentation: https://pandas.pydata.org/pandas-docs/stable/user_guide/indexing.html#returning-a-view-versus-a-copy\n",
      "\n"
     ]
    },
    {
     "data": {
      "text/html": [
       "<div>\n",
       "<style scoped>\n",
       "    .dataframe tbody tr th:only-of-type {\n",
       "        vertical-align: middle;\n",
       "    }\n",
       "\n",
       "    .dataframe tbody tr th {\n",
       "        vertical-align: top;\n",
       "    }\n",
       "\n",
       "    .dataframe thead th {\n",
       "        text-align: right;\n",
       "    }\n",
       "</style>\n",
       "<table border=\"1\" class=\"dataframe\">\n",
       "  <thead>\n",
       "    <tr style=\"text-align: right;\">\n",
       "      <th></th>\n",
       "      <th>userName</th>\n",
       "      <th>score</th>\n",
       "      <th>content</th>\n",
       "      <th>at</th>\n",
       "      <th>sentiment</th>\n",
       "      <th>content_token</th>\n",
       "    </tr>\n",
       "  </thead>\n",
       "  <tbody>\n",
       "    <tr>\n",
       "      <th>0</th>\n",
       "      <td>Chris Nur</td>\n",
       "      <td>5</td>\n",
       "      <td>ok</td>\n",
       "      <td>2023-03-27 16:03:27</td>\n",
       "      <td>Positive</td>\n",
       "      <td>[ok]</td>\n",
       "    </tr>\n",
       "    <tr>\n",
       "      <th>1</th>\n",
       "      <td>shadow_owl 82</td>\n",
       "      <td>5</td>\n",
       "      <td>sangat membantu</td>\n",
       "      <td>2023-03-27 15:59:12</td>\n",
       "      <td>Positive</td>\n",
       "      <td>[membantu]</td>\n",
       "    </tr>\n",
       "    <tr>\n",
       "      <th>2</th>\n",
       "      <td>tata kmy</td>\n",
       "      <td>1</td>\n",
       "      <td>ribet pake verifikasi muka segala udah kayak p...</td>\n",
       "      <td>2023-03-27 15:54:45</td>\n",
       "      <td>Negative</td>\n",
       "      <td>[ribet, pake, verifikasi, muka, udah, kayak, p...</td>\n",
       "    </tr>\n",
       "    <tr>\n",
       "      <th>3</th>\n",
       "      <td>Jhoy Wae351</td>\n",
       "      <td>3</td>\n",
       "      <td>susah buka rek baru selalu gagal masuk via sms...</td>\n",
       "      <td>2023-03-27 15:39:23</td>\n",
       "      <td>Neutral</td>\n",
       "      <td>[susah, buka, rek, gagal, masuk, via, sms, per...</td>\n",
       "    </tr>\n",
       "    <tr>\n",
       "      <th>4</th>\n",
       "      <td>Fidyah Romadhan</td>\n",
       "      <td>1</td>\n",
       "      <td>ribet bgt skrg harus verifikasi ktp dulu berka...</td>\n",
       "      <td>2023-03-27 14:58:13</td>\n",
       "      <td>Negative</td>\n",
       "      <td>[ribet, bgt, skrg, verifikasi, ktp, berkali, g...</td>\n",
       "    </tr>\n",
       "  </tbody>\n",
       "</table>\n",
       "</div>"
      ],
      "text/plain": [
       "          userName  score                                            content  \\\n",
       "0        Chris Nur      5                                                 ok   \n",
       "1    shadow_owl 82      5                                    sangat membantu   \n",
       "2         tata kmy      1  ribet pake verifikasi muka segala udah kayak p...   \n",
       "3      Jhoy Wae351      3  susah buka rek baru selalu gagal masuk via sms...   \n",
       "4  Fidyah Romadhan      1  ribet bgt skrg harus verifikasi ktp dulu berka...   \n",
       "\n",
       "                   at sentiment  \\\n",
       "0 2023-03-27 16:03:27  Positive   \n",
       "1 2023-03-27 15:59:12  Positive   \n",
       "2 2023-03-27 15:54:45  Negative   \n",
       "3 2023-03-27 15:39:23   Neutral   \n",
       "4 2023-03-27 14:58:13  Negative   \n",
       "\n",
       "                                       content_token  \n",
       "0                                               [ok]  \n",
       "1                                         [membantu]  \n",
       "2  [ribet, pake, verifikasi, muka, udah, kayak, p...  \n",
       "3  [susah, buka, rek, gagal, masuk, via, sms, per...  \n",
       "4  [ribet, bgt, skrg, verifikasi, ktp, berkali, g...  "
      ]
     },
     "execution_count": 14,
     "metadata": {},
     "output_type": "execute_result"
    }
   ],
   "source": [
    "# Check stopwords in Bahasa Indonesia\n",
    "import nltk\n",
    "nltk.download('stopwords')\n",
    "from nltk.corpus import stopwords\n",
    "\n",
    "stopwords = stopwords.words('indonesian')\n",
    "\n",
    "# Remove stopwords\n",
    "new_df['content_token'] = new_df['content_token'].apply(lambda x: [item for item in x if item not in stopwords])\n",
    "new_df.head()"
   ]
  },
  {
   "cell_type": "code",
   "execution_count": 15,
   "metadata": {},
   "outputs": [
    {
     "name": "stderr",
     "output_type": "stream",
     "text": [
      "<ipython-input-15-ce3a39eac315>:11: SettingWithCopyWarning:\n",
      "\n",
      "\n",
      "A value is trying to be set on a copy of a slice from a DataFrame.\n",
      "Try using .loc[row_indexer,col_indexer] = value instead\n",
      "\n",
      "See the caveats in the documentation: https://pandas.pydata.org/pandas-docs/stable/user_guide/indexing.html#returning-a-view-versus-a-copy\n",
      "\n"
     ]
    },
    {
     "data": {
      "text/html": [
       "<div>\n",
       "<style scoped>\n",
       "    .dataframe tbody tr th:only-of-type {\n",
       "        vertical-align: middle;\n",
       "    }\n",
       "\n",
       "    .dataframe tbody tr th {\n",
       "        vertical-align: top;\n",
       "    }\n",
       "\n",
       "    .dataframe thead th {\n",
       "        text-align: right;\n",
       "    }\n",
       "</style>\n",
       "<table border=\"1\" class=\"dataframe\">\n",
       "  <thead>\n",
       "    <tr style=\"text-align: right;\">\n",
       "      <th></th>\n",
       "      <th>userName</th>\n",
       "      <th>score</th>\n",
       "      <th>content</th>\n",
       "      <th>at</th>\n",
       "      <th>sentiment</th>\n",
       "      <th>content_token</th>\n",
       "      <th>content_stem</th>\n",
       "    </tr>\n",
       "  </thead>\n",
       "  <tbody>\n",
       "    <tr>\n",
       "      <th>0</th>\n",
       "      <td>Chris Nur</td>\n",
       "      <td>5</td>\n",
       "      <td>ok</td>\n",
       "      <td>2023-03-27 16:03:27</td>\n",
       "      <td>Positive</td>\n",
       "      <td>[ok]</td>\n",
       "      <td>[ok]</td>\n",
       "    </tr>\n",
       "    <tr>\n",
       "      <th>1</th>\n",
       "      <td>shadow_owl 82</td>\n",
       "      <td>5</td>\n",
       "      <td>sangat membantu</td>\n",
       "      <td>2023-03-27 15:59:12</td>\n",
       "      <td>Positive</td>\n",
       "      <td>[membantu]</td>\n",
       "      <td>[bantu]</td>\n",
       "    </tr>\n",
       "    <tr>\n",
       "      <th>2</th>\n",
       "      <td>tata kmy</td>\n",
       "      <td>1</td>\n",
       "      <td>ribet pake verifikasi muka segala udah kayak p...</td>\n",
       "      <td>2023-03-27 15:54:45</td>\n",
       "      <td>Negative</td>\n",
       "      <td>[ribet, pake, verifikasi, muka, udah, kayak, p...</td>\n",
       "      <td>[ribet, pake, verifikasi, muka, udah, kayak, p...</td>\n",
       "    </tr>\n",
       "    <tr>\n",
       "      <th>3</th>\n",
       "      <td>Jhoy Wae351</td>\n",
       "      <td>3</td>\n",
       "      <td>susah buka rek baru selalu gagal masuk via sms...</td>\n",
       "      <td>2023-03-27 15:39:23</td>\n",
       "      <td>Neutral</td>\n",
       "      <td>[susah, buka, rek, gagal, masuk, via, sms, per...</td>\n",
       "      <td>[susah, buka, rek, gagal, masuk, via, sms, per...</td>\n",
       "    </tr>\n",
       "    <tr>\n",
       "      <th>4</th>\n",
       "      <td>Fidyah Romadhan</td>\n",
       "      <td>1</td>\n",
       "      <td>ribet bgt skrg harus verifikasi ktp dulu berka...</td>\n",
       "      <td>2023-03-27 14:58:13</td>\n",
       "      <td>Negative</td>\n",
       "      <td>[ribet, bgt, skrg, verifikasi, ktp, berkali, g...</td>\n",
       "      <td>[ribet, bgt, skrg, verifikasi, ktp, kali, gaga...</td>\n",
       "    </tr>\n",
       "  </tbody>\n",
       "</table>\n",
       "</div>"
      ],
      "text/plain": [
       "          userName  score                                            content  \\\n",
       "0        Chris Nur      5                                                 ok   \n",
       "1    shadow_owl 82      5                                    sangat membantu   \n",
       "2         tata kmy      1  ribet pake verifikasi muka segala udah kayak p...   \n",
       "3      Jhoy Wae351      3  susah buka rek baru selalu gagal masuk via sms...   \n",
       "4  Fidyah Romadhan      1  ribet bgt skrg harus verifikasi ktp dulu berka...   \n",
       "\n",
       "                   at sentiment  \\\n",
       "0 2023-03-27 16:03:27  Positive   \n",
       "1 2023-03-27 15:59:12  Positive   \n",
       "2 2023-03-27 15:54:45  Negative   \n",
       "3 2023-03-27 15:39:23   Neutral   \n",
       "4 2023-03-27 14:58:13  Negative   \n",
       "\n",
       "                                       content_token  \\\n",
       "0                                               [ok]   \n",
       "1                                         [membantu]   \n",
       "2  [ribet, pake, verifikasi, muka, udah, kayak, p...   \n",
       "3  [susah, buka, rek, gagal, masuk, via, sms, per...   \n",
       "4  [ribet, bgt, skrg, verifikasi, ktp, berkali, g...   \n",
       "\n",
       "                                        content_stem  \n",
       "0                                               [ok]  \n",
       "1                                            [bantu]  \n",
       "2  [ribet, pake, verifikasi, muka, udah, kayak, p...  \n",
       "3  [susah, buka, rek, gagal, masuk, via, sms, per...  \n",
       "4  [ribet, bgt, skrg, verifikasi, ktp, kali, gaga...  "
      ]
     },
     "execution_count": 15,
     "metadata": {},
     "output_type": "execute_result"
    }
   ],
   "source": [
    "# Stemming with Sastrawi\n",
    "from Sastrawi.Stemmer.StemmerFactory import StemmerFactory\n",
    "\n",
    "factory = StemmerFactory()\n",
    "stemmer = factory.create_stemmer()\n",
    "\n",
    "content_stem = []\n",
    "for i in new_df['content_token']:\n",
    "    content_stem.append([stemmer.stem(j) for j in i])\n",
    "\n",
    "new_df['content_stem'] = content_stem\n",
    "new_df.head()"
   ]
  },
  {
   "cell_type": "code",
   "execution_count": 16,
   "metadata": {},
   "outputs": [
    {
     "name": "stderr",
     "output_type": "stream",
     "text": [
      "<ipython-input-16-edb735409ba7>:6: SettingWithCopyWarning:\n",
      "\n",
      "\n",
      "A value is trying to be set on a copy of a slice from a DataFrame.\n",
      "Try using .loc[row_indexer,col_indexer] = value instead\n",
      "\n",
      "See the caveats in the documentation: https://pandas.pydata.org/pandas-docs/stable/user_guide/indexing.html#returning-a-view-versus-a-copy\n",
      "\n"
     ]
    },
    {
     "data": {
      "text/html": [
       "<div>\n",
       "<style scoped>\n",
       "    .dataframe tbody tr th:only-of-type {\n",
       "        vertical-align: middle;\n",
       "    }\n",
       "\n",
       "    .dataframe tbody tr th {\n",
       "        vertical-align: top;\n",
       "    }\n",
       "\n",
       "    .dataframe thead th {\n",
       "        text-align: right;\n",
       "    }\n",
       "</style>\n",
       "<table border=\"1\" class=\"dataframe\">\n",
       "  <thead>\n",
       "    <tr style=\"text-align: right;\">\n",
       "      <th></th>\n",
       "      <th>userName</th>\n",
       "      <th>score</th>\n",
       "      <th>content</th>\n",
       "      <th>at</th>\n",
       "      <th>sentiment</th>\n",
       "      <th>content_token</th>\n",
       "      <th>content_stem</th>\n",
       "    </tr>\n",
       "  </thead>\n",
       "  <tbody>\n",
       "    <tr>\n",
       "      <th>0</th>\n",
       "      <td>Chris Nur</td>\n",
       "      <td>5</td>\n",
       "      <td>ok</td>\n",
       "      <td>2023-03-27 16:03:27</td>\n",
       "      <td>Positive</td>\n",
       "      <td>[ok]</td>\n",
       "      <td>[ok]</td>\n",
       "    </tr>\n",
       "    <tr>\n",
       "      <th>1</th>\n",
       "      <td>shadow_owl 82</td>\n",
       "      <td>5</td>\n",
       "      <td>sangat membantu</td>\n",
       "      <td>2023-03-27 15:59:12</td>\n",
       "      <td>Positive</td>\n",
       "      <td>[membantu]</td>\n",
       "      <td>[bantu]</td>\n",
       "    </tr>\n",
       "    <tr>\n",
       "      <th>2</th>\n",
       "      <td>tata kmy</td>\n",
       "      <td>1</td>\n",
       "      <td>ribet pake verifikasi muka segala udah kayak p...</td>\n",
       "      <td>2023-03-27 15:54:45</td>\n",
       "      <td>Negative</td>\n",
       "      <td>[ribet, pake, verifikasi, muka, udah, kayak, p...</td>\n",
       "      <td>[ribet, pake, verifikasi, muka, udah, kayak, p...</td>\n",
       "    </tr>\n",
       "    <tr>\n",
       "      <th>3</th>\n",
       "      <td>Jhoy Wae351</td>\n",
       "      <td>3</td>\n",
       "      <td>susah buka rek baru selalu gagal masuk via sms...</td>\n",
       "      <td>2023-03-27 15:39:23</td>\n",
       "      <td>Neutral</td>\n",
       "      <td>[susah, buka, rek, gagal, masuk, via, sms, per...</td>\n",
       "      <td>[susah, buka, rek, gagal, masuk, via, sms, per...</td>\n",
       "    </tr>\n",
       "    <tr>\n",
       "      <th>4</th>\n",
       "      <td>Fidyah Romadhan</td>\n",
       "      <td>1</td>\n",
       "      <td>ribet bgt skrg harus verifikasi ktp dulu berka...</td>\n",
       "      <td>2023-03-27 14:58:13</td>\n",
       "      <td>Negative</td>\n",
       "      <td>[ribet, bgt, skrg, verifikasi, ktp, berkali, g...</td>\n",
       "      <td>[ribet, bgt, skrg, verifikasi, ktp, kali, gaga...</td>\n",
       "    </tr>\n",
       "  </tbody>\n",
       "</table>\n",
       "</div>"
      ],
      "text/plain": [
       "          userName  score                                            content  \\\n",
       "0        Chris Nur      5                                                 ok   \n",
       "1    shadow_owl 82      5                                    sangat membantu   \n",
       "2         tata kmy      1  ribet pake verifikasi muka segala udah kayak p...   \n",
       "3      Jhoy Wae351      3  susah buka rek baru selalu gagal masuk via sms...   \n",
       "4  Fidyah Romadhan      1  ribet bgt skrg harus verifikasi ktp dulu berka...   \n",
       "\n",
       "                   at sentiment  \\\n",
       "0 2023-03-27 16:03:27  Positive   \n",
       "1 2023-03-27 15:59:12  Positive   \n",
       "2 2023-03-27 15:54:45  Negative   \n",
       "3 2023-03-27 15:39:23   Neutral   \n",
       "4 2023-03-27 14:58:13  Negative   \n",
       "\n",
       "                                       content_token  \\\n",
       "0                                               [ok]   \n",
       "1                                         [membantu]   \n",
       "2  [ribet, pake, verifikasi, muka, udah, kayak, p...   \n",
       "3  [susah, buka, rek, gagal, masuk, via, sms, per...   \n",
       "4  [ribet, bgt, skrg, verifikasi, ktp, berkali, g...   \n",
       "\n",
       "                                        content_stem  \n",
       "0                                               [ok]  \n",
       "1                                            [bantu]  \n",
       "2  [ribet, pake, verifikasi, muka, udah, kayak, p...  \n",
       "3  [susah, buka, rek, gagal, masuk, via, sms, per...  \n",
       "4  [ribet, bgt, skrg, verifikasi, ktp, kali, gaga...  "
      ]
     },
     "execution_count": 16,
     "metadata": {},
     "output_type": "execute_result"
    }
   ],
   "source": [
    "# Open the dictionary of slang words in Bahasa Indonesia\n",
    "with open(r\"E:\\KAMPUS\\BERKAS - BERKAS\\Skripsi\\Workstation\\NLP_bahasa_resources\\combined_slang_words.txt\", 'r') as slang_words:\n",
    "    slang_words = slang_words.read().splitlines()\n",
    "\n",
    "# Remove slang words, if there is any slang words in the content column\n",
    "new_df['content_stem'] = new_df['content_stem'].apply(lambda x: [item for item in x if item not in slang_words])\n",
    "new_df.head()"
   ]
  },
  {
   "attachments": {},
   "cell_type": "markdown",
   "metadata": {},
   "source": [
    "## **4. Modelling**"
   ]
  },
  {
   "cell_type": "code",
   "execution_count": 17,
   "metadata": {},
   "outputs": [
    {
     "data": {
      "text/html": [
       "<style  type=\"text/css\" >\n",
       "    #T_dbd0a_ th {\n",
       "          text-align: left;\n",
       "    }#T_dbd0a_row0_col0,#T_dbd0a_row1_col0,#T_dbd0a_row2_col0,#T_dbd0a_row2_col2,#T_dbd0a_row3_col0,#T_dbd0a_row3_col2,#T_dbd0a_row4_col0,#T_dbd0a_row5_col0,#T_dbd0a_row6_col0,#T_dbd0a_row7_col0,#T_dbd0a_row8_col0,#T_dbd0a_row9_col0,#T_dbd0a_row10_col0,#T_dbd0a_row10_col1,#T_dbd0a_row10_col2,#T_dbd0a_row10_col3,#T_dbd0a_row10_col4,#T_dbd0a_row10_col5,#T_dbd0a_row10_col6,#T_dbd0a_row10_col7,#T_dbd0a_row11_col0,#T_dbd0a_row11_col1,#T_dbd0a_row11_col2,#T_dbd0a_row11_col3,#T_dbd0a_row11_col4,#T_dbd0a_row11_col5,#T_dbd0a_row11_col6,#T_dbd0a_row11_col7,#T_dbd0a_row12_col0,#T_dbd0a_row12_col1,#T_dbd0a_row12_col2,#T_dbd0a_row12_col3,#T_dbd0a_row12_col4,#T_dbd0a_row12_col5,#T_dbd0a_row12_col6,#T_dbd0a_row12_col7,#T_dbd0a_row13_col0,#T_dbd0a_row13_col1,#T_dbd0a_row13_col2,#T_dbd0a_row13_col3,#T_dbd0a_row13_col4,#T_dbd0a_row13_col5,#T_dbd0a_row13_col6,#T_dbd0a_row13_col7,#T_dbd0a_row14_col0,#T_dbd0a_row14_col1,#T_dbd0a_row14_col2,#T_dbd0a_row14_col3,#T_dbd0a_row14_col4,#T_dbd0a_row14_col5,#T_dbd0a_row14_col6,#T_dbd0a_row14_col7{\n",
       "            text-align:  left;\n",
       "            text-align:  left;\n",
       "        }#T_dbd0a_row0_col1,#T_dbd0a_row0_col2,#T_dbd0a_row0_col3,#T_dbd0a_row0_col4,#T_dbd0a_row0_col5,#T_dbd0a_row0_col6,#T_dbd0a_row0_col7,#T_dbd0a_row1_col1,#T_dbd0a_row1_col2,#T_dbd0a_row1_col3,#T_dbd0a_row1_col4,#T_dbd0a_row1_col5,#T_dbd0a_row1_col6,#T_dbd0a_row1_col7,#T_dbd0a_row2_col1,#T_dbd0a_row2_col3,#T_dbd0a_row2_col4,#T_dbd0a_row2_col5,#T_dbd0a_row2_col6,#T_dbd0a_row2_col7,#T_dbd0a_row3_col1,#T_dbd0a_row3_col3,#T_dbd0a_row3_col4,#T_dbd0a_row3_col5,#T_dbd0a_row3_col6,#T_dbd0a_row3_col7,#T_dbd0a_row4_col1,#T_dbd0a_row4_col2,#T_dbd0a_row4_col3,#T_dbd0a_row4_col4,#T_dbd0a_row4_col5,#T_dbd0a_row4_col6,#T_dbd0a_row4_col7,#T_dbd0a_row5_col1,#T_dbd0a_row5_col2,#T_dbd0a_row5_col3,#T_dbd0a_row5_col4,#T_dbd0a_row5_col5,#T_dbd0a_row5_col6,#T_dbd0a_row5_col7,#T_dbd0a_row6_col1,#T_dbd0a_row6_col2,#T_dbd0a_row6_col3,#T_dbd0a_row6_col4,#T_dbd0a_row6_col5,#T_dbd0a_row6_col6,#T_dbd0a_row6_col7,#T_dbd0a_row7_col1,#T_dbd0a_row7_col2,#T_dbd0a_row7_col3,#T_dbd0a_row7_col4,#T_dbd0a_row7_col5,#T_dbd0a_row7_col6,#T_dbd0a_row7_col7,#T_dbd0a_row8_col1,#T_dbd0a_row8_col2,#T_dbd0a_row8_col3,#T_dbd0a_row8_col4,#T_dbd0a_row8_col5,#T_dbd0a_row8_col6,#T_dbd0a_row8_col7,#T_dbd0a_row9_col1,#T_dbd0a_row9_col2,#T_dbd0a_row9_col3,#T_dbd0a_row9_col4,#T_dbd0a_row9_col5,#T_dbd0a_row9_col6,#T_dbd0a_row9_col7{\n",
       "            text-align:  left;\n",
       "            text-align:  left;\n",
       "            background-color:  yellow;\n",
       "        }#T_dbd0a_row0_col8,#T_dbd0a_row1_col8,#T_dbd0a_row2_col8,#T_dbd0a_row3_col8,#T_dbd0a_row4_col8,#T_dbd0a_row5_col8,#T_dbd0a_row6_col8,#T_dbd0a_row7_col8,#T_dbd0a_row8_col8,#T_dbd0a_row9_col8,#T_dbd0a_row10_col8,#T_dbd0a_row11_col8,#T_dbd0a_row12_col8,#T_dbd0a_row14_col8{\n",
       "            text-align:  left;\n",
       "            text-align:  left;\n",
       "            background-color:  lightgrey;\n",
       "        }#T_dbd0a_row13_col8{\n",
       "            text-align:  left;\n",
       "            text-align:  left;\n",
       "            background-color:  yellow;\n",
       "            background-color:  lightgrey;\n",
       "        }</style><table id=\"T_dbd0a_\" ><thead>    <tr>        <th class=\"blank level0\" ></th>        <th class=\"col_heading level0 col0\" >Model</th>        <th class=\"col_heading level0 col1\" >Accuracy</th>        <th class=\"col_heading level0 col2\" >AUC</th>        <th class=\"col_heading level0 col3\" >Recall</th>        <th class=\"col_heading level0 col4\" >Prec.</th>        <th class=\"col_heading level0 col5\" >F1</th>        <th class=\"col_heading level0 col6\" >Kappa</th>        <th class=\"col_heading level0 col7\" >MCC</th>        <th class=\"col_heading level0 col8\" >TT (Sec)</th>    </tr></thead><tbody>\n",
       "                <tr>\n",
       "                        <th id=\"T_dbd0a_level0_row0\" class=\"row_heading level0 row0\" >lr</th>\n",
       "                        <td id=\"T_dbd0a_row0_col0\" class=\"data row0 col0\" >Logistic Regression</td>\n",
       "                        <td id=\"T_dbd0a_row0_col1\" class=\"data row0 col1\" >1.0000</td>\n",
       "                        <td id=\"T_dbd0a_row0_col2\" class=\"data row0 col2\" >1.0000</td>\n",
       "                        <td id=\"T_dbd0a_row0_col3\" class=\"data row0 col3\" >1.0000</td>\n",
       "                        <td id=\"T_dbd0a_row0_col4\" class=\"data row0 col4\" >1.0000</td>\n",
       "                        <td id=\"T_dbd0a_row0_col5\" class=\"data row0 col5\" >1.0000</td>\n",
       "                        <td id=\"T_dbd0a_row0_col6\" class=\"data row0 col6\" >1.0000</td>\n",
       "                        <td id=\"T_dbd0a_row0_col7\" class=\"data row0 col7\" >1.0000</td>\n",
       "                        <td id=\"T_dbd0a_row0_col8\" class=\"data row0 col8\" >0.7340</td>\n",
       "            </tr>\n",
       "            <tr>\n",
       "                        <th id=\"T_dbd0a_level0_row1\" class=\"row_heading level0 row1\" >dt</th>\n",
       "                        <td id=\"T_dbd0a_row1_col0\" class=\"data row1 col0\" >Decision Tree Classifier</td>\n",
       "                        <td id=\"T_dbd0a_row1_col1\" class=\"data row1 col1\" >1.0000</td>\n",
       "                        <td id=\"T_dbd0a_row1_col2\" class=\"data row1 col2\" >1.0000</td>\n",
       "                        <td id=\"T_dbd0a_row1_col3\" class=\"data row1 col3\" >1.0000</td>\n",
       "                        <td id=\"T_dbd0a_row1_col4\" class=\"data row1 col4\" >1.0000</td>\n",
       "                        <td id=\"T_dbd0a_row1_col5\" class=\"data row1 col5\" >1.0000</td>\n",
       "                        <td id=\"T_dbd0a_row1_col6\" class=\"data row1 col6\" >1.0000</td>\n",
       "                        <td id=\"T_dbd0a_row1_col7\" class=\"data row1 col7\" >1.0000</td>\n",
       "                        <td id=\"T_dbd0a_row1_col8\" class=\"data row1 col8\" >0.0220</td>\n",
       "            </tr>\n",
       "            <tr>\n",
       "                        <th id=\"T_dbd0a_level0_row2\" class=\"row_heading level0 row2\" >svm</th>\n",
       "                        <td id=\"T_dbd0a_row2_col0\" class=\"data row2 col0\" >SVM - Linear Kernel</td>\n",
       "                        <td id=\"T_dbd0a_row2_col1\" class=\"data row2 col1\" >1.0000</td>\n",
       "                        <td id=\"T_dbd0a_row2_col2\" class=\"data row2 col2\" >0.0000</td>\n",
       "                        <td id=\"T_dbd0a_row2_col3\" class=\"data row2 col3\" >1.0000</td>\n",
       "                        <td id=\"T_dbd0a_row2_col4\" class=\"data row2 col4\" >1.0000</td>\n",
       "                        <td id=\"T_dbd0a_row2_col5\" class=\"data row2 col5\" >1.0000</td>\n",
       "                        <td id=\"T_dbd0a_row2_col6\" class=\"data row2 col6\" >1.0000</td>\n",
       "                        <td id=\"T_dbd0a_row2_col7\" class=\"data row2 col7\" >1.0000</td>\n",
       "                        <td id=\"T_dbd0a_row2_col8\" class=\"data row2 col8\" >0.0240</td>\n",
       "            </tr>\n",
       "            <tr>\n",
       "                        <th id=\"T_dbd0a_level0_row3\" class=\"row_heading level0 row3\" >ridge</th>\n",
       "                        <td id=\"T_dbd0a_row3_col0\" class=\"data row3 col0\" >Ridge Classifier</td>\n",
       "                        <td id=\"T_dbd0a_row3_col1\" class=\"data row3 col1\" >1.0000</td>\n",
       "                        <td id=\"T_dbd0a_row3_col2\" class=\"data row3 col2\" >0.0000</td>\n",
       "                        <td id=\"T_dbd0a_row3_col3\" class=\"data row3 col3\" >1.0000</td>\n",
       "                        <td id=\"T_dbd0a_row3_col4\" class=\"data row3 col4\" >1.0000</td>\n",
       "                        <td id=\"T_dbd0a_row3_col5\" class=\"data row3 col5\" >1.0000</td>\n",
       "                        <td id=\"T_dbd0a_row3_col6\" class=\"data row3 col6\" >1.0000</td>\n",
       "                        <td id=\"T_dbd0a_row3_col7\" class=\"data row3 col7\" >1.0000</td>\n",
       "                        <td id=\"T_dbd0a_row3_col8\" class=\"data row3 col8\" >0.0240</td>\n",
       "            </tr>\n",
       "            <tr>\n",
       "                        <th id=\"T_dbd0a_level0_row4\" class=\"row_heading level0 row4\" >rf</th>\n",
       "                        <td id=\"T_dbd0a_row4_col0\" class=\"data row4 col0\" >Random Forest Classifier</td>\n",
       "                        <td id=\"T_dbd0a_row4_col1\" class=\"data row4 col1\" >1.0000</td>\n",
       "                        <td id=\"T_dbd0a_row4_col2\" class=\"data row4 col2\" >1.0000</td>\n",
       "                        <td id=\"T_dbd0a_row4_col3\" class=\"data row4 col3\" >1.0000</td>\n",
       "                        <td id=\"T_dbd0a_row4_col4\" class=\"data row4 col4\" >1.0000</td>\n",
       "                        <td id=\"T_dbd0a_row4_col5\" class=\"data row4 col5\" >1.0000</td>\n",
       "                        <td id=\"T_dbd0a_row4_col6\" class=\"data row4 col6\" >1.0000</td>\n",
       "                        <td id=\"T_dbd0a_row4_col7\" class=\"data row4 col7\" >1.0000</td>\n",
       "                        <td id=\"T_dbd0a_row4_col8\" class=\"data row4 col8\" >0.1070</td>\n",
       "            </tr>\n",
       "            <tr>\n",
       "                        <th id=\"T_dbd0a_level0_row5\" class=\"row_heading level0 row5\" >ada</th>\n",
       "                        <td id=\"T_dbd0a_row5_col0\" class=\"data row5 col0\" >Ada Boost Classifier</td>\n",
       "                        <td id=\"T_dbd0a_row5_col1\" class=\"data row5 col1\" >1.0000</td>\n",
       "                        <td id=\"T_dbd0a_row5_col2\" class=\"data row5 col2\" >1.0000</td>\n",
       "                        <td id=\"T_dbd0a_row5_col3\" class=\"data row5 col3\" >1.0000</td>\n",
       "                        <td id=\"T_dbd0a_row5_col4\" class=\"data row5 col4\" >1.0000</td>\n",
       "                        <td id=\"T_dbd0a_row5_col5\" class=\"data row5 col5\" >1.0000</td>\n",
       "                        <td id=\"T_dbd0a_row5_col6\" class=\"data row5 col6\" >1.0000</td>\n",
       "                        <td id=\"T_dbd0a_row5_col7\" class=\"data row5 col7\" >1.0000</td>\n",
       "                        <td id=\"T_dbd0a_row5_col8\" class=\"data row5 col8\" >0.0730</td>\n",
       "            </tr>\n",
       "            <tr>\n",
       "                        <th id=\"T_dbd0a_level0_row6\" class=\"row_heading level0 row6\" >gbc</th>\n",
       "                        <td id=\"T_dbd0a_row6_col0\" class=\"data row6 col0\" >Gradient Boosting Classifier</td>\n",
       "                        <td id=\"T_dbd0a_row6_col1\" class=\"data row6 col1\" >1.0000</td>\n",
       "                        <td id=\"T_dbd0a_row6_col2\" class=\"data row6 col2\" >1.0000</td>\n",
       "                        <td id=\"T_dbd0a_row6_col3\" class=\"data row6 col3\" >1.0000</td>\n",
       "                        <td id=\"T_dbd0a_row6_col4\" class=\"data row6 col4\" >1.0000</td>\n",
       "                        <td id=\"T_dbd0a_row6_col5\" class=\"data row6 col5\" >1.0000</td>\n",
       "                        <td id=\"T_dbd0a_row6_col6\" class=\"data row6 col6\" >1.0000</td>\n",
       "                        <td id=\"T_dbd0a_row6_col7\" class=\"data row6 col7\" >1.0000</td>\n",
       "                        <td id=\"T_dbd0a_row6_col8\" class=\"data row6 col8\" >0.3150</td>\n",
       "            </tr>\n",
       "            <tr>\n",
       "                        <th id=\"T_dbd0a_level0_row7\" class=\"row_heading level0 row7\" >et</th>\n",
       "                        <td id=\"T_dbd0a_row7_col0\" class=\"data row7 col0\" >Extra Trees Classifier</td>\n",
       "                        <td id=\"T_dbd0a_row7_col1\" class=\"data row7 col1\" >1.0000</td>\n",
       "                        <td id=\"T_dbd0a_row7_col2\" class=\"data row7 col2\" >1.0000</td>\n",
       "                        <td id=\"T_dbd0a_row7_col3\" class=\"data row7 col3\" >1.0000</td>\n",
       "                        <td id=\"T_dbd0a_row7_col4\" class=\"data row7 col4\" >1.0000</td>\n",
       "                        <td id=\"T_dbd0a_row7_col5\" class=\"data row7 col5\" >1.0000</td>\n",
       "                        <td id=\"T_dbd0a_row7_col6\" class=\"data row7 col6\" >1.0000</td>\n",
       "                        <td id=\"T_dbd0a_row7_col7\" class=\"data row7 col7\" >1.0000</td>\n",
       "                        <td id=\"T_dbd0a_row7_col8\" class=\"data row7 col8\" >0.0890</td>\n",
       "            </tr>\n",
       "            <tr>\n",
       "                        <th id=\"T_dbd0a_level0_row8\" class=\"row_heading level0 row8\" >xgboost</th>\n",
       "                        <td id=\"T_dbd0a_row8_col0\" class=\"data row8 col0\" >Extreme Gradient Boosting</td>\n",
       "                        <td id=\"T_dbd0a_row8_col1\" class=\"data row8 col1\" >1.0000</td>\n",
       "                        <td id=\"T_dbd0a_row8_col2\" class=\"data row8 col2\" >1.0000</td>\n",
       "                        <td id=\"T_dbd0a_row8_col3\" class=\"data row8 col3\" >1.0000</td>\n",
       "                        <td id=\"T_dbd0a_row8_col4\" class=\"data row8 col4\" >1.0000</td>\n",
       "                        <td id=\"T_dbd0a_row8_col5\" class=\"data row8 col5\" >1.0000</td>\n",
       "                        <td id=\"T_dbd0a_row8_col6\" class=\"data row8 col6\" >1.0000</td>\n",
       "                        <td id=\"T_dbd0a_row8_col7\" class=\"data row8 col7\" >1.0000</td>\n",
       "                        <td id=\"T_dbd0a_row8_col8\" class=\"data row8 col8\" >0.3130</td>\n",
       "            </tr>\n",
       "            <tr>\n",
       "                        <th id=\"T_dbd0a_level0_row9\" class=\"row_heading level0 row9\" >lightgbm</th>\n",
       "                        <td id=\"T_dbd0a_row9_col0\" class=\"data row9 col0\" >Light Gradient Boosting Machine</td>\n",
       "                        <td id=\"T_dbd0a_row9_col1\" class=\"data row9 col1\" >1.0000</td>\n",
       "                        <td id=\"T_dbd0a_row9_col2\" class=\"data row9 col2\" >1.0000</td>\n",
       "                        <td id=\"T_dbd0a_row9_col3\" class=\"data row9 col3\" >1.0000</td>\n",
       "                        <td id=\"T_dbd0a_row9_col4\" class=\"data row9 col4\" >1.0000</td>\n",
       "                        <td id=\"T_dbd0a_row9_col5\" class=\"data row9 col5\" >1.0000</td>\n",
       "                        <td id=\"T_dbd0a_row9_col6\" class=\"data row9 col6\" >1.0000</td>\n",
       "                        <td id=\"T_dbd0a_row9_col7\" class=\"data row9 col7\" >1.0000</td>\n",
       "                        <td id=\"T_dbd0a_row9_col8\" class=\"data row9 col8\" >0.1870</td>\n",
       "            </tr>\n",
       "            <tr>\n",
       "                        <th id=\"T_dbd0a_level0_row10\" class=\"row_heading level0 row10\" >nb</th>\n",
       "                        <td id=\"T_dbd0a_row10_col0\" class=\"data row10 col0\" >Naive Bayes</td>\n",
       "                        <td id=\"T_dbd0a_row10_col1\" class=\"data row10 col1\" >0.9943</td>\n",
       "                        <td id=\"T_dbd0a_row10_col2\" class=\"data row10 col2\" >0.9970</td>\n",
       "                        <td id=\"T_dbd0a_row10_col3\" class=\"data row10 col3\" >0.9861</td>\n",
       "                        <td id=\"T_dbd0a_row10_col4\" class=\"data row10 col4\" >0.9946</td>\n",
       "                        <td id=\"T_dbd0a_row10_col5\" class=\"data row10 col5\" >0.9942</td>\n",
       "                        <td id=\"T_dbd0a_row10_col6\" class=\"data row10 col6\" >0.9895</td>\n",
       "                        <td id=\"T_dbd0a_row10_col7\" class=\"data row10 col7\" >0.9897</td>\n",
       "                        <td id=\"T_dbd0a_row10_col8\" class=\"data row10 col8\" >0.0210</td>\n",
       "            </tr>\n",
       "            <tr>\n",
       "                        <th id=\"T_dbd0a_level0_row11\" class=\"row_heading level0 row11\" >knn</th>\n",
       "                        <td id=\"T_dbd0a_row11_col0\" class=\"data row11 col0\" >K Neighbors Classifier</td>\n",
       "                        <td id=\"T_dbd0a_row11_col1\" class=\"data row11 col1\" >0.9742</td>\n",
       "                        <td id=\"T_dbd0a_row11_col2\" class=\"data row11 col2\" >0.9976</td>\n",
       "                        <td id=\"T_dbd0a_row11_col3\" class=\"data row11 col3\" >0.9479</td>\n",
       "                        <td id=\"T_dbd0a_row11_col4\" class=\"data row11 col4\" >0.9758</td>\n",
       "                        <td id=\"T_dbd0a_row11_col5\" class=\"data row11 col5\" >0.9736</td>\n",
       "                        <td id=\"T_dbd0a_row11_col6\" class=\"data row11 col6\" >0.9517</td>\n",
       "                        <td id=\"T_dbd0a_row11_col7\" class=\"data row11 col7\" >0.9534</td>\n",
       "                        <td id=\"T_dbd0a_row11_col8\" class=\"data row11 col8\" >0.3310</td>\n",
       "            </tr>\n",
       "            <tr>\n",
       "                        <th id=\"T_dbd0a_level0_row12\" class=\"row_heading level0 row12\" >lda</th>\n",
       "                        <td id=\"T_dbd0a_row12_col0\" class=\"data row12 col0\" >Linear Discriminant Analysis</td>\n",
       "                        <td id=\"T_dbd0a_row12_col1\" class=\"data row12 col1\" >0.8355</td>\n",
       "                        <td id=\"T_dbd0a_row12_col2\" class=\"data row12 col2\" >0.9003</td>\n",
       "                        <td id=\"T_dbd0a_row12_col3\" class=\"data row12 col3\" >0.6124</td>\n",
       "                        <td id=\"T_dbd0a_row12_col4\" class=\"data row12 col4\" >0.7981</td>\n",
       "                        <td id=\"T_dbd0a_row12_col5\" class=\"data row12 col5\" >0.8131</td>\n",
       "                        <td id=\"T_dbd0a_row12_col6\" class=\"data row12 col6\" >0.6819</td>\n",
       "                        <td id=\"T_dbd0a_row12_col7\" class=\"data row12 col7\" >0.6934</td>\n",
       "                        <td id=\"T_dbd0a_row12_col8\" class=\"data row12 col8\" >0.0850</td>\n",
       "            </tr>\n",
       "            <tr>\n",
       "                        <th id=\"T_dbd0a_level0_row13\" class=\"row_heading level0 row13\" >dummy</th>\n",
       "                        <td id=\"T_dbd0a_row13_col0\" class=\"data row13 col0\" >Dummy Classifier</td>\n",
       "                        <td id=\"T_dbd0a_row13_col1\" class=\"data row13 col1\" >0.5708</td>\n",
       "                        <td id=\"T_dbd0a_row13_col2\" class=\"data row13 col2\" >0.5000</td>\n",
       "                        <td id=\"T_dbd0a_row13_col3\" class=\"data row13 col3\" >0.3333</td>\n",
       "                        <td id=\"T_dbd0a_row13_col4\" class=\"data row13 col4\" >0.3258</td>\n",
       "                        <td id=\"T_dbd0a_row13_col5\" class=\"data row13 col5\" >0.4148</td>\n",
       "                        <td id=\"T_dbd0a_row13_col6\" class=\"data row13 col6\" >0.0000</td>\n",
       "                        <td id=\"T_dbd0a_row13_col7\" class=\"data row13 col7\" >0.0000</td>\n",
       "                        <td id=\"T_dbd0a_row13_col8\" class=\"data row13 col8\" >0.0200</td>\n",
       "            </tr>\n",
       "            <tr>\n",
       "                        <th id=\"T_dbd0a_level0_row14\" class=\"row_heading level0 row14\" >qda</th>\n",
       "                        <td id=\"T_dbd0a_row14_col0\" class=\"data row14 col0\" >Quadratic Discriminant Analysis</td>\n",
       "                        <td id=\"T_dbd0a_row14_col1\" class=\"data row14 col1\" >0.4323</td>\n",
       "                        <td id=\"T_dbd0a_row14_col2\" class=\"data row14 col2\" >0.4304</td>\n",
       "                        <td id=\"T_dbd0a_row14_col3\" class=\"data row14 col3\" >0.4989</td>\n",
       "                        <td id=\"T_dbd0a_row14_col4\" class=\"data row14 col4\" >0.5892</td>\n",
       "                        <td id=\"T_dbd0a_row14_col5\" class=\"data row14 col5\" >0.4098</td>\n",
       "                        <td id=\"T_dbd0a_row14_col6\" class=\"data row14 col6\" >0.1863</td>\n",
       "                        <td id=\"T_dbd0a_row14_col7\" class=\"data row14 col7\" >0.2473</td>\n",
       "                        <td id=\"T_dbd0a_row14_col8\" class=\"data row14 col8\" >0.0580</td>\n",
       "            </tr>\n",
       "    </tbody></table>"
      ],
      "text/plain": [
       "<pandas.io.formats.style.Styler at 0x2628593a790>"
      ]
     },
     "metadata": {},
     "output_type": "display_data"
    },
    {
     "data": {
      "text/plain": [
       "[LogisticRegression(C=1.0, class_weight=None, dual=False, fit_intercept=True,\n",
       "                    intercept_scaling=1, l1_ratio=None, max_iter=1000,\n",
       "                    multi_class='auto', n_jobs=None, penalty='l2',\n",
       "                    random_state=123, solver='lbfgs', tol=0.0001, verbose=0,\n",
       "                    warm_start=False),\n",
       " DecisionTreeClassifier(ccp_alpha=0.0, class_weight=None, criterion='gini',\n",
       "                        max_depth=None, max_features=None, max_leaf_nodes=None,\n",
       "                        min_impurity_decrease=0.0, min_impurity_split=None,\n",
       "                        min_samples_leaf=1, min_samples_split=2,\n",
       "                        min_weight_fraction_leaf=0.0, presort='deprecated',\n",
       "                        random_state=123, splitter='best'),\n",
       " SGDClassifier(alpha=0.0001, average=False, class_weight=None,\n",
       "               early_stopping=False, epsilon=0.1, eta0=0.001, fit_intercept=True,\n",
       "               l1_ratio=0.15, learning_rate='optimal', loss='hinge',\n",
       "               max_iter=1000, n_iter_no_change=5, n_jobs=-1, penalty='l2',\n",
       "               power_t=0.5, random_state=123, shuffle=True, tol=0.001,\n",
       "               validation_fraction=0.1, verbose=0, warm_start=False)]"
      ]
     },
     "execution_count": 17,
     "metadata": {},
     "output_type": "execute_result"
    }
   ],
   "source": [
    "# Modelling with PyCaret\n",
    "from pycaret.classification import *\n",
    "\n",
    "# Setup the environment\n",
    "exp_clf = setup(data = new_df, target = 'sentiment', session_id=123, silent=True)\n",
    "\n",
    "# Compare the model\n",
    "best_model = compare_models(sort='Accuracy', n_select=3)\n",
    "best_model"
   ]
  }
 ],
 "metadata": {
  "kernelspec": {
   "display_name": "base",
   "language": "python",
   "name": "python3"
  },
  "language_info": {
   "codemirror_mode": {
    "name": "ipython",
    "version": 3
   },
   "file_extension": ".py",
   "mimetype": "text/x-python",
   "name": "python",
   "nbconvert_exporter": "python",
   "pygments_lexer": "ipython3",
   "version": "3.8.8"
  },
  "orig_nbformat": 4
 },
 "nbformat": 4,
 "nbformat_minor": 2
}
