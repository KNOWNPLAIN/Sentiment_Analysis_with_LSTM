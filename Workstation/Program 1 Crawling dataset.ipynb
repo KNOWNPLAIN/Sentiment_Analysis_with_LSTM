{
  "cells": [
    {
      "cell_type": "code",
      "execution_count": 1,
      "metadata": {
        "colab": {
          "base_uri": "https://localhost:8080/"
        },
        "id": "089IHV1jQQZh",
        "outputId": "e64b42c9-66d6-425a-95d3-9129df06b780"
      },
      "outputs": [],
      "source": [
        "# !pip install tweepy==4.5.0\n",
        "import tweepy\n",
        "import csv\n",
        "import pandas as pd\n",
        "import numpy as np"
      ]
    },
    {
      "cell_type": "code",
      "execution_count": 2,
      "metadata": {
        "id": "HXAL2slQads6"
      },
      "outputs": [],
      "source": [
        "api_key = \"de4zPGLwbpuUz2xpgISyv7MFD\"\n",
        "api_key_secret = \"nXp2d8P3Ye4leDsrWQPJBDlQCSRtStJWw4XqgwdZhjKyjSnnVl\"\n",
        "access_token = \"2214048067-0J40qXmoWzPg9wAqY5X1sDX95o4cl2x8eIfuVP0\"\n",
        "access_token_secret = \"mZ7dRAp63RmL06SLCjH8VclfaNOGmqzupC0ESoOhnex4m\"\n",
        "\n",
        "auth = tweepy.OAuthHandler(api_key,api_key_secret)\n",
        "auth.set_access_token(access_token,access_token_secret)\n",
        "api = tweepy.API(auth, wait_on_rate_limit=True)"
      ]
    },
    {
      "cell_type": "code",
      "execution_count": 3,
      "metadata": {
        "id": "1K0VQnCTjHRI"
      },
      "outputs": [],
      "source": [
        "search_words = \"BTS\"\n",
        "search_words = \"Bangtan\"\n",
        "search_words = \"Bighit\"\n",
        "search_words = \"Army\"\n",
        "\n",
        "search = search_words + \" -filter:retweets\""
      ]
    },
    {
      "cell_type": "code",
      "execution_count": 4,
      "metadata": {
        "colab": {
          "base_uri": "https://localhost:8080/",
          "height": 1068
        },
        "id": "7C_TlsO5-elk",
        "outputId": "b63f57b0-0867-49b1-90ab-48eb1c23d863"
      },
      "outputs": [
        {
          "data": {
            "text/html": [
              "<div>\n",
              "<style scoped>\n",
              "    .dataframe tbody tr th:only-of-type {\n",
              "        vertical-align: middle;\n",
              "    }\n",
              "\n",
              "    .dataframe tbody tr th {\n",
              "        vertical-align: top;\n",
              "    }\n",
              "\n",
              "    .dataframe thead th {\n",
              "        text-align: right;\n",
              "    }\n",
              "</style>\n",
              "<table border=\"1\" class=\"dataframe\">\n",
              "  <thead>\n",
              "    <tr style=\"text-align: right;\">\n",
              "      <th></th>\n",
              "      <th>id</th>\n",
              "      <th>date</th>\n",
              "      <th>username</th>\n",
              "      <th>tweet</th>\n",
              "    </tr>\n",
              "  </thead>\n",
              "  <tbody>\n",
              "    <tr>\n",
              "      <th>0</th>\n",
              "      <td>1641319808405839875</td>\n",
              "      <td>2023-03-30 06:01:51+00:00</td>\n",
              "      <td>Aniirudh_kv</td>\n",
              "      <td>@UmaBalachandren @jenifer63597635 @RVikraman @...</td>\n",
              "    </tr>\n",
              "    <tr>\n",
              "      <th>1</th>\n",
              "      <td>1641319789770727427</td>\n",
              "      <td>2023-03-30 06:01:46+00:00</td>\n",
              "      <td>taengeluv</td>\n",
              "      <td>@RanieFelia @myzxngi lh kok situ yg tantrum.. ...</td>\n",
              "    </tr>\n",
              "    <tr>\n",
              "      <th>2</th>\n",
              "      <td>1641319735026651137</td>\n",
              "      <td>2023-03-30 06:01:33+00:00</td>\n",
              "      <td>QFN_Army</td>\n",
              "      <td>@abcdyoongi_ @ime_indonesia @tiket Dari awal e...</td>\n",
              "    </tr>\n",
              "    <tr>\n",
              "      <th>3</th>\n",
              "      <td>1641319660955250688</td>\n",
              "      <td>2023-03-30 06:01:16+00:00</td>\n",
              "      <td>haridaresa</td>\n",
              "      <td>Dahla brand mending tiketny buat kalian aja da...</td>\n",
              "    </tr>\n",
              "    <tr>\n",
              "      <th>4</th>\n",
              "      <td>1641319557225910273</td>\n",
              "      <td>2023-03-30 06:00:51+00:00</td>\n",
              "      <td>JK_BRIndonesia</td>\n",
              "      <td>8 Cover Lagu Harry Styles yang Berkesan\\nArtis...</td>\n",
              "    </tr>\n",
              "    <tr>\n",
              "      <th>5</th>\n",
              "      <td>1641319480734420992</td>\n",
              "      <td>2023-03-30 06:00:33+00:00</td>\n",
              "      <td>jeonthvie_</td>\n",
              "      <td>@indomyfess TAHAN GAISS GAUSAH DIBELI.. KALAU ...</td>\n",
              "    </tr>\n",
              "    <tr>\n",
              "      <th>6</th>\n",
              "      <td>1641319416368615424</td>\n",
              "      <td>2023-03-30 06:00:17+00:00</td>\n",
              "      <td>sellkpopfess</td>\n",
              "      <td>ARMY YUK JOIN PAPABEAR GO! \\n\\n✅️ nyelem ina, ...</td>\n",
              "    </tr>\n",
              "    <tr>\n",
              "      <th>7</th>\n",
              "      <td>1641319360466939904</td>\n",
              "      <td>2023-03-30 06:00:04+00:00</td>\n",
              "      <td>ocirosi071</td>\n",
              "      <td>@rahmdess27 Giveaway kok di suruh beli produk ...</td>\n",
              "    </tr>\n",
              "    <tr>\n",
              "      <th>8</th>\n",
              "      <td>1641319355115008000</td>\n",
              "      <td>2023-03-30 06:00:03+00:00</td>\n",
              "      <td>sellkpopdata</td>\n",
              "      <td>ARMY YUK JOIN PAPABEAR GO! \\n\\nnyelem ina, kr,...</td>\n",
              "    </tr>\n",
              "    <tr>\n",
              "      <th>9</th>\n",
              "      <td>1641319354720743425</td>\n",
              "      <td>2023-03-30 06:00:03+00:00</td>\n",
              "      <td>dagangkorea</td>\n",
              "      <td>ARMY YUK JOIN PAPABEAR GO! \\n\\nnyelem ina, kr,...</td>\n",
              "    </tr>\n",
              "  </tbody>\n",
              "</table>\n",
              "</div>"
            ],
            "text/plain": [
              "                    id                      date        username  \\\n",
              "0  1641319808405839875 2023-03-30 06:01:51+00:00     Aniirudh_kv   \n",
              "1  1641319789770727427 2023-03-30 06:01:46+00:00       taengeluv   \n",
              "2  1641319735026651137 2023-03-30 06:01:33+00:00        QFN_Army   \n",
              "3  1641319660955250688 2023-03-30 06:01:16+00:00      haridaresa   \n",
              "4  1641319557225910273 2023-03-30 06:00:51+00:00  JK_BRIndonesia   \n",
              "5  1641319480734420992 2023-03-30 06:00:33+00:00      jeonthvie_   \n",
              "6  1641319416368615424 2023-03-30 06:00:17+00:00    sellkpopfess   \n",
              "7  1641319360466939904 2023-03-30 06:00:04+00:00      ocirosi071   \n",
              "8  1641319355115008000 2023-03-30 06:00:03+00:00    sellkpopdata   \n",
              "9  1641319354720743425 2023-03-30 06:00:03+00:00     dagangkorea   \n",
              "\n",
              "                                               tweet  \n",
              "0  @UmaBalachandren @jenifer63597635 @RVikraman @...  \n",
              "1  @RanieFelia @myzxngi lh kok situ yg tantrum.. ...  \n",
              "2  @abcdyoongi_ @ime_indonesia @tiket Dari awal e...  \n",
              "3  Dahla brand mending tiketny buat kalian aja da...  \n",
              "4  8 Cover Lagu Harry Styles yang Berkesan\\nArtis...  \n",
              "5  @indomyfess TAHAN GAISS GAUSAH DIBELI.. KALAU ...  \n",
              "6  ARMY YUK JOIN PAPABEAR GO! \\n\\n✅️ nyelem ina, ...  \n",
              "7  @rahmdess27 Giveaway kok di suruh beli produk ...  \n",
              "8  ARMY YUK JOIN PAPABEAR GO! \\n\\nnyelem ina, kr,...  \n",
              "9  ARMY YUK JOIN PAPABEAR GO! \\n\\nnyelem ina, kr,...  "
            ]
          },
          "execution_count": 4,
          "metadata": {},
          "output_type": "execute_result"
        }
      ],
      "source": [
        "response = tweepy.Cursor(api.search_tweets,\n",
        "        q=search,\n",
        "        lang=\"id\").items(10)\n",
        "\n",
        "results = [[tweet.id_str, tweet.created_at,  tweet.user.screen_name, tweet.text] for tweet in response]\n",
        "hasil = pd.DataFrame(data=results, columns=['id', 'date', 'username', 'tweet'])\n",
        "hasil"
      ]
    },
    {
      "cell_type": "code",
      "execution_count": 5,
      "metadata": {
        "id": "8DXfBb1jA_O2"
      },
      "outputs": [],
      "source": [
        "# hasil.to_csv('tweet.csv', index=False)"
      ]
    }
  ],
  "metadata": {
    "colab": {
      "provenance": []
    },
    "kernelspec": {
      "display_name": "Python 3",
      "name": "python3"
    },
    "language_info": {
      "codemirror_mode": {
        "name": "ipython",
        "version": 3
      },
      "file_extension": ".py",
      "mimetype": "text/x-python",
      "name": "python",
      "nbconvert_exporter": "python",
      "pygments_lexer": "ipython3",
      "version": "3.8.8"
    }
  },
  "nbformat": 4,
  "nbformat_minor": 0
}
